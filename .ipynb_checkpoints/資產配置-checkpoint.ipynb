{
 "cells": [
  {
   "cell_type": "markdown",
   "metadata": {},
   "source": [
    "## 程式說明  Portfolio Optimization with Python using Efficient Frontier with Practical Examples\n",
    "  https://www.machinelearningplus.com/machine-learning/portfolio-optimization-python-example/ \n",
    "\n",
    "\n",
    "## 範例程式 https://ithelp.ithome.com.tw/articles/10249694\n"
   ]
  },
  {
   "cell_type": "code",
   "execution_count": 1,
   "metadata": {},
   "outputs": [],
   "source": [
    "# Load Packages\n",
    "import numpy as np\n",
    "import pandas as pd\n",
    "from pandas_datareader import data\n",
    "import matplotlib.pyplot as plt\n",
    "%matplotlib inline"
   ]
  },
  {
   "cell_type": "code",
   "execution_count": 2,
   "metadata": {},
   "outputs": [
    {
     "data": {
      "text/html": [
       "<div>\n",
       "<style scoped>\n",
       "    .dataframe tbody tr th:only-of-type {\n",
       "        vertical-align: middle;\n",
       "    }\n",
       "\n",
       "    .dataframe tbody tr th {\n",
       "        vertical-align: top;\n",
       "    }\n",
       "\n",
       "    .dataframe thead tr th {\n",
       "        text-align: left;\n",
       "    }\n",
       "\n",
       "    .dataframe thead tr:last-of-type th {\n",
       "        text-align: right;\n",
       "    }\n",
       "</style>\n",
       "<table border=\"1\" class=\"dataframe\">\n",
       "  <thead>\n",
       "    <tr>\n",
       "      <th>Attributes</th>\n",
       "      <th colspan=\"2\" halign=\"left\">Adj Close</th>\n",
       "      <th colspan=\"2\" halign=\"left\">Close</th>\n",
       "      <th colspan=\"2\" halign=\"left\">High</th>\n",
       "      <th colspan=\"2\" halign=\"left\">Low</th>\n",
       "      <th colspan=\"2\" halign=\"left\">Open</th>\n",
       "      <th colspan=\"2\" halign=\"left\">Volume</th>\n",
       "    </tr>\n",
       "    <tr>\n",
       "      <th>Symbols</th>\n",
       "      <th>0050.TW</th>\n",
       "      <th>00679B.TWO</th>\n",
       "      <th>0050.TW</th>\n",
       "      <th>00679B.TWO</th>\n",
       "      <th>0050.TW</th>\n",
       "      <th>00679B.TWO</th>\n",
       "      <th>0050.TW</th>\n",
       "      <th>00679B.TWO</th>\n",
       "      <th>0050.TW</th>\n",
       "      <th>00679B.TWO</th>\n",
       "      <th>0050.TW</th>\n",
       "      <th>00679B.TWO</th>\n",
       "    </tr>\n",
       "    <tr>\n",
       "      <th>Date</th>\n",
       "      <th></th>\n",
       "      <th></th>\n",
       "      <th></th>\n",
       "      <th></th>\n",
       "      <th></th>\n",
       "      <th></th>\n",
       "      <th></th>\n",
       "      <th></th>\n",
       "      <th></th>\n",
       "      <th></th>\n",
       "      <th></th>\n",
       "      <th></th>\n",
       "    </tr>\n",
       "  </thead>\n",
       "  <tbody>\n",
       "    <tr>\n",
       "      <th>2017-01-11</th>\n",
       "      <td>72.400002</td>\n",
       "      <td>39.998798</td>\n",
       "      <td>72.400002</td>\n",
       "      <td>39.998798</td>\n",
       "      <td>72.849998</td>\n",
       "      <td>39.998798</td>\n",
       "      <td>72.400002</td>\n",
       "      <td>39.998798</td>\n",
       "      <td>72.800003</td>\n",
       "      <td>39.998798</td>\n",
       "      <td>1898053.0</td>\n",
       "      <td>0.0</td>\n",
       "    </tr>\n",
       "    <tr>\n",
       "      <th>2017-01-12</th>\n",
       "      <td>73.150002</td>\n",
       "      <td>39.790501</td>\n",
       "      <td>73.150002</td>\n",
       "      <td>39.790501</td>\n",
       "      <td>73.300003</td>\n",
       "      <td>39.790501</td>\n",
       "      <td>72.599998</td>\n",
       "      <td>39.790501</td>\n",
       "      <td>72.599998</td>\n",
       "      <td>39.790501</td>\n",
       "      <td>4857459.0</td>\n",
       "      <td>0.0</td>\n",
       "    </tr>\n",
       "    <tr>\n",
       "      <th>2017-01-13</th>\n",
       "      <td>72.599998</td>\n",
       "      <td>39.560101</td>\n",
       "      <td>72.599998</td>\n",
       "      <td>39.560101</td>\n",
       "      <td>72.800003</td>\n",
       "      <td>39.560101</td>\n",
       "      <td>72.599998</td>\n",
       "      <td>39.560101</td>\n",
       "      <td>72.800003</td>\n",
       "      <td>39.560101</td>\n",
       "      <td>3909860.0</td>\n",
       "      <td>0.0</td>\n",
       "    </tr>\n",
       "    <tr>\n",
       "      <th>2017-01-16</th>\n",
       "      <td>72.000000</td>\n",
       "      <td>NaN</td>\n",
       "      <td>72.000000</td>\n",
       "      <td>NaN</td>\n",
       "      <td>72.400002</td>\n",
       "      <td>NaN</td>\n",
       "      <td>71.800003</td>\n",
       "      <td>NaN</td>\n",
       "      <td>72.400002</td>\n",
       "      <td>NaN</td>\n",
       "      <td>2418439.0</td>\n",
       "      <td>NaN</td>\n",
       "    </tr>\n",
       "    <tr>\n",
       "      <th>2017-01-17</th>\n",
       "      <td>72.300003</td>\n",
       "      <td>39.689999</td>\n",
       "      <td>72.300003</td>\n",
       "      <td>39.689999</td>\n",
       "      <td>72.400002</td>\n",
       "      <td>39.779999</td>\n",
       "      <td>72.000000</td>\n",
       "      <td>39.509998</td>\n",
       "      <td>72.000000</td>\n",
       "      <td>39.700001</td>\n",
       "      <td>1572741.0</td>\n",
       "      <td>928000.0</td>\n",
       "    </tr>\n",
       "  </tbody>\n",
       "</table>\n",
       "</div>"
      ],
      "text/plain": [
       "Attributes  Adj Close                 Close                  High             \\\n",
       "Symbols       0050.TW 00679B.TWO    0050.TW 00679B.TWO    0050.TW 00679B.TWO   \n",
       "Date                                                                           \n",
       "2017-01-11  72.400002  39.998798  72.400002  39.998798  72.849998  39.998798   \n",
       "2017-01-12  73.150002  39.790501  73.150002  39.790501  73.300003  39.790501   \n",
       "2017-01-13  72.599998  39.560101  72.599998  39.560101  72.800003  39.560101   \n",
       "2017-01-16  72.000000        NaN  72.000000        NaN  72.400002        NaN   \n",
       "2017-01-17  72.300003  39.689999  72.300003  39.689999  72.400002  39.779999   \n",
       "\n",
       "Attributes        Low                  Open                Volume             \n",
       "Symbols       0050.TW 00679B.TWO    0050.TW 00679B.TWO    0050.TW 00679B.TWO  \n",
       "Date                                                                          \n",
       "2017-01-11  72.400002  39.998798  72.800003  39.998798  1898053.0        0.0  \n",
       "2017-01-12  72.599998  39.790501  72.599998  39.790501  4857459.0        0.0  \n",
       "2017-01-13  72.599998  39.560101  72.800003  39.560101  3909860.0        0.0  \n",
       "2017-01-16  71.800003        NaN  72.400002        NaN  2418439.0        NaN  \n",
       "2017-01-17  72.000000  39.509998  72.000000  39.700001  1572741.0   928000.0  "
      ]
     },
     "execution_count": 2,
     "metadata": {},
     "output_type": "execute_result"
    }
   ],
   "source": [
    "# Read Data\n",
    "test = data.DataReader(['0050.TW','00679B.TWO'], 'yahoo', start='2017/01/11', end='2021/12/31')\n",
    "test.head()"
   ]
  },
  {
   "cell_type": "code",
   "execution_count": 3,
   "metadata": {},
   "outputs": [
    {
     "data": {
      "text/html": [
       "<div>\n",
       "<style scoped>\n",
       "    .dataframe tbody tr th:only-of-type {\n",
       "        vertical-align: middle;\n",
       "    }\n",
       "\n",
       "    .dataframe tbody tr th {\n",
       "        vertical-align: top;\n",
       "    }\n",
       "\n",
       "    .dataframe thead th {\n",
       "        text-align: right;\n",
       "    }\n",
       "</style>\n",
       "<table border=\"1\" class=\"dataframe\">\n",
       "  <thead>\n",
       "    <tr style=\"text-align: right;\">\n",
       "      <th>Symbols</th>\n",
       "      <th>0050.TW</th>\n",
       "      <th>00679B.TWO</th>\n",
       "    </tr>\n",
       "    <tr>\n",
       "      <th>Date</th>\n",
       "      <th></th>\n",
       "      <th></th>\n",
       "    </tr>\n",
       "  </thead>\n",
       "  <tbody>\n",
       "    <tr>\n",
       "      <th>2017-01-11</th>\n",
       "      <td>72.400002</td>\n",
       "      <td>39.998798</td>\n",
       "    </tr>\n",
       "    <tr>\n",
       "      <th>2017-01-12</th>\n",
       "      <td>73.150002</td>\n",
       "      <td>39.790501</td>\n",
       "    </tr>\n",
       "    <tr>\n",
       "      <th>2017-01-13</th>\n",
       "      <td>72.599998</td>\n",
       "      <td>39.560101</td>\n",
       "    </tr>\n",
       "    <tr>\n",
       "      <th>2017-01-16</th>\n",
       "      <td>72.000000</td>\n",
       "      <td>NaN</td>\n",
       "    </tr>\n",
       "    <tr>\n",
       "      <th>2017-01-17</th>\n",
       "      <td>72.300003</td>\n",
       "      <td>39.689999</td>\n",
       "    </tr>\n",
       "  </tbody>\n",
       "</table>\n",
       "</div>"
      ],
      "text/plain": [
       "Symbols       0050.TW  00679B.TWO\n",
       "Date                             \n",
       "2017-01-11  72.400002   39.998798\n",
       "2017-01-12  73.150002   39.790501\n",
       "2017-01-13  72.599998   39.560101\n",
       "2017-01-16  72.000000         NaN\n",
       "2017-01-17  72.300003   39.689999"
      ]
     },
     "execution_count": 3,
     "metadata": {},
     "output_type": "execute_result"
    }
   ],
   "source": [
    "# Closing price\n",
    "test = test['Adj Close']\n",
    "test.head()"
   ]
  },
  {
   "cell_type": "code",
   "execution_count": 4,
   "metadata": {},
   "outputs": [
    {
     "data": {
      "text/plain": [
       "Date\n",
       "2017-01-11         NaN\n",
       "2017-01-12    0.010306\n",
       "2017-01-13   -0.007547\n",
       "2017-01-16   -0.008299\n",
       "2017-01-17    0.004158\n",
       "Name: 0050.TW, dtype: float64"
      ]
     },
     "execution_count": 4,
     "metadata": {},
     "output_type": "execute_result"
    }
   ],
   "source": [
    "# Log of percentage change\n",
    "etf_0050 = test['0050.TW'].pct_change().apply(lambda x: np.log(1+x))\n",
    "etf_0050.head()"
   ]
  },
  {
   "cell_type": "code",
   "execution_count": 5,
   "metadata": {},
   "outputs": [
    {
     "data": {
      "text/plain": [
       "0.00011387110674204043"
      ]
     },
     "execution_count": 5,
     "metadata": {},
     "output_type": "execute_result"
    }
   ],
   "source": [
    "# Variance\n",
    "var_etf_0050 = etf_0050.var()\n",
    "var_etf_0050"
   ]
  },
  {
   "cell_type": "code",
   "execution_count": 7,
   "metadata": {},
   "outputs": [
    {
     "data": {
      "text/plain": [
       "Date\n",
       "2017-01-11         NaN\n",
       "2017-01-12   -0.005221\n",
       "2017-01-13   -0.005807\n",
       "2017-01-16    0.000000\n",
       "2017-01-17    0.003278\n",
       "Name: 00679B.TWO, dtype: float64"
      ]
     },
     "execution_count": 7,
     "metadata": {},
     "output_type": "execute_result"
    }
   ],
   "source": [
    "# Log of Percentage change for Facebook\n",
    "etf_00679B = test['00679B.TWO'].pct_change().apply(lambda x: np.log(1+x))\n",
    "etf_00679B.head()"
   ]
  },
  {
   "cell_type": "code",
   "execution_count": 8,
   "metadata": {},
   "outputs": [
    {
     "data": {
      "text/plain": [
       "7.289805817802401e-05"
      ]
     },
     "execution_count": 8,
     "metadata": {},
     "output_type": "execute_result"
    }
   ],
   "source": [
    "# Variance\n",
    "var_etf_00679B = etf_00679B.var()\n",
    "var_etf_00679B"
   ]
  },
  {
   "cell_type": "code",
   "execution_count": 9,
   "metadata": {},
   "outputs": [
    {
     "data": {
      "text/plain": [
       "(0.1687239659488542, 0.13499820200471563)"
      ]
     },
     "execution_count": 9,
     "metadata": {},
     "output_type": "execute_result"
    }
   ],
   "source": [
    "# Volatility\n",
    "etf_0050_vol = np.sqrt(var_etf_0050 * 250)\n",
    "etf_00679B_vol = np.sqrt(var_etf_00679B * 250)\n",
    "etf_0050_vol, etf_00679B_vol"
   ]
  },
  {
   "cell_type": "code",
   "execution_count": 10,
   "metadata": {},
   "outputs": [
    {
     "data": {
      "text/plain": [
       "<matplotlib.axes._subplots.AxesSubplot at 0x2d2d82a24e0>"
      ]
     },
     "execution_count": 10,
     "metadata": {},
     "output_type": "execute_result"
    },
    {
     "data": {
      "image/png": "[encoded data removed]",
      "text/plain": [
       "<Figure size 432x288 with 1 Axes>"
      ]
     },
     "metadata": {
      "needs_background": "light"
     },
     "output_type": "display_data"
    }
   ],
   "source": [
    "# Volatility of both stocks\n",
    "test.pct_change().apply(lambda x: np.log(1+x)).std().apply(lambda x: x*np.sqrt(250)).plot(kind='bar')"
   ]
  },
  {
   "cell_type": "code",
   "execution_count": 11,
   "metadata": {},
   "outputs": [
    {
     "data": {
      "text/html": [
       "<div>\n",
       "<style scoped>\n",
       "    .dataframe tbody tr th:only-of-type {\n",
       "        vertical-align: middle;\n",
       "    }\n",
       "\n",
       "    .dataframe tbody tr th {\n",
       "        vertical-align: top;\n",
       "    }\n",
       "\n",
       "    .dataframe thead th {\n",
       "        text-align: right;\n",
       "    }\n",
       "</style>\n",
       "<table border=\"1\" class=\"dataframe\">\n",
       "  <thead>\n",
       "    <tr style=\"text-align: right;\">\n",
       "      <th>Symbols</th>\n",
       "      <th>0050.TW</th>\n",
       "      <th>00679B.TWO</th>\n",
       "    </tr>\n",
       "    <tr>\n",
       "      <th>Date</th>\n",
       "      <th></th>\n",
       "      <th></th>\n",
       "    </tr>\n",
       "  </thead>\n",
       "  <tbody>\n",
       "    <tr>\n",
       "      <th>2017-01-11</th>\n",
       "      <td>NaN</td>\n",
       "      <td>NaN</td>\n",
       "    </tr>\n",
       "    <tr>\n",
       "      <th>2017-01-12</th>\n",
       "      <td>0.010306</td>\n",
       "      <td>-0.005221</td>\n",
       "    </tr>\n",
       "    <tr>\n",
       "      <th>2017-01-13</th>\n",
       "      <td>-0.007547</td>\n",
       "      <td>-0.005807</td>\n",
       "    </tr>\n",
       "    <tr>\n",
       "      <th>2017-01-16</th>\n",
       "      <td>-0.008299</td>\n",
       "      <td>0.000000</td>\n",
       "    </tr>\n",
       "    <tr>\n",
       "      <th>2017-01-17</th>\n",
       "      <td>0.004158</td>\n",
       "      <td>0.003278</td>\n",
       "    </tr>\n",
       "  </tbody>\n",
       "</table>\n",
       "</div>"
      ],
      "text/plain": [
       "Symbols      0050.TW  00679B.TWO\n",
       "Date                            \n",
       "2017-01-11       NaN         NaN\n",
       "2017-01-12  0.010306   -0.005221\n",
       "2017-01-13 -0.007547   -0.005807\n",
       "2017-01-16 -0.008299    0.000000\n",
       "2017-01-17  0.004158    0.003278"
      ]
     },
     "execution_count": 11,
     "metadata": {},
     "output_type": "execute_result"
    }
   ],
   "source": [
    "# Log of Percentage change\n",
    "test1 = test.pct_change().apply(lambda x: np.log(1+x))\n",
    "test1.head()"
   ]
  },
  {
   "cell_type": "code",
   "execution_count": 12,
   "metadata": {},
   "outputs": [
    {
     "data": {
      "text/plain": [
       "-1.906106401383426e-05"
      ]
     },
     "execution_count": 12,
     "metadata": {},
     "output_type": "execute_result"
    }
   ],
   "source": [
    "# Covariance\n",
    "test1['0050.TW'].cov(test1['00679B.TWO'])"
   ]
  },
  {
   "cell_type": "code",
   "execution_count": 13,
   "metadata": {},
   "outputs": [
    {
     "data": {
      "text/plain": [
       "-0.20920997571046213"
      ]
     },
     "execution_count": 13,
     "metadata": {},
     "output_type": "execute_result"
    }
   ],
   "source": [
    "# Correlation\n",
    "test1['0050.TW'].corr(test1['00679B.TWO'])"
   ]
  },
  {
   "cell_type": "code",
   "execution_count": 14,
   "metadata": {},
   "outputs": [
    {
     "data": {
      "text/html": [
       "<div>\n",
       "<style scoped>\n",
       "    .dataframe tbody tr th:only-of-type {\n",
       "        vertical-align: middle;\n",
       "    }\n",
       "\n",
       "    .dataframe tbody tr th {\n",
       "        vertical-align: top;\n",
       "    }\n",
       "\n",
       "    .dataframe thead th {\n",
       "        text-align: right;\n",
       "    }\n",
       "</style>\n",
       "<table border=\"1\" class=\"dataframe\">\n",
       "  <thead>\n",
       "    <tr style=\"text-align: right;\">\n",
       "      <th>Symbols</th>\n",
       "      <th>0050.TW</th>\n",
       "      <th>00679B.TWO</th>\n",
       "    </tr>\n",
       "    <tr>\n",
       "      <th>Date</th>\n",
       "      <th></th>\n",
       "      <th></th>\n",
       "    </tr>\n",
       "  </thead>\n",
       "  <tbody>\n",
       "    <tr>\n",
       "      <th>2017-01-11</th>\n",
       "      <td>NaN</td>\n",
       "      <td>NaN</td>\n",
       "    </tr>\n",
       "    <tr>\n",
       "      <th>2017-01-12</th>\n",
       "      <td>0.010306</td>\n",
       "      <td>-0.005221</td>\n",
       "    </tr>\n",
       "    <tr>\n",
       "      <th>2017-01-13</th>\n",
       "      <td>-0.007547</td>\n",
       "      <td>-0.005807</td>\n",
       "    </tr>\n",
       "    <tr>\n",
       "      <th>2017-01-16</th>\n",
       "      <td>-0.008299</td>\n",
       "      <td>0.000000</td>\n",
       "    </tr>\n",
       "    <tr>\n",
       "      <th>2017-01-17</th>\n",
       "      <td>0.004158</td>\n",
       "      <td>0.003278</td>\n",
       "    </tr>\n",
       "  </tbody>\n",
       "</table>\n",
       "</div>"
      ],
      "text/plain": [
       "Symbols      0050.TW  00679B.TWO\n",
       "Date                            \n",
       "2017-01-11       NaN         NaN\n",
       "2017-01-12  0.010306   -0.005221\n",
       "2017-01-13 -0.007547   -0.005807\n",
       "2017-01-16 -0.008299    0.000000\n",
       "2017-01-17  0.004158    0.003278"
      ]
     },
     "execution_count": 14,
     "metadata": {},
     "output_type": "execute_result"
    }
   ],
   "source": [
    "# Expected Returns\n",
    "test2 = test.pct_change().apply(lambda x: np.log(1+x))\n",
    "test2.head()"
   ]
  },
  {
   "cell_type": "code",
   "execution_count": 15,
   "metadata": {},
   "outputs": [
    {
     "data": {
      "text/plain": [
       "Symbols\n",
       "0050.TW       0.000576\n",
       "00679B.TWO    0.000025\n",
       "dtype: float64"
      ]
     },
     "execution_count": 15,
     "metadata": {},
     "output_type": "execute_result"
    }
   ],
   "source": [
    "# Define weights for allocation\n",
    "w = [0.2, 0.8]\n",
    "e_r_ind = test2.mean()\n",
    "e_r_ind"
   ]
  },
  {
   "cell_type": "code",
   "execution_count": 16,
   "metadata": {},
   "outputs": [
    {
     "data": {
      "text/plain": [
       "0.00013502748098413522"
      ]
     },
     "execution_count": 16,
     "metadata": {},
     "output_type": "execute_result"
    }
   ],
   "source": [
    "# Total expected return\n",
    "e_r = (e_r_ind*w).sum()\n",
    "e_r"
   ]
  },
  {
   "cell_type": "markdown",
   "metadata": {},
   "source": [
    "## 實戰"
   ]
  },
  {
   "cell_type": "code",
   "execution_count": 17,
   "metadata": {},
   "outputs": [
    {
     "data": {
      "text/html": [
       "<div>\n",
       "<style scoped>\n",
       "    .dataframe tbody tr th:only-of-type {\n",
       "        vertical-align: middle;\n",
       "    }\n",
       "\n",
       "    .dataframe tbody tr th {\n",
       "        vertical-align: top;\n",
       "    }\n",
       "\n",
       "    .dataframe thead tr th {\n",
       "        text-align: left;\n",
       "    }\n",
       "\n",
       "    .dataframe thead tr:last-of-type th {\n",
       "        text-align: right;\n",
       "    }\n",
       "</style>\n",
       "<table border=\"1\" class=\"dataframe\">\n",
       "  <thead>\n",
       "    <tr>\n",
       "      <th>Attributes</th>\n",
       "      <th colspan=\"2\" halign=\"left\">Adj Close</th>\n",
       "      <th colspan=\"2\" halign=\"left\">Close</th>\n",
       "      <th colspan=\"2\" halign=\"left\">High</th>\n",
       "      <th colspan=\"2\" halign=\"left\">Low</th>\n",
       "      <th colspan=\"2\" halign=\"left\">Open</th>\n",
       "      <th colspan=\"2\" halign=\"left\">Volume</th>\n",
       "    </tr>\n",
       "    <tr>\n",
       "      <th>Symbols</th>\n",
       "      <th>0050.TW</th>\n",
       "      <th>00679B.TWO</th>\n",
       "      <th>0050.TW</th>\n",
       "      <th>00679B.TWO</th>\n",
       "      <th>0050.TW</th>\n",
       "      <th>00679B.TWO</th>\n",
       "      <th>0050.TW</th>\n",
       "      <th>00679B.TWO</th>\n",
       "      <th>0050.TW</th>\n",
       "      <th>00679B.TWO</th>\n",
       "      <th>0050.TW</th>\n",
       "      <th>00679B.TWO</th>\n",
       "    </tr>\n",
       "    <tr>\n",
       "      <th>Date</th>\n",
       "      <th></th>\n",
       "      <th></th>\n",
       "      <th></th>\n",
       "      <th></th>\n",
       "      <th></th>\n",
       "      <th></th>\n",
       "      <th></th>\n",
       "      <th></th>\n",
       "      <th></th>\n",
       "      <th></th>\n",
       "      <th></th>\n",
       "      <th></th>\n",
       "    </tr>\n",
       "  </thead>\n",
       "  <tbody>\n",
       "    <tr>\n",
       "      <th>2017-01-11</th>\n",
       "      <td>72.400002</td>\n",
       "      <td>39.998798</td>\n",
       "      <td>72.400002</td>\n",
       "      <td>39.998798</td>\n",
       "      <td>72.849998</td>\n",
       "      <td>39.998798</td>\n",
       "      <td>72.400002</td>\n",
       "      <td>39.998798</td>\n",
       "      <td>72.800003</td>\n",
       "      <td>39.998798</td>\n",
       "      <td>1898053.0</td>\n",
       "      <td>0.0</td>\n",
       "    </tr>\n",
       "    <tr>\n",
       "      <th>2017-01-12</th>\n",
       "      <td>73.150002</td>\n",
       "      <td>39.790501</td>\n",
       "      <td>73.150002</td>\n",
       "      <td>39.790501</td>\n",
       "      <td>73.300003</td>\n",
       "      <td>39.790501</td>\n",
       "      <td>72.599998</td>\n",
       "      <td>39.790501</td>\n",
       "      <td>72.599998</td>\n",
       "      <td>39.790501</td>\n",
       "      <td>4857459.0</td>\n",
       "      <td>0.0</td>\n",
       "    </tr>\n",
       "    <tr>\n",
       "      <th>2017-01-13</th>\n",
       "      <td>72.599998</td>\n",
       "      <td>39.560101</td>\n",
       "      <td>72.599998</td>\n",
       "      <td>39.560101</td>\n",
       "      <td>72.800003</td>\n",
       "      <td>39.560101</td>\n",
       "      <td>72.599998</td>\n",
       "      <td>39.560101</td>\n",
       "      <td>72.800003</td>\n",
       "      <td>39.560101</td>\n",
       "      <td>3909860.0</td>\n",
       "      <td>0.0</td>\n",
       "    </tr>\n",
       "    <tr>\n",
       "      <th>2017-01-16</th>\n",
       "      <td>72.000000</td>\n",
       "      <td>NaN</td>\n",
       "      <td>72.000000</td>\n",
       "      <td>NaN</td>\n",
       "      <td>72.400002</td>\n",
       "      <td>NaN</td>\n",
       "      <td>71.800003</td>\n",
       "      <td>NaN</td>\n",
       "      <td>72.400002</td>\n",
       "      <td>NaN</td>\n",
       "      <td>2418439.0</td>\n",
       "      <td>NaN</td>\n",
       "    </tr>\n",
       "    <tr>\n",
       "      <th>2017-01-17</th>\n",
       "      <td>72.300003</td>\n",
       "      <td>39.689999</td>\n",
       "      <td>72.300003</td>\n",
       "      <td>39.689999</td>\n",
       "      <td>72.400002</td>\n",
       "      <td>39.779999</td>\n",
       "      <td>72.000000</td>\n",
       "      <td>39.509998</td>\n",
       "      <td>72.000000</td>\n",
       "      <td>39.700001</td>\n",
       "      <td>1572741.0</td>\n",
       "      <td>928000.0</td>\n",
       "    </tr>\n",
       "  </tbody>\n",
       "</table>\n",
       "</div>"
      ],
      "text/plain": [
       "Attributes  Adj Close                 Close                  High             \\\n",
       "Symbols       0050.TW 00679B.TWO    0050.TW 00679B.TWO    0050.TW 00679B.TWO   \n",
       "Date                                                                           \n",
       "2017-01-11  72.400002  39.998798  72.400002  39.998798  72.849998  39.998798   \n",
       "2017-01-12  73.150002  39.790501  73.150002  39.790501  73.300003  39.790501   \n",
       "2017-01-13  72.599998  39.560101  72.599998  39.560101  72.800003  39.560101   \n",
       "2017-01-16  72.000000        NaN  72.000000        NaN  72.400002        NaN   \n",
       "2017-01-17  72.300003  39.689999  72.300003  39.689999  72.400002  39.779999   \n",
       "\n",
       "Attributes        Low                  Open                Volume             \n",
       "Symbols       0050.TW 00679B.TWO    0050.TW 00679B.TWO    0050.TW 00679B.TWO  \n",
       "Date                                                                          \n",
       "2017-01-11  72.400002  39.998798  72.800003  39.998798  1898053.0        0.0  \n",
       "2017-01-12  72.599998  39.790501  72.599998  39.790501  4857459.0        0.0  \n",
       "2017-01-13  72.599998  39.560101  72.800003  39.560101  3909860.0        0.0  \n",
       "2017-01-16  71.800003        NaN  72.400002        NaN  2418439.0        NaN  \n",
       "2017-01-17  72.000000  39.509998  72.000000  39.700001  1572741.0   928000.0  "
      ]
     },
     "execution_count": 17,
     "metadata": {},
     "output_type": "execute_result"
    }
   ],
   "source": [
    "# Import data\n",
    "df = data.DataReader(['0050.TW','00679B.TWO'], 'yahoo', start='2017/01/11', end='2021/12/31')\n",
    "df.head()"
   ]
  },
  {
   "cell_type": "code",
   "execution_count": 18,
   "metadata": {},
   "outputs": [
    {
     "data": {
      "text/html": [
       "<div>\n",
       "<style scoped>\n",
       "    .dataframe tbody tr th:only-of-type {\n",
       "        vertical-align: middle;\n",
       "    }\n",
       "\n",
       "    .dataframe tbody tr th {\n",
       "        vertical-align: top;\n",
       "    }\n",
       "\n",
       "    .dataframe thead th {\n",
       "        text-align: right;\n",
       "    }\n",
       "</style>\n",
       "<table border=\"1\" class=\"dataframe\">\n",
       "  <thead>\n",
       "    <tr style=\"text-align: right;\">\n",
       "      <th>Symbols</th>\n",
       "      <th>0050.TW</th>\n",
       "      <th>00679B.TWO</th>\n",
       "    </tr>\n",
       "    <tr>\n",
       "      <th>Date</th>\n",
       "      <th></th>\n",
       "      <th></th>\n",
       "    </tr>\n",
       "  </thead>\n",
       "  <tbody>\n",
       "    <tr>\n",
       "      <th>2017-01-11</th>\n",
       "      <td>72.400002</td>\n",
       "      <td>39.998798</td>\n",
       "    </tr>\n",
       "    <tr>\n",
       "      <th>2017-01-12</th>\n",
       "      <td>73.150002</td>\n",
       "      <td>39.790501</td>\n",
       "    </tr>\n",
       "    <tr>\n",
       "      <th>2017-01-13</th>\n",
       "      <td>72.599998</td>\n",
       "      <td>39.560101</td>\n",
       "    </tr>\n",
       "    <tr>\n",
       "      <th>2017-01-16</th>\n",
       "      <td>72.000000</td>\n",
       "      <td>NaN</td>\n",
       "    </tr>\n",
       "    <tr>\n",
       "      <th>2017-01-17</th>\n",
       "      <td>72.300003</td>\n",
       "      <td>39.689999</td>\n",
       "    </tr>\n",
       "  </tbody>\n",
       "</table>\n",
       "</div>"
      ],
      "text/plain": [
       "Symbols       0050.TW  00679B.TWO\n",
       "Date                             \n",
       "2017-01-11  72.400002   39.998798\n",
       "2017-01-12  73.150002   39.790501\n",
       "2017-01-13  72.599998   39.560101\n",
       "2017-01-16  72.000000         NaN\n",
       "2017-01-17  72.300003   39.689999"
      ]
     },
     "execution_count": 18,
     "metadata": {},
     "output_type": "execute_result"
    }
   ],
   "source": [
    "# Closing price\n",
    "df = df['Adj Close']\n",
    "df.head()"
   ]
  },
  {
   "cell_type": "code",
   "execution_count": 19,
   "metadata": {},
   "outputs": [
    {
     "data": {
      "text/html": [
       "<div>\n",
       "<style scoped>\n",
       "    .dataframe tbody tr th:only-of-type {\n",
       "        vertical-align: middle;\n",
       "    }\n",
       "\n",
       "    .dataframe tbody tr th {\n",
       "        vertical-align: top;\n",
       "    }\n",
       "\n",
       "    .dataframe thead th {\n",
       "        text-align: right;\n",
       "    }\n",
       "</style>\n",
       "<table border=\"1\" class=\"dataframe\">\n",
       "  <thead>\n",
       "    <tr style=\"text-align: right;\">\n",
       "      <th>Symbols</th>\n",
       "      <th>0050.TW</th>\n",
       "      <th>00679B.TWO</th>\n",
       "    </tr>\n",
       "    <tr>\n",
       "      <th>Symbols</th>\n",
       "      <th></th>\n",
       "      <th></th>\n",
       "    </tr>\n",
       "  </thead>\n",
       "  <tbody>\n",
       "    <tr>\n",
       "      <th>0050.TW</th>\n",
       "      <td>0.000114</td>\n",
       "      <td>-0.000019</td>\n",
       "    </tr>\n",
       "    <tr>\n",
       "      <th>00679B.TWO</th>\n",
       "      <td>-0.000019</td>\n",
       "      <td>0.000073</td>\n",
       "    </tr>\n",
       "  </tbody>\n",
       "</table>\n",
       "</div>"
      ],
      "text/plain": [
       "Symbols      0050.TW  00679B.TWO\n",
       "Symbols                         \n",
       "0050.TW     0.000114   -0.000019\n",
       "00679B.TWO -0.000019    0.000073"
      ]
     },
     "execution_count": 19,
     "metadata": {},
     "output_type": "execute_result"
    }
   ],
   "source": [
    "# Log of percentage change\n",
    "cov_matrix = df.pct_change().apply(lambda x: np.log(1+x)).cov()\n",
    "cov_matrix"
   ]
  },
  {
   "cell_type": "code",
   "execution_count": 20,
   "metadata": {},
   "outputs": [
    {
     "data": {
      "text/html": [
       "<div>\n",
       "<style scoped>\n",
       "    .dataframe tbody tr th:only-of-type {\n",
       "        vertical-align: middle;\n",
       "    }\n",
       "\n",
       "    .dataframe tbody tr th {\n",
       "        vertical-align: top;\n",
       "    }\n",
       "\n",
       "    .dataframe thead th {\n",
       "        text-align: right;\n",
       "    }\n",
       "</style>\n",
       "<table border=\"1\" class=\"dataframe\">\n",
       "  <thead>\n",
       "    <tr style=\"text-align: right;\">\n",
       "      <th>Symbols</th>\n",
       "      <th>0050.TW</th>\n",
       "      <th>00679B.TWO</th>\n",
       "    </tr>\n",
       "    <tr>\n",
       "      <th>Symbols</th>\n",
       "      <th></th>\n",
       "      <th></th>\n",
       "    </tr>\n",
       "  </thead>\n",
       "  <tbody>\n",
       "    <tr>\n",
       "      <th>0050.TW</th>\n",
       "      <td>1.00000</td>\n",
       "      <td>-0.20921</td>\n",
       "    </tr>\n",
       "    <tr>\n",
       "      <th>00679B.TWO</th>\n",
       "      <td>-0.20921</td>\n",
       "      <td>1.00000</td>\n",
       "    </tr>\n",
       "  </tbody>\n",
       "</table>\n",
       "</div>"
      ],
      "text/plain": [
       "Symbols     0050.TW  00679B.TWO\n",
       "Symbols                        \n",
       "0050.TW     1.00000    -0.20921\n",
       "00679B.TWO -0.20921     1.00000"
      ]
     },
     "execution_count": 20,
     "metadata": {},
     "output_type": "execute_result"
    }
   ],
   "source": [
    "corr_matrix = df.pct_change().apply(lambda x: np.log(1+x)).corr()\n",
    "corr_matrix"
   ]
  },
  {
   "cell_type": "code",
   "execution_count": 21,
   "metadata": {},
   "outputs": [
    {
     "data": {
      "text/plain": [
       "5.6755146669129696e-05"
      ]
     },
     "execution_count": 21,
     "metadata": {},
     "output_type": "execute_result"
    }
   ],
   "source": [
    "# Randomly weighted portfolio's variance\n",
    "w = {'0050.TW': 0.1, '00679B.TWO': 0.9}\n",
    "port_var = cov_matrix.mul(w, axis=0).mul(w, axis=1).sum().sum()\n",
    "port_var"
   ]
  },
  {
   "cell_type": "code",
   "execution_count": 22,
   "metadata": {},
   "outputs": [
    {
     "data": {
      "text/plain": [
       "Symbols\n",
       "0050.TW       0.163575\n",
       "00679B.TWO    0.017544\n",
       "dtype: float64"
      ]
     },
     "execution_count": 22,
     "metadata": {},
     "output_type": "execute_result"
    }
   ],
   "source": [
    "# Yearly returns for individual companies\n",
    "ind_er = df.resample('Y').last().pct_change().mean()\n",
    "ind_er"
   ]
  },
  {
   "cell_type": "code",
   "execution_count": 23,
   "metadata": {},
   "outputs": [
    {
     "data": {
      "text/plain": [
       "0.04675053054756696"
      ]
     },
     "execution_count": 23,
     "metadata": {},
     "output_type": "execute_result"
    }
   ],
   "source": [
    "# Portfolio returns\n",
    "w = [0.2, 0.8]\n",
    "port_er = (w*ind_er).sum()\n",
    "port_er"
   ]
  },
  {
   "cell_type": "code",
   "execution_count": 24,
   "metadata": {},
   "outputs": [
    {
     "data": {
      "text/plain": [
       "Symbols\n",
       "0050.TW       0.168724\n",
       "00679B.TWO    0.134998\n",
       "dtype: float64"
      ]
     },
     "execution_count": 24,
     "metadata": {},
     "output_type": "execute_result"
    }
   ],
   "source": [
    "# Volatility is given by the annual standard deviation. We multiply by 250 because there are 250 trading days/year.\n",
    "ann_sd = df.pct_change().apply(lambda x: np.log(1+x)).std().apply(lambda x: x*np.sqrt(250))\n",
    "ann_sd"
   ]
  },
  {
   "cell_type": "code",
   "execution_count": 25,
   "metadata": {},
   "outputs": [
    {
     "data": {
      "text/html": [
       "<div>\n",
       "<style scoped>\n",
       "    .dataframe tbody tr th:only-of-type {\n",
       "        vertical-align: middle;\n",
       "    }\n",
       "\n",
       "    .dataframe tbody tr th {\n",
       "        vertical-align: top;\n",
       "    }\n",
       "\n",
       "    .dataframe thead th {\n",
       "        text-align: right;\n",
       "    }\n",
       "</style>\n",
       "<table border=\"1\" class=\"dataframe\">\n",
       "  <thead>\n",
       "    <tr style=\"text-align: right;\">\n",
       "      <th></th>\n",
       "      <th>Returns</th>\n",
       "      <th>Volatility</th>\n",
       "    </tr>\n",
       "    <tr>\n",
       "      <th>Symbols</th>\n",
       "      <th></th>\n",
       "      <th></th>\n",
       "    </tr>\n",
       "  </thead>\n",
       "  <tbody>\n",
       "    <tr>\n",
       "      <th>0050.TW</th>\n",
       "      <td>0.163575</td>\n",
       "      <td>0.168724</td>\n",
       "    </tr>\n",
       "    <tr>\n",
       "      <th>00679B.TWO</th>\n",
       "      <td>0.017544</td>\n",
       "      <td>0.134998</td>\n",
       "    </tr>\n",
       "  </tbody>\n",
       "</table>\n",
       "</div>"
      ],
      "text/plain": [
       "             Returns  Volatility\n",
       "Symbols                         \n",
       "0050.TW     0.163575    0.168724\n",
       "00679B.TWO  0.017544    0.134998"
      ]
     },
     "execution_count": 25,
     "metadata": {},
     "output_type": "execute_result"
    }
   ],
   "source": [
    "assets = pd.concat([ind_er, ann_sd], axis=1) # Creating a table for visualising returns and volatility of assets\n",
    "assets.columns = ['Returns', 'Volatility']\n",
    "assets"
   ]
  },
  {
   "cell_type": "code",
   "execution_count": 26,
   "metadata": {},
   "outputs": [],
   "source": [
    "p_ret = [] # Define an empty array for portfolio returns\n",
    "p_vol = [] # Define an empty array for portfolio volatility\n",
    "p_weights = [] # Define an empty array for asset weights\n",
    "\n",
    "num_assets = len(df.columns)\n",
    "num_portfolios = 10000"
   ]
  },
  {
   "cell_type": "code",
   "execution_count": 27,
   "metadata": {},
   "outputs": [],
   "source": [
    "for portfolio in range(num_portfolios):\n",
    "    weights = np.random.random(num_assets)\n",
    "    weights = weights/np.sum(weights)\n",
    "    p_weights.append(weights)\n",
    "    returns = np.dot(weights, ind_er) # Returns are the product of individual expected returns of asset and its \n",
    "                                      # weights \n",
    "    p_ret.append(returns)\n",
    "    var = cov_matrix.mul(weights, axis=0).mul(weights, axis=1).sum().sum()# Portfolio Variance\n",
    "    sd = np.sqrt(var) # Daily standard deviation\n",
    "    ann_sd = sd*np.sqrt(250) # Annual standard deviation = volatility\n",
    "    p_vol.append(ann_sd)"
   ]
  },
  {
   "cell_type": "code",
   "execution_count": 28,
   "metadata": {},
   "outputs": [],
   "source": [
    "data = {'Returns':p_ret, 'Volatility':p_vol}\n",
    "\n",
    "for counter, symbol in enumerate(df.columns.tolist()):\n",
    "    #print(counter, symbol)\n",
    "    data[symbol+' weight'] = [w[counter] for w in p_weights]"
   ]
  },
  {
   "cell_type": "code",
   "execution_count": 29,
   "metadata": {},
   "outputs": [
    {
     "data": {
      "text/html": [
       "<div>\n",
       "<style scoped>\n",
       "    .dataframe tbody tr th:only-of-type {\n",
       "        vertical-align: middle;\n",
       "    }\n",
       "\n",
       "    .dataframe tbody tr th {\n",
       "        vertical-align: top;\n",
       "    }\n",
       "\n",
       "    .dataframe thead th {\n",
       "        text-align: right;\n",
       "    }\n",
       "</style>\n",
       "<table border=\"1\" class=\"dataframe\">\n",
       "  <thead>\n",
       "    <tr style=\"text-align: right;\">\n",
       "      <th></th>\n",
       "      <th>Returns</th>\n",
       "      <th>Volatility</th>\n",
       "      <th>0050.TW weight</th>\n",
       "      <th>00679B.TWO weight</th>\n",
       "    </tr>\n",
       "  </thead>\n",
       "  <tbody>\n",
       "    <tr>\n",
       "      <th>0</th>\n",
       "      <td>0.062752</td>\n",
       "      <td>0.096843</td>\n",
       "      <td>0.309578</td>\n",
       "      <td>0.690422</td>\n",
       "    </tr>\n",
       "    <tr>\n",
       "      <th>1</th>\n",
       "      <td>0.096991</td>\n",
       "      <td>0.099250</td>\n",
       "      <td>0.544043</td>\n",
       "      <td>0.455957</td>\n",
       "    </tr>\n",
       "    <tr>\n",
       "      <th>2</th>\n",
       "      <td>0.085229</td>\n",
       "      <td>0.094823</td>\n",
       "      <td>0.463493</td>\n",
       "      <td>0.536507</td>\n",
       "    </tr>\n",
       "    <tr>\n",
       "      <th>3</th>\n",
       "      <td>0.067125</td>\n",
       "      <td>0.095365</td>\n",
       "      <td>0.339519</td>\n",
       "      <td>0.660481</td>\n",
       "    </tr>\n",
       "    <tr>\n",
       "      <th>4</th>\n",
       "      <td>0.079009</td>\n",
       "      <td>0.093979</td>\n",
       "      <td>0.420904</td>\n",
       "      <td>0.579096</td>\n",
       "    </tr>\n",
       "  </tbody>\n",
       "</table>\n",
       "</div>"
      ],
      "text/plain": [
       "    Returns  Volatility  0050.TW weight  00679B.TWO weight\n",
       "0  0.062752    0.096843        0.309578           0.690422\n",
       "1  0.096991    0.099250        0.544043           0.455957\n",
       "2  0.085229    0.094823        0.463493           0.536507\n",
       "3  0.067125    0.095365        0.339519           0.660481\n",
       "4  0.079009    0.093979        0.420904           0.579096"
      ]
     },
     "execution_count": 29,
     "metadata": {},
     "output_type": "execute_result"
    }
   ],
   "source": [
    "portfolios  = pd.DataFrame(data)\n",
    "portfolios.head() # Dataframe of the 10000 portfolios created"
   ]
  },
  {
   "cell_type": "code",
   "execution_count": 30,
   "metadata": {},
   "outputs": [
    {
     "data": {
      "text/plain": [
       "<matplotlib.axes._subplots.AxesSubplot at 0x2d2d7fd4a90>"
      ]
     },
     "execution_count": 30,
     "metadata": {},
     "output_type": "execute_result"
    },
    {
     "data": {
      "image/png": "[encoded data removed]",
      "text/plain": [
       "<Figure size 720x720 with 1 Axes>"
      ]
     },
     "metadata": {
      "needs_background": "light"
     },
     "output_type": "display_data"
    }
   ],
   "source": [
    "# Plot efficient frontier\n",
    "portfolios.plot.scatter(x='Volatility', y='Returns', marker='o', s=10, alpha=0.3, grid=True, figsize=[10,10])"
   ]
  },
  {
   "cell_type": "code",
   "execution_count": 31,
   "metadata": {},
   "outputs": [
    {
     "data": {
      "text/plain": [
       "Returns              0.077251\n",
       "Volatility           0.093936\n",
       "0050.TW weight       0.408861\n",
       "00679B.TWO weight    0.591139\n",
       "Name: 185, dtype: float64"
      ]
     },
     "execution_count": 31,
     "metadata": {},
     "output_type": "execute_result"
    }
   ],
   "source": [
    "min_vol_port = portfolios.iloc[portfolios['Volatility'].idxmin()]\n",
    "# idxmin() gives us the minimum value in the column specified.                               \n",
    "min_vol_port"
   ]
  },
  {
   "cell_type": "code",
   "execution_count": 32,
   "metadata": {},
   "outputs": [
    {
     "data": {
      "text/plain": [
       "<matplotlib.collections.PathCollection at 0x2d2d7ef4e80>"
      ]
     },
     "execution_count": 32,
     "metadata": {},
     "output_type": "execute_result"
    },
    {
     "data": {
      "image/png": "[encoded data removed]",
      "text/plain": [
       "<Figure size 720x720 with 1 Axes>"
      ]
     },
     "metadata": {
      "needs_background": "light"
     },
     "output_type": "display_data"
    }
   ],
   "source": [
    "# plotting the minimum volatility portfolio\n",
    "plt.subplots(figsize=[10,10])\n",
    "plt.scatter(portfolios['Volatility'], portfolios['Returns'],marker='o', s=10, alpha=0.3)\n",
    "plt.scatter(min_vol_port[1], min_vol_port[0], color='r', marker='*', s=500)"
   ]
  },
  {
   "cell_type": "code",
   "execution_count": 33,
   "metadata": {},
   "outputs": [
    {
     "data": {
      "text/plain": [
       "Returns              0.127017\n",
       "Volatility           0.123903\n",
       "0050.TW weight       0.749655\n",
       "00679B.TWO weight    0.250345\n",
       "Name: 6069, dtype: float64"
      ]
     },
     "execution_count": 33,
     "metadata": {},
     "output_type": "execute_result"
    }
   ],
   "source": [
    "# Finding the optimal portfolio\n",
    "rf = 0.01 # risk factor\n",
    "optimal_risky_port = portfolios.iloc[((portfolios['Returns']-rf)/portfolios['Volatility']).idxmax()]\n",
    "optimal_risky_port"
   ]
  },
  {
   "cell_type": "code",
   "execution_count": 34,
   "metadata": {},
   "outputs": [
    {
     "data": {
      "text/plain": [
       "<matplotlib.collections.PathCollection at 0x2d2da13f668>"
      ]
     },
     "execution_count": 34,
     "metadata": {},
     "output_type": "execute_result"
    },
    {
     "data": {
      "image/png": "[encoded data removed]",
      "text/plain": [
       "<Figure size 720x720 with 1 Axes>"
      ]
     },
     "metadata": {
      "needs_background": "light"
     },
     "output_type": "display_data"
    }
   ],
   "source": [
    "# Plotting optimal portfolio\n",
    "plt.subplots(figsize=(10, 10))\n",
    "plt.scatter(portfolios['Volatility'], portfolios['Returns'],marker='o', s=10, alpha=0.3)\n",
    "plt.scatter(min_vol_port[1], min_vol_port[0], color='r', marker='*', s=500)\n",
    "plt.scatter(optimal_risky_port[1], optimal_risky_port[0], color='g', marker='*', s=500)"
   ]
  },
  {
   "cell_type": "code",
   "execution_count": null,
   "metadata": {},
   "outputs": [],
   "source": []
  }
 ],
 "metadata": {
  "kernelspec": {
   "display_name": "Python 3",
   "language": "python",
   "name": "python3"
  },
  "language_info": {
   "codemirror_mode": {
    "name": "ipython",
    "version": 3
   },
   "file_extension": ".py",
   "mimetype": "text/x-python",
   "name": "python",
   "nbconvert_exporter": "python",
   "pygments_lexer": "ipython3",
   "version": "3.7.3"
  }
 },
 "nbformat": 4,
 "nbformat_minor": 2
}
