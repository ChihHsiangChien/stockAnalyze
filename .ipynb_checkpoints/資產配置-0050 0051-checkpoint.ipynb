{
 "cells": [
  {
   "cell_type": "markdown",
   "metadata": {},
   "source": [
    "## 程式說明  Portfolio Optimization with Python using Efficient Frontier with Practical Examples\n",
    "  https://www.machinelearningplus.com/machine-learning/portfolio-optimization-python-example/ \n",
    "\n",
    "\n",
    "## 範例程式 https://ithelp.ithome.com.tw/articles/10249694\n"
   ]
  },
  {
   "cell_type": "code",
   "execution_count": 1,
   "metadata": {},
   "outputs": [],
   "source": [
    "# Load Packages\n",
    "import numpy as np\n",
    "import pandas as pd\n",
    "from pandas_datareader import data\n",
    "import matplotlib.pyplot as plt\n",
    "%matplotlib inline"
   ]
  },
  {
   "cell_type": "code",
   "execution_count": 2,
   "metadata": {},
   "outputs": [
    {
     "data": {
      "text/html": [
       "<div>\n",
       "<style scoped>\n",
       "    .dataframe tbody tr th:only-of-type {\n",
       "        vertical-align: middle;\n",
       "    }\n",
       "\n",
       "    .dataframe tbody tr th {\n",
       "        vertical-align: top;\n",
       "    }\n",
       "\n",
       "    .dataframe thead tr th {\n",
       "        text-align: left;\n",
       "    }\n",
       "\n",
       "    .dataframe thead tr:last-of-type th {\n",
       "        text-align: right;\n",
       "    }\n",
       "</style>\n",
       "<table border=\"1\" class=\"dataframe\">\n",
       "  <thead>\n",
       "    <tr>\n",
       "      <th>Attributes</th>\n",
       "      <th colspan=\"2\" halign=\"left\">Adj Close</th>\n",
       "      <th colspan=\"2\" halign=\"left\">Close</th>\n",
       "      <th colspan=\"2\" halign=\"left\">High</th>\n",
       "      <th colspan=\"2\" halign=\"left\">Low</th>\n",
       "      <th colspan=\"2\" halign=\"left\">Open</th>\n",
       "      <th colspan=\"2\" halign=\"left\">Volume</th>\n",
       "    </tr>\n",
       "    <tr>\n",
       "      <th>Symbols</th>\n",
       "      <th>0050.TW</th>\n",
       "      <th>00679B.TWO</th>\n",
       "      <th>0050.TW</th>\n",
       "      <th>00679B.TWO</th>\n",
       "      <th>0050.TW</th>\n",
       "      <th>00679B.TWO</th>\n",
       "      <th>0050.TW</th>\n",
       "      <th>00679B.TWO</th>\n",
       "      <th>0050.TW</th>\n",
       "      <th>00679B.TWO</th>\n",
       "      <th>0050.TW</th>\n",
       "      <th>00679B.TWO</th>\n",
       "    </tr>\n",
       "    <tr>\n",
       "      <th>Date</th>\n",
       "      <th></th>\n",
       "      <th></th>\n",
       "      <th></th>\n",
       "      <th></th>\n",
       "      <th></th>\n",
       "      <th></th>\n",
       "      <th></th>\n",
       "      <th></th>\n",
       "      <th></th>\n",
       "      <th></th>\n",
       "      <th></th>\n",
       "      <th></th>\n",
       "    </tr>\n",
       "  </thead>\n",
       "  <tbody>\n",
       "    <tr>\n",
       "      <th>2017-01-11</th>\n",
       "      <td>72.400002</td>\n",
       "      <td>39.998798</td>\n",
       "      <td>72.400002</td>\n",
       "      <td>39.998798</td>\n",
       "      <td>72.849998</td>\n",
       "      <td>39.998798</td>\n",
       "      <td>72.400002</td>\n",
       "      <td>39.998798</td>\n",
       "      <td>72.800003</td>\n",
       "      <td>39.998798</td>\n",
       "      <td>1898053.0</td>\n",
       "      <td>0.0</td>\n",
       "    </tr>\n",
       "    <tr>\n",
       "      <th>2017-01-12</th>\n",
       "      <td>73.150002</td>\n",
       "      <td>39.790501</td>\n",
       "      <td>73.150002</td>\n",
       "      <td>39.790501</td>\n",
       "      <td>73.300003</td>\n",
       "      <td>39.790501</td>\n",
       "      <td>72.599998</td>\n",
       "      <td>39.790501</td>\n",
       "      <td>72.599998</td>\n",
       "      <td>39.790501</td>\n",
       "      <td>4857459.0</td>\n",
       "      <td>0.0</td>\n",
       "    </tr>\n",
       "    <tr>\n",
       "      <th>2017-01-13</th>\n",
       "      <td>72.599998</td>\n",
       "      <td>39.560101</td>\n",
       "      <td>72.599998</td>\n",
       "      <td>39.560101</td>\n",
       "      <td>72.800003</td>\n",
       "      <td>39.560101</td>\n",
       "      <td>72.599998</td>\n",
       "      <td>39.560101</td>\n",
       "      <td>72.800003</td>\n",
       "      <td>39.560101</td>\n",
       "      <td>3909860.0</td>\n",
       "      <td>0.0</td>\n",
       "    </tr>\n",
       "    <tr>\n",
       "      <th>2017-01-16</th>\n",
       "      <td>72.000000</td>\n",
       "      <td>NaN</td>\n",
       "      <td>72.000000</td>\n",
       "      <td>NaN</td>\n",
       "      <td>72.400002</td>\n",
       "      <td>NaN</td>\n",
       "      <td>71.800003</td>\n",
       "      <td>NaN</td>\n",
       "      <td>72.400002</td>\n",
       "      <td>NaN</td>\n",
       "      <td>2418439.0</td>\n",
       "      <td>NaN</td>\n",
       "    </tr>\n",
       "    <tr>\n",
       "      <th>2017-01-17</th>\n",
       "      <td>72.300003</td>\n",
       "      <td>39.689999</td>\n",
       "      <td>72.300003</td>\n",
       "      <td>39.689999</td>\n",
       "      <td>72.400002</td>\n",
       "      <td>39.779999</td>\n",
       "      <td>72.000000</td>\n",
       "      <td>39.509998</td>\n",
       "      <td>72.000000</td>\n",
       "      <td>39.700001</td>\n",
       "      <td>1572741.0</td>\n",
       "      <td>928000.0</td>\n",
       "    </tr>\n",
       "  </tbody>\n",
       "</table>\n",
       "</div>"
      ],
      "text/plain": [
       "Attributes  Adj Close                 Close                  High             \\\n",
       "Symbols       0050.TW 00679B.TWO    0050.TW 00679B.TWO    0050.TW 00679B.TWO   \n",
       "Date                                                                           \n",
       "2017-01-11  72.400002  39.998798  72.400002  39.998798  72.849998  39.998798   \n",
       "2017-01-12  73.150002  39.790501  73.150002  39.790501  73.300003  39.790501   \n",
       "2017-01-13  72.599998  39.560101  72.599998  39.560101  72.800003  39.560101   \n",
       "2017-01-16  72.000000        NaN  72.000000        NaN  72.400002        NaN   \n",
       "2017-01-17  72.300003  39.689999  72.300003  39.689999  72.400002  39.779999   \n",
       "\n",
       "Attributes        Low                  Open                Volume             \n",
       "Symbols       0050.TW 00679B.TWO    0050.TW 00679B.TWO    0050.TW 00679B.TWO  \n",
       "Date                                                                          \n",
       "2017-01-11  72.400002  39.998798  72.800003  39.998798  1898053.0        0.0  \n",
       "2017-01-12  72.599998  39.790501  72.599998  39.790501  4857459.0        0.0  \n",
       "2017-01-13  72.599998  39.560101  72.800003  39.560101  3909860.0        0.0  \n",
       "2017-01-16  71.800003        NaN  72.400002        NaN  2418439.0        NaN  \n",
       "2017-01-17  72.000000  39.509998  72.000000  39.700001  1572741.0   928000.0  "
      ]
     },
     "execution_count": 2,
     "metadata": {},
     "output_type": "execute_result"
    }
   ],
   "source": [
    "# Read Data\n",
    "test = data.DataReader(['0050.TW','00679B.TWO'], 'yahoo', start='2017/01/11', end='2021/12/31')\n",
    "test.head()"
   ]
  },
  {
   "cell_type": "code",
   "execution_count": 3,
   "metadata": {},
   "outputs": [
    {
     "data": {
      "text/html": [
       "<div>\n",
       "<style scoped>\n",
       "    .dataframe tbody tr th:only-of-type {\n",
       "        vertical-align: middle;\n",
       "    }\n",
       "\n",
       "    .dataframe tbody tr th {\n",
       "        vertical-align: top;\n",
       "    }\n",
       "\n",
       "    .dataframe thead th {\n",
       "        text-align: right;\n",
       "    }\n",
       "</style>\n",
       "<table border=\"1\" class=\"dataframe\">\n",
       "  <thead>\n",
       "    <tr style=\"text-align: right;\">\n",
       "      <th>Symbols</th>\n",
       "      <th>0050.TW</th>\n",
       "      <th>00679B.TWO</th>\n",
       "    </tr>\n",
       "    <tr>\n",
       "      <th>Date</th>\n",
       "      <th></th>\n",
       "      <th></th>\n",
       "    </tr>\n",
       "  </thead>\n",
       "  <tbody>\n",
       "    <tr>\n",
       "      <th>2017-01-11</th>\n",
       "      <td>72.400002</td>\n",
       "      <td>39.998798</td>\n",
       "    </tr>\n",
       "    <tr>\n",
       "      <th>2017-01-12</th>\n",
       "      <td>73.150002</td>\n",
       "      <td>39.790501</td>\n",
       "    </tr>\n",
       "    <tr>\n",
       "      <th>2017-01-13</th>\n",
       "      <td>72.599998</td>\n",
       "      <td>39.560101</td>\n",
       "    </tr>\n",
       "    <tr>\n",
       "      <th>2017-01-16</th>\n",
       "      <td>72.000000</td>\n",
       "      <td>NaN</td>\n",
       "    </tr>\n",
       "    <tr>\n",
       "      <th>2017-01-17</th>\n",
       "      <td>72.300003</td>\n",
       "      <td>39.689999</td>\n",
       "    </tr>\n",
       "  </tbody>\n",
       "</table>\n",
       "</div>"
      ],
      "text/plain": [
       "Symbols       0050.TW  00679B.TWO\n",
       "Date                             \n",
       "2017-01-11  72.400002   39.998798\n",
       "2017-01-12  73.150002   39.790501\n",
       "2017-01-13  72.599998   39.560101\n",
       "2017-01-16  72.000000         NaN\n",
       "2017-01-17  72.300003   39.689999"
      ]
     },
     "execution_count": 3,
     "metadata": {},
     "output_type": "execute_result"
    }
   ],
   "source": [
    "# Closing price\n",
    "test = test['Adj Close']\n",
    "test.head()"
   ]
  },
  {
   "cell_type": "code",
   "execution_count": 4,
   "metadata": {},
   "outputs": [
    {
     "data": {
      "text/plain": [
       "Date\n",
       "2017-01-11         NaN\n",
       "2017-01-12    0.010306\n",
       "2017-01-13   -0.007547\n",
       "2017-01-16   -0.008299\n",
       "2017-01-17    0.004158\n",
       "Name: 0050.TW, dtype: float64"
      ]
     },
     "execution_count": 4,
     "metadata": {},
     "output_type": "execute_result"
    }
   ],
   "source": [
    "# Log of percentage change\n",
    "etf_0050 = test['0050.TW'].pct_change().apply(lambda x: np.log(1+x))\n",
    "etf_0050.head()"
   ]
  },
  {
   "cell_type": "code",
   "execution_count": 5,
   "metadata": {},
   "outputs": [
    {
     "data": {
      "text/plain": [
       "0.00011387110674204043"
      ]
     },
     "execution_count": 5,
     "metadata": {},
     "output_type": "execute_result"
    }
   ],
   "source": [
    "# Variance\n",
    "var_etf_0050 = etf_0050.var()\n",
    "var_etf_0050"
   ]
  },
  {
   "cell_type": "code",
   "execution_count": 7,
   "metadata": {},
   "outputs": [
    {
     "data": {
      "text/plain": [
       "Date\n",
       "2017-01-11         NaN\n",
       "2017-01-12   -0.005221\n",
       "2017-01-13   -0.005807\n",
       "2017-01-16    0.000000\n",
       "2017-01-17    0.003278\n",
       "Name: 00679B.TWO, dtype: float64"
      ]
     },
     "execution_count": 7,
     "metadata": {},
     "output_type": "execute_result"
    }
   ],
   "source": [
    "# Log of Percentage change for Facebook\n",
    "etf_00679B = test['00679B.TWO'].pct_change().apply(lambda x: np.log(1+x))\n",
    "etf_00679B.head()"
   ]
  },
  {
   "cell_type": "code",
   "execution_count": 8,
   "metadata": {},
   "outputs": [
    {
     "data": {
      "text/plain": [
       "7.289805817802401e-05"
      ]
     },
     "execution_count": 8,
     "metadata": {},
     "output_type": "execute_result"
    }
   ],
   "source": [
    "# Variance\n",
    "var_etf_00679B = etf_00679B.var()\n",
    "var_etf_00679B"
   ]
  },
  {
   "cell_type": "code",
   "execution_count": 9,
   "metadata": {},
   "outputs": [
    {
     "data": {
      "text/plain": [
       "(0.1687239659488542, 0.13499820200471563)"
      ]
     },
     "execution_count": 9,
     "metadata": {},
     "output_type": "execute_result"
    }
   ],
   "source": [
    "# Volatility\n",
    "etf_0050_vol = np.sqrt(var_etf_0050 * 250)\n",
    "etf_00679B_vol = np.sqrt(var_etf_00679B * 250)\n",
    "etf_0050_vol, etf_00679B_vol"
   ]
  },
  {
   "cell_type": "code",
   "execution_count": 10,
   "metadata": {},
   "outputs": [
    {
     "data": {
      "text/plain": [
       "<matplotlib.axes._subplots.AxesSubplot at 0x2d2d82a24e0>"
      ]
     },
     "execution_count": 10,
     "metadata": {},
     "output_type": "execute_result"
    },
    {
     "data": {
      "image/png": "[encoded data removed]",
      "text/plain": [
       "<Figure size 432x288 with 1 Axes>"
      ]
     },
     "metadata": {
      "needs_background": "light"
     },
     "output_type": "display_data"
    }
   ],
   "source": [
    "# Volatility of both stocks\n",
    "test.pct_change().apply(lambda x: np.log(1+x)).std().apply(lambda x: x*np.sqrt(250)).plot(kind='bar')"
   ]
  },
  {
   "cell_type": "code",
   "execution_count": 11,
   "metadata": {},
   "outputs": [
    {
     "data": {
      "text/html": [
       "<div>\n",
       "<style scoped>\n",
       "    .dataframe tbody tr th:only-of-type {\n",
       "        vertical-align: middle;\n",
       "    }\n",
       "\n",
       "    .dataframe tbody tr th {\n",
       "        vertical-align: top;\n",
       "    }\n",
       "\n",
       "    .dataframe thead th {\n",
       "        text-align: right;\n",
       "    }\n",
       "</style>\n",
       "<table border=\"1\" class=\"dataframe\">\n",
       "  <thead>\n",
       "    <tr style=\"text-align: right;\">\n",
       "      <th>Symbols</th>\n",
       "      <th>0050.TW</th>\n",
       "      <th>00679B.TWO</th>\n",
       "    </tr>\n",
       "    <tr>\n",
       "      <th>Date</th>\n",
       "      <th></th>\n",
       "      <th></th>\n",
       "    </tr>\n",
       "  </thead>\n",
       "  <tbody>\n",
       "    <tr>\n",
       "      <th>2017-01-11</th>\n",
       "      <td>NaN</td>\n",
       "      <td>NaN</td>\n",
       "    </tr>\n",
       "    <tr>\n",
       "      <th>2017-01-12</th>\n",
       "      <td>0.010306</td>\n",
       "      <td>-0.005221</td>\n",
       "    </tr>\n",
       "    <tr>\n",
       "      <th>2017-01-13</th>\n",
       "      <td>-0.007547</td>\n",
       "      <td>-0.005807</td>\n",
       "    </tr>\n",
       "    <tr>\n",
       "      <th>2017-01-16</th>\n",
       "      <td>-0.008299</td>\n",
       "      <td>0.000000</td>\n",
       "    </tr>\n",
       "    <tr>\n",
       "      <th>2017-01-17</th>\n",
       "      <td>0.004158</td>\n",
       "      <td>0.003278</td>\n",
       "    </tr>\n",
       "  </tbody>\n",
       "</table>\n",
       "</div>"
      ],
      "text/plain": [
       "Symbols      0050.TW  00679B.TWO\n",
       "Date                            \n",
       "2017-01-11       NaN         NaN\n",
       "2017-01-12  0.010306   -0.005221\n",
       "2017-01-13 -0.007547   -0.005807\n",
       "2017-01-16 -0.008299    0.000000\n",
       "2017-01-17  0.004158    0.003278"
      ]
     },
     "execution_count": 11,
     "metadata": {},
     "output_type": "execute_result"
    }
   ],
   "source": [
    "# Log of Percentage change\n",
    "test1 = test.pct_change().apply(lambda x: np.log(1+x))\n",
    "test1.head()"
   ]
  },
  {
   "cell_type": "code",
   "execution_count": 12,
   "metadata": {},
   "outputs": [
    {
     "data": {
      "text/plain": [
       "-1.906106401383426e-05"
      ]
     },
     "execution_count": 12,
     "metadata": {},
     "output_type": "execute_result"
    }
   ],
   "source": [
    "# Covariance\n",
    "test1['0050.TW'].cov(test1['00679B.TWO'])"
   ]
  },
  {
   "cell_type": "code",
   "execution_count": 13,
   "metadata": {},
   "outputs": [
    {
     "data": {
      "text/plain": [
       "-0.20920997571046213"
      ]
     },
     "execution_count": 13,
     "metadata": {},
     "output_type": "execute_result"
    }
   ],
   "source": [
    "# Correlation\n",
    "test1['0050.TW'].corr(test1['00679B.TWO'])"
   ]
  },
  {
   "cell_type": "code",
   "execution_count": 14,
   "metadata": {},
   "outputs": [
    {
     "data": {
      "text/html": [
       "<div>\n",
       "<style scoped>\n",
       "    .dataframe tbody tr th:only-of-type {\n",
       "        vertical-align: middle;\n",
       "    }\n",
       "\n",
       "    .dataframe tbody tr th {\n",
       "        vertical-align: top;\n",
       "    }\n",
       "\n",
       "    .dataframe thead th {\n",
       "        text-align: right;\n",
       "    }\n",
       "</style>\n",
       "<table border=\"1\" class=\"dataframe\">\n",
       "  <thead>\n",
       "    <tr style=\"text-align: right;\">\n",
       "      <th>Symbols</th>\n",
       "      <th>0050.TW</th>\n",
       "      <th>00679B.TWO</th>\n",
       "    </tr>\n",
       "    <tr>\n",
       "      <th>Date</th>\n",
       "      <th></th>\n",
       "      <th></th>\n",
       "    </tr>\n",
       "  </thead>\n",
       "  <tbody>\n",
       "    <tr>\n",
       "      <th>2017-01-11</th>\n",
       "      <td>NaN</td>\n",
       "      <td>NaN</td>\n",
       "    </tr>\n",
       "    <tr>\n",
       "      <th>2017-01-12</th>\n",
       "      <td>0.010306</td>\n",
       "      <td>-0.005221</td>\n",
       "    </tr>\n",
       "    <tr>\n",
       "      <th>2017-01-13</th>\n",
       "      <td>-0.007547</td>\n",
       "      <td>-0.005807</td>\n",
       "    </tr>\n",
       "    <tr>\n",
       "      <th>2017-01-16</th>\n",
       "      <td>-0.008299</td>\n",
       "      <td>0.000000</td>\n",
       "    </tr>\n",
       "    <tr>\n",
       "      <th>2017-01-17</th>\n",
       "      <td>0.004158</td>\n",
       "      <td>0.003278</td>\n",
       "    </tr>\n",
       "  </tbody>\n",
       "</table>\n",
       "</div>"
      ],
      "text/plain": [
       "Symbols      0050.TW  00679B.TWO\n",
       "Date                            \n",
       "2017-01-11       NaN         NaN\n",
       "2017-01-12  0.010306   -0.005221\n",
       "2017-01-13 -0.007547   -0.005807\n",
       "2017-01-16 -0.008299    0.000000\n",
       "2017-01-17  0.004158    0.003278"
      ]
     },
     "execution_count": 14,
     "metadata": {},
     "output_type": "execute_result"
    }
   ],
   "source": [
    "# Expected Returns\n",
    "test2 = test.pct_change().apply(lambda x: np.log(1+x))\n",
    "test2.head()"
   ]
  },
  {
   "cell_type": "code",
   "execution_count": 15,
   "metadata": {},
   "outputs": [
    {
     "data": {
      "text/plain": [
       "Symbols\n",
       "0050.TW       0.000576\n",
       "00679B.TWO    0.000025\n",
       "dtype: float64"
      ]
     },
     "execution_count": 15,
     "metadata": {},
     "output_type": "execute_result"
    }
   ],
   "source": [
    "# Define weights for allocation\n",
    "w = [0.2, 0.8]\n",
    "e_r_ind = test2.mean()\n",
    "e_r_ind"
   ]
  },
  {
   "cell_type": "code",
   "execution_count": 16,
   "metadata": {},
   "outputs": [
    {
     "data": {
      "text/plain": [
       "0.00013502748098413522"
      ]
     },
     "execution_count": 16,
     "metadata": {},
     "output_type": "execute_result"
    }
   ],
   "source": [
    "# Total expected return\n",
    "e_r = (e_r_ind*w).sum()\n",
    "e_r"
   ]
  },
  {
   "cell_type": "markdown",
   "metadata": {},
   "source": [
    "## 實戰"
   ]
  },
  {
   "cell_type": "code",
   "execution_count": 2,
   "metadata": {},
   "outputs": [
    {
     "data": {
      "text/html": [
       "<div>\n",
       "<style scoped>\n",
       "    .dataframe tbody tr th:only-of-type {\n",
       "        vertical-align: middle;\n",
       "    }\n",
       "\n",
       "    .dataframe tbody tr th {\n",
       "        vertical-align: top;\n",
       "    }\n",
       "\n",
       "    .dataframe thead tr th {\n",
       "        text-align: left;\n",
       "    }\n",
       "\n",
       "    .dataframe thead tr:last-of-type th {\n",
       "        text-align: right;\n",
       "    }\n",
       "</style>\n",
       "<table border=\"1\" class=\"dataframe\">\n",
       "  <thead>\n",
       "    <tr>\n",
       "      <th>Attributes</th>\n",
       "      <th colspan=\"2\" halign=\"left\">Adj Close</th>\n",
       "      <th colspan=\"2\" halign=\"left\">Close</th>\n",
       "      <th colspan=\"2\" halign=\"left\">High</th>\n",
       "      <th colspan=\"2\" halign=\"left\">Low</th>\n",
       "      <th colspan=\"2\" halign=\"left\">Open</th>\n",
       "      <th colspan=\"2\" halign=\"left\">Volume</th>\n",
       "    </tr>\n",
       "    <tr>\n",
       "      <th>Symbols</th>\n",
       "      <th>0050.TW</th>\n",
       "      <th>0051.TW</th>\n",
       "      <th>0050.TW</th>\n",
       "      <th>0051.TW</th>\n",
       "      <th>0050.TW</th>\n",
       "      <th>0051.TW</th>\n",
       "      <th>0050.TW</th>\n",
       "      <th>0051.TW</th>\n",
       "      <th>0050.TW</th>\n",
       "      <th>0051.TW</th>\n",
       "      <th>0050.TW</th>\n",
       "      <th>0051.TW</th>\n",
       "    </tr>\n",
       "    <tr>\n",
       "      <th>Date</th>\n",
       "      <th></th>\n",
       "      <th></th>\n",
       "      <th></th>\n",
       "      <th></th>\n",
       "      <th></th>\n",
       "      <th></th>\n",
       "      <th></th>\n",
       "      <th></th>\n",
       "      <th></th>\n",
       "      <th></th>\n",
       "      <th></th>\n",
       "      <th></th>\n",
       "    </tr>\n",
       "  </thead>\n",
       "  <tbody>\n",
       "    <tr>\n",
       "      <th>2008-01-02</th>\n",
       "      <td>60.009998</td>\n",
       "      <td>33.139999</td>\n",
       "      <td>60.009998</td>\n",
       "      <td>33.139999</td>\n",
       "      <td>60.009998</td>\n",
       "      <td>33.139999</td>\n",
       "      <td>60.009998</td>\n",
       "      <td>33.139999</td>\n",
       "      <td>60.009998</td>\n",
       "      <td>33.139999</td>\n",
       "      <td>0.0</td>\n",
       "      <td>0.0</td>\n",
       "    </tr>\n",
       "    <tr>\n",
       "      <th>2008-01-03</th>\n",
       "      <td>58.889999</td>\n",
       "      <td>32.549999</td>\n",
       "      <td>58.889999</td>\n",
       "      <td>32.549999</td>\n",
       "      <td>58.889999</td>\n",
       "      <td>32.549999</td>\n",
       "      <td>58.889999</td>\n",
       "      <td>32.549999</td>\n",
       "      <td>58.889999</td>\n",
       "      <td>32.549999</td>\n",
       "      <td>0.0</td>\n",
       "      <td>0.0</td>\n",
       "    </tr>\n",
       "    <tr>\n",
       "      <th>2008-01-04</th>\n",
       "      <td>59.009998</td>\n",
       "      <td>32.730000</td>\n",
       "      <td>59.009998</td>\n",
       "      <td>32.730000</td>\n",
       "      <td>59.009998</td>\n",
       "      <td>32.730000</td>\n",
       "      <td>59.009998</td>\n",
       "      <td>32.730000</td>\n",
       "      <td>59.009998</td>\n",
       "      <td>32.730000</td>\n",
       "      <td>0.0</td>\n",
       "      <td>0.0</td>\n",
       "    </tr>\n",
       "    <tr>\n",
       "      <th>2008-01-07</th>\n",
       "      <td>56.389999</td>\n",
       "      <td>31.250000</td>\n",
       "      <td>56.389999</td>\n",
       "      <td>31.250000</td>\n",
       "      <td>56.389999</td>\n",
       "      <td>31.250000</td>\n",
       "      <td>56.389999</td>\n",
       "      <td>31.250000</td>\n",
       "      <td>56.389999</td>\n",
       "      <td>31.250000</td>\n",
       "      <td>0.0</td>\n",
       "      <td>0.0</td>\n",
       "    </tr>\n",
       "    <tr>\n",
       "      <th>2008-01-08</th>\n",
       "      <td>56.980000</td>\n",
       "      <td>31.389999</td>\n",
       "      <td>56.980000</td>\n",
       "      <td>31.389999</td>\n",
       "      <td>56.980000</td>\n",
       "      <td>31.389999</td>\n",
       "      <td>56.980000</td>\n",
       "      <td>31.389999</td>\n",
       "      <td>56.980000</td>\n",
       "      <td>31.389999</td>\n",
       "      <td>0.0</td>\n",
       "      <td>0.0</td>\n",
       "    </tr>\n",
       "  </tbody>\n",
       "</table>\n",
       "</div>"
      ],
      "text/plain": [
       "Attributes  Adj Close                 Close                  High             \\\n",
       "Symbols       0050.TW    0051.TW    0050.TW    0051.TW    0050.TW    0051.TW   \n",
       "Date                                                                           \n",
       "2008-01-02  60.009998  33.139999  60.009998  33.139999  60.009998  33.139999   \n",
       "2008-01-03  58.889999  32.549999  58.889999  32.549999  58.889999  32.549999   \n",
       "2008-01-04  59.009998  32.730000  59.009998  32.730000  59.009998  32.730000   \n",
       "2008-01-07  56.389999  31.250000  56.389999  31.250000  56.389999  31.250000   \n",
       "2008-01-08  56.980000  31.389999  56.980000  31.389999  56.980000  31.389999   \n",
       "\n",
       "Attributes        Low                  Open             Volume          \n",
       "Symbols       0050.TW    0051.TW    0050.TW    0051.TW 0050.TW 0051.TW  \n",
       "Date                                                                    \n",
       "2008-01-02  60.009998  33.139999  60.009998  33.139999     0.0     0.0  \n",
       "2008-01-03  58.889999  32.549999  58.889999  32.549999     0.0     0.0  \n",
       "2008-01-04  59.009998  32.730000  59.009998  32.730000     0.0     0.0  \n",
       "2008-01-07  56.389999  31.250000  56.389999  31.250000     0.0     0.0  \n",
       "2008-01-08  56.980000  31.389999  56.980000  31.389999     0.0     0.0  "
      ]
     },
     "execution_count": 2,
     "metadata": {},
     "output_type": "execute_result"
    }
   ],
   "source": [
    "# Import data\n",
    "df = data.DataReader(['0050.TW','0051.TW'], 'yahoo', start='2006/08/24', end='2021/12/31')\n",
    "df.head()"
   ]
  },
  {
   "cell_type": "code",
   "execution_count": 3,
   "metadata": {},
   "outputs": [
    {
     "data": {
      "text/html": [
       "<div>\n",
       "<style scoped>\n",
       "    .dataframe tbody tr th:only-of-type {\n",
       "        vertical-align: middle;\n",
       "    }\n",
       "\n",
       "    .dataframe tbody tr th {\n",
       "        vertical-align: top;\n",
       "    }\n",
       "\n",
       "    .dataframe thead th {\n",
       "        text-align: right;\n",
       "    }\n",
       "</style>\n",
       "<table border=\"1\" class=\"dataframe\">\n",
       "  <thead>\n",
       "    <tr style=\"text-align: right;\">\n",
       "      <th>Symbols</th>\n",
       "      <th>0050.TW</th>\n",
       "      <th>0051.TW</th>\n",
       "    </tr>\n",
       "    <tr>\n",
       "      <th>Date</th>\n",
       "      <th></th>\n",
       "      <th></th>\n",
       "    </tr>\n",
       "  </thead>\n",
       "  <tbody>\n",
       "    <tr>\n",
       "      <th>2008-01-02</th>\n",
       "      <td>60.009998</td>\n",
       "      <td>33.139999</td>\n",
       "    </tr>\n",
       "    <tr>\n",
       "      <th>2008-01-03</th>\n",
       "      <td>58.889999</td>\n",
       "      <td>32.549999</td>\n",
       "    </tr>\n",
       "    <tr>\n",
       "      <th>2008-01-04</th>\n",
       "      <td>59.009998</td>\n",
       "      <td>32.730000</td>\n",
       "    </tr>\n",
       "    <tr>\n",
       "      <th>2008-01-07</th>\n",
       "      <td>56.389999</td>\n",
       "      <td>31.250000</td>\n",
       "    </tr>\n",
       "    <tr>\n",
       "      <th>2008-01-08</th>\n",
       "      <td>56.980000</td>\n",
       "      <td>31.389999</td>\n",
       "    </tr>\n",
       "  </tbody>\n",
       "</table>\n",
       "</div>"
      ],
      "text/plain": [
       "Symbols       0050.TW    0051.TW\n",
       "Date                            \n",
       "2008-01-02  60.009998  33.139999\n",
       "2008-01-03  58.889999  32.549999\n",
       "2008-01-04  59.009998  32.730000\n",
       "2008-01-07  56.389999  31.250000\n",
       "2008-01-08  56.980000  31.389999"
      ]
     },
     "execution_count": 3,
     "metadata": {},
     "output_type": "execute_result"
    }
   ],
   "source": [
    "# Closing price\n",
    "df = df['Adj Close']\n",
    "df.head()"
   ]
  },
  {
   "cell_type": "code",
   "execution_count": 4,
   "metadata": {},
   "outputs": [
    {
     "data": {
      "text/html": [
       "<div>\n",
       "<style scoped>\n",
       "    .dataframe tbody tr th:only-of-type {\n",
       "        vertical-align: middle;\n",
       "    }\n",
       "\n",
       "    .dataframe tbody tr th {\n",
       "        vertical-align: top;\n",
       "    }\n",
       "\n",
       "    .dataframe thead th {\n",
       "        text-align: right;\n",
       "    }\n",
       "</style>\n",
       "<table border=\"1\" class=\"dataframe\">\n",
       "  <thead>\n",
       "    <tr style=\"text-align: right;\">\n",
       "      <th>Symbols</th>\n",
       "      <th>0050.TW</th>\n",
       "      <th>0051.TW</th>\n",
       "    </tr>\n",
       "    <tr>\n",
       "      <th>Symbols</th>\n",
       "      <th></th>\n",
       "      <th></th>\n",
       "    </tr>\n",
       "  </thead>\n",
       "  <tbody>\n",
       "    <tr>\n",
       "      <th>0050.TW</th>\n",
       "      <td>0.000199</td>\n",
       "      <td>0.000123</td>\n",
       "    </tr>\n",
       "    <tr>\n",
       "      <th>0051.TW</th>\n",
       "      <td>0.000123</td>\n",
       "      <td>0.000195</td>\n",
       "    </tr>\n",
       "  </tbody>\n",
       "</table>\n",
       "</div>"
      ],
      "text/plain": [
       "Symbols   0050.TW   0051.TW\n",
       "Symbols                    \n",
       "0050.TW  0.000199  0.000123\n",
       "0051.TW  0.000123  0.000195"
      ]
     },
     "execution_count": 4,
     "metadata": {},
     "output_type": "execute_result"
    }
   ],
   "source": [
    "# Log of percentage change\n",
    "cov_matrix = df.pct_change().apply(lambda x: np.log(1+x)).cov()\n",
    "cov_matrix"
   ]
  },
  {
   "cell_type": "code",
   "execution_count": 5,
   "metadata": {},
   "outputs": [
    {
     "data": {
      "text/html": [
       "<div>\n",
       "<style scoped>\n",
       "    .dataframe tbody tr th:only-of-type {\n",
       "        vertical-align: middle;\n",
       "    }\n",
       "\n",
       "    .dataframe tbody tr th {\n",
       "        vertical-align: top;\n",
       "    }\n",
       "\n",
       "    .dataframe thead th {\n",
       "        text-align: right;\n",
       "    }\n",
       "</style>\n",
       "<table border=\"1\" class=\"dataframe\">\n",
       "  <thead>\n",
       "    <tr style=\"text-align: right;\">\n",
       "      <th>Symbols</th>\n",
       "      <th>0050.TW</th>\n",
       "      <th>0051.TW</th>\n",
       "    </tr>\n",
       "    <tr>\n",
       "      <th>Symbols</th>\n",
       "      <th></th>\n",
       "      <th></th>\n",
       "    </tr>\n",
       "  </thead>\n",
       "  <tbody>\n",
       "    <tr>\n",
       "      <th>0050.TW</th>\n",
       "      <td>1.000000</td>\n",
       "      <td>0.625772</td>\n",
       "    </tr>\n",
       "    <tr>\n",
       "      <th>0051.TW</th>\n",
       "      <td>0.625772</td>\n",
       "      <td>1.000000</td>\n",
       "    </tr>\n",
       "  </tbody>\n",
       "</table>\n",
       "</div>"
      ],
      "text/plain": [
       "Symbols   0050.TW   0051.TW\n",
       "Symbols                    \n",
       "0050.TW  1.000000  0.625772\n",
       "0051.TW  0.625772  1.000000"
      ]
     },
     "execution_count": 5,
     "metadata": {},
     "output_type": "execute_result"
    }
   ],
   "source": [
    "corr_matrix = df.pct_change().apply(lambda x: np.log(1+x)).corr()\n",
    "corr_matrix"
   ]
  },
  {
   "cell_type": "code",
   "execution_count": 6,
   "metadata": {},
   "outputs": [
    {
     "data": {
      "text/plain": [
       "1.9927871541776804e-06"
      ]
     },
     "execution_count": 6,
     "metadata": {},
     "output_type": "execute_result"
    }
   ],
   "source": [
    "# Randomly weighted portfolio's variance\n",
    "w = {'0050.TW': 0.1, '00679B.TWO': 0.9}\n",
    "port_var = cov_matrix.mul(w, axis=0).mul(w, axis=1).sum().sum()\n",
    "port_var"
   ]
  },
  {
   "cell_type": "code",
   "execution_count": 7,
   "metadata": {},
   "outputs": [
    {
     "data": {
      "text/plain": [
       "Symbols\n",
       "0050.TW    0.138729\n",
       "0051.TW    0.138310\n",
       "dtype: float64"
      ]
     },
     "execution_count": 7,
     "metadata": {},
     "output_type": "execute_result"
    }
   ],
   "source": [
    "# Yearly returns for individual companies\n",
    "ind_er = df.resample('Y').last().pct_change().mean()\n",
    "ind_er"
   ]
  },
  {
   "cell_type": "code",
   "execution_count": 8,
   "metadata": {},
   "outputs": [
    {
     "data": {
      "text/plain": [
       "0.13839416664472357"
      ]
     },
     "execution_count": 8,
     "metadata": {},
     "output_type": "execute_result"
    }
   ],
   "source": [
    "# Portfolio returns\n",
    "w = [0.2, 0.8]\n",
    "port_er = (w*ind_er).sum()\n",
    "port_er"
   ]
  },
  {
   "cell_type": "code",
   "execution_count": 9,
   "metadata": {},
   "outputs": [
    {
     "data": {
      "text/plain": [
       "Symbols\n",
       "0050.TW    0.223203\n",
       "0051.TW    0.220870\n",
       "dtype: float64"
      ]
     },
     "execution_count": 9,
     "metadata": {},
     "output_type": "execute_result"
    }
   ],
   "source": [
    "# Volatility is given by the annual standard deviation. We multiply by 250 because there are 250 trading days/year.\n",
    "ann_sd = df.pct_change().apply(lambda x: np.log(1+x)).std().apply(lambda x: x*np.sqrt(250))\n",
    "ann_sd"
   ]
  },
  {
   "cell_type": "code",
   "execution_count": 10,
   "metadata": {},
   "outputs": [
    {
     "data": {
      "text/html": [
       "<div>\n",
       "<style scoped>\n",
       "    .dataframe tbody tr th:only-of-type {\n",
       "        vertical-align: middle;\n",
       "    }\n",
       "\n",
       "    .dataframe tbody tr th {\n",
       "        vertical-align: top;\n",
       "    }\n",
       "\n",
       "    .dataframe thead th {\n",
       "        text-align: right;\n",
       "    }\n",
       "</style>\n",
       "<table border=\"1\" class=\"dataframe\">\n",
       "  <thead>\n",
       "    <tr style=\"text-align: right;\">\n",
       "      <th></th>\n",
       "      <th>Returns</th>\n",
       "      <th>Volatility</th>\n",
       "    </tr>\n",
       "    <tr>\n",
       "      <th>Symbols</th>\n",
       "      <th></th>\n",
       "      <th></th>\n",
       "    </tr>\n",
       "  </thead>\n",
       "  <tbody>\n",
       "    <tr>\n",
       "      <th>0050.TW</th>\n",
       "      <td>0.138729</td>\n",
       "      <td>0.223203</td>\n",
       "    </tr>\n",
       "    <tr>\n",
       "      <th>0051.TW</th>\n",
       "      <td>0.138310</td>\n",
       "      <td>0.220870</td>\n",
       "    </tr>\n",
       "  </tbody>\n",
       "</table>\n",
       "</div>"
      ],
      "text/plain": [
       "          Returns  Volatility\n",
       "Symbols                      \n",
       "0050.TW  0.138729    0.223203\n",
       "0051.TW  0.138310    0.220870"
      ]
     },
     "execution_count": 10,
     "metadata": {},
     "output_type": "execute_result"
    }
   ],
   "source": [
    "assets = pd.concat([ind_er, ann_sd], axis=1) # Creating a table for visualising returns and volatility of assets\n",
    "assets.columns = ['Returns', 'Volatility']\n",
    "assets"
   ]
  },
  {
   "cell_type": "code",
   "execution_count": 11,
   "metadata": {},
   "outputs": [],
   "source": [
    "p_ret = [] # Define an empty array for portfolio returns\n",
    "p_vol = [] # Define an empty array for portfolio volatility\n",
    "p_weights = [] # Define an empty array for asset weights\n",
    "\n",
    "num_assets = len(df.columns)\n",
    "num_portfolios = 10000"
   ]
  },
  {
   "cell_type": "code",
   "execution_count": 12,
   "metadata": {},
   "outputs": [],
   "source": [
    "for portfolio in range(num_portfolios):\n",
    "    weights = np.random.random(num_assets)\n",
    "    weights = weights/np.sum(weights)\n",
    "    p_weights.append(weights)\n",
    "    returns = np.dot(weights, ind_er) # Returns are the product of individual expected returns of asset and its \n",
    "                                      # weights \n",
    "    p_ret.append(returns)\n",
    "    var = cov_matrix.mul(weights, axis=0).mul(weights, axis=1).sum().sum()# Portfolio Variance\n",
    "    sd = np.sqrt(var) # Daily standard deviation\n",
    "    ann_sd = sd*np.sqrt(250) # Annual standard deviation = volatility\n",
    "    p_vol.append(ann_sd)"
   ]
  },
  {
   "cell_type": "code",
   "execution_count": 13,
   "metadata": {},
   "outputs": [],
   "source": [
    "data = {'Returns':p_ret, 'Volatility':p_vol}\n",
    "\n",
    "for counter, symbol in enumerate(df.columns.tolist()):\n",
    "    #print(counter, symbol)\n",
    "    data[symbol+' weight'] = [w[counter] for w in p_weights]"
   ]
  },
  {
   "cell_type": "code",
   "execution_count": 14,
   "metadata": {},
   "outputs": [
    {
     "data": {
      "text/html": [
       "<div>\n",
       "<style scoped>\n",
       "    .dataframe tbody tr th:only-of-type {\n",
       "        vertical-align: middle;\n",
       "    }\n",
       "\n",
       "    .dataframe tbody tr th {\n",
       "        vertical-align: top;\n",
       "    }\n",
       "\n",
       "    .dataframe thead th {\n",
       "        text-align: right;\n",
       "    }\n",
       "</style>\n",
       "<table border=\"1\" class=\"dataframe\">\n",
       "  <thead>\n",
       "    <tr style=\"text-align: right;\">\n",
       "      <th></th>\n",
       "      <th>Returns</th>\n",
       "      <th>Volatility</th>\n",
       "      <th>0050.TW weight</th>\n",
       "      <th>0051.TW weight</th>\n",
       "    </tr>\n",
       "  </thead>\n",
       "  <tbody>\n",
       "    <tr>\n",
       "      <th>0</th>\n",
       "      <td>0.138524</td>\n",
       "      <td>0.200223</td>\n",
       "      <td>0.509736</td>\n",
       "      <td>0.490264</td>\n",
       "    </tr>\n",
       "    <tr>\n",
       "      <th>1</th>\n",
       "      <td>0.138594</td>\n",
       "      <td>0.203506</td>\n",
       "      <td>0.676966</td>\n",
       "      <td>0.323034</td>\n",
       "    </tr>\n",
       "    <tr>\n",
       "      <th>2</th>\n",
       "      <td>0.138446</td>\n",
       "      <td>0.202605</td>\n",
       "      <td>0.322970</td>\n",
       "      <td>0.677030</td>\n",
       "    </tr>\n",
       "    <tr>\n",
       "      <th>3</th>\n",
       "      <td>0.138498</td>\n",
       "      <td>0.200313</td>\n",
       "      <td>0.446755</td>\n",
       "      <td>0.553245</td>\n",
       "    </tr>\n",
       "    <tr>\n",
       "      <th>4</th>\n",
       "      <td>0.138672</td>\n",
       "      <td>0.212932</td>\n",
       "      <td>0.863920</td>\n",
       "      <td>0.136080</td>\n",
       "    </tr>\n",
       "  </tbody>\n",
       "</table>\n",
       "</div>"
      ],
      "text/plain": [
       "    Returns  Volatility  0050.TW weight  0051.TW weight\n",
       "0  0.138524    0.200223        0.509736        0.490264\n",
       "1  0.138594    0.203506        0.676966        0.323034\n",
       "2  0.138446    0.202605        0.322970        0.677030\n",
       "3  0.138498    0.200313        0.446755        0.553245\n",
       "4  0.138672    0.212932        0.863920        0.136080"
      ]
     },
     "execution_count": 14,
     "metadata": {},
     "output_type": "execute_result"
    }
   ],
   "source": [
    "portfolios  = pd.DataFrame(data)\n",
    "portfolios.head() # Dataframe of the 10000 portfolios created"
   ]
  },
  {
   "cell_type": "code",
   "execution_count": 15,
   "metadata": {},
   "outputs": [
    {
     "data": {
      "text/plain": [
       "<matplotlib.axes._subplots.AxesSubplot at 0x254c8f1cb00>"
      ]
     },
     "execution_count": 15,
     "metadata": {},
     "output_type": "execute_result"
    },
    {
     "data": {
      "image/png": "[encoded data removed]",
      "text/plain": [
       "<Figure size 720x720 with 1 Axes>"
      ]
     },
     "metadata": {
      "needs_background": "light"
     },
     "output_type": "display_data"
    }
   ],
   "source": [
    "# Plot efficient frontier\n",
    "portfolios.plot.scatter(x='Volatility', y='Returns', marker='o', s=10, alpha=0.3, grid=True, figsize=[10,10])"
   ]
  },
  {
   "cell_type": "code",
   "execution_count": 16,
   "metadata": {},
   "outputs": [
    {
     "data": {
      "text/plain": [
       "Returns           0.138514\n",
       "Volatility        0.200171\n",
       "0050.TW weight    0.485972\n",
       "0051.TW weight    0.514028\n",
       "Name: 9348, dtype: float64"
      ]
     },
     "execution_count": 16,
     "metadata": {},
     "output_type": "execute_result"
    }
   ],
   "source": [
    "min_vol_port = portfolios.iloc[portfolios['Volatility'].idxmin()]\n",
    "# idxmin() gives us the minimum value in the column specified.                               \n",
    "min_vol_port"
   ]
  },
  {
   "cell_type": "code",
   "execution_count": 17,
   "metadata": {},
   "outputs": [
    {
     "data": {
      "text/plain": [
       "<matplotlib.collections.PathCollection at 0x254c9560668>"
      ]
     },
     "execution_count": 17,
     "metadata": {},
     "output_type": "execute_result"
    },
    {
     "data": {
      "image/png": "[encoded data removed]",
      "text/plain": [
       "<Figure size 720x720 with 1 Axes>"
      ]
     },
     "metadata": {
      "needs_background": "light"
     },
     "output_type": "display_data"
    }
   ],
   "source": [
    "# plotting the minimum volatility portfolio\n",
    "plt.subplots(figsize=[10,10])\n",
    "plt.scatter(portfolios['Volatility'], portfolios['Returns'],marker='o', s=10, alpha=0.3)\n",
    "plt.scatter(min_vol_port[1], min_vol_port[0], color='r', marker='*', s=500)"
   ]
  },
  {
   "cell_type": "code",
   "execution_count": 18,
   "metadata": {},
   "outputs": [
    {
     "data": {
      "text/plain": [
       "Returns           0.138516\n",
       "Volatility        0.200172\n",
       "0050.TW weight    0.489629\n",
       "0051.TW weight    0.510371\n",
       "Name: 4098, dtype: float64"
      ]
     },
     "execution_count": 18,
     "metadata": {},
     "output_type": "execute_result"
    }
   ],
   "source": [
    "# Finding the optimal portfolio\n",
    "rf = 0.01 # risk factor\n",
    "optimal_risky_port = portfolios.iloc[((portfolios['Returns']-rf)/portfolios['Volatility']).idxmax()]\n",
    "optimal_risky_port"
   ]
  },
  {
   "cell_type": "code",
   "execution_count": 19,
   "metadata": {},
   "outputs": [
    {
     "data": {
      "text/plain": [
       "<matplotlib.collections.PathCollection at 0x254c95cd978>"
      ]
     },
     "execution_count": 19,
     "metadata": {},
     "output_type": "execute_result"
    },
    {
     "data": {
      "image/png": "[encoded data removed]",
      "text/plain": [
       "<Figure size 720x720 with 1 Axes>"
      ]
     },
     "metadata": {
      "needs_background": "light"
     },
     "output_type": "display_data"
    }
   ],
   "source": [
    "# Plotting optimal portfolio\n",
    "plt.subplots(figsize=(10, 10))\n",
    "plt.scatter(portfolios['Volatility'], portfolios['Returns'],marker='o', s=10, alpha=0.3)\n",
    "plt.scatter(min_vol_port[1], min_vol_port[0], color='r', marker='*', s=500)\n",
    "plt.scatter(optimal_risky_port[1], optimal_risky_port[0], color='g', marker='*', s=500)"
   ]
  },
  {
   "cell_type": "code",
   "execution_count": 20,
   "metadata": {},
   "outputs": [
    {
     "data": {
      "text/html": [
       "<div>\n",
       "<style scoped>\n",
       "    .dataframe tbody tr th:only-of-type {\n",
       "        vertical-align: middle;\n",
       "    }\n",
       "\n",
       "    .dataframe tbody tr th {\n",
       "        vertical-align: top;\n",
       "    }\n",
       "\n",
       "    .dataframe thead th {\n",
       "        text-align: right;\n",
       "    }\n",
       "</style>\n",
       "<table border=\"1\" class=\"dataframe\">\n",
       "  <thead>\n",
       "    <tr style=\"text-align: right;\">\n",
       "      <th></th>\n",
       "      <th>Returns</th>\n",
       "      <th>Volatility</th>\n",
       "      <th>0050.TW weight</th>\n",
       "      <th>0051.TW weight</th>\n",
       "    </tr>\n",
       "  </thead>\n",
       "  <tbody>\n",
       "    <tr>\n",
       "      <th>4</th>\n",
       "      <td>0.138672</td>\n",
       "      <td>0.212932</td>\n",
       "      <td>0.863920</td>\n",
       "      <td>0.136080</td>\n",
       "    </tr>\n",
       "    <tr>\n",
       "      <th>11</th>\n",
       "      <td>0.138662</td>\n",
       "      <td>0.211349</td>\n",
       "      <td>0.839011</td>\n",
       "      <td>0.160989</td>\n",
       "    </tr>\n",
       "    <tr>\n",
       "      <th>18</th>\n",
       "      <td>0.138654</td>\n",
       "      <td>0.210233</td>\n",
       "      <td>0.820478</td>\n",
       "      <td>0.179522</td>\n",
       "    </tr>\n",
       "    <tr>\n",
       "      <th>19</th>\n",
       "      <td>0.138680</td>\n",
       "      <td>0.214089</td>\n",
       "      <td>0.881227</td>\n",
       "      <td>0.118773</td>\n",
       "    </tr>\n",
       "    <tr>\n",
       "      <th>30</th>\n",
       "      <td>0.138714</td>\n",
       "      <td>0.220100</td>\n",
       "      <td>0.962358</td>\n",
       "      <td>0.037642</td>\n",
       "    </tr>\n",
       "    <tr>\n",
       "      <th>52</th>\n",
       "      <td>0.138688</td>\n",
       "      <td>0.215485</td>\n",
       "      <td>0.901280</td>\n",
       "      <td>0.098720</td>\n",
       "    </tr>\n",
       "    <tr>\n",
       "      <th>70</th>\n",
       "      <td>0.138654</td>\n",
       "      <td>0.210148</td>\n",
       "      <td>0.819024</td>\n",
       "      <td>0.180976</td>\n",
       "    </tr>\n",
       "    <tr>\n",
       "      <th>76</th>\n",
       "      <td>0.138668</td>\n",
       "      <td>0.212193</td>\n",
       "      <td>0.852478</td>\n",
       "      <td>0.147522</td>\n",
       "    </tr>\n",
       "    <tr>\n",
       "      <th>79</th>\n",
       "      <td>0.138722</td>\n",
       "      <td>0.221730</td>\n",
       "      <td>0.982425</td>\n",
       "      <td>0.017575</td>\n",
       "    </tr>\n",
       "    <tr>\n",
       "      <th>93</th>\n",
       "      <td>0.138658</td>\n",
       "      <td>0.210786</td>\n",
       "      <td>0.829767</td>\n",
       "      <td>0.170233</td>\n",
       "    </tr>\n",
       "    <tr>\n",
       "      <th>100</th>\n",
       "      <td>0.138704</td>\n",
       "      <td>0.218370</td>\n",
       "      <td>0.940282</td>\n",
       "      <td>0.059718</td>\n",
       "    </tr>\n",
       "    <tr>\n",
       "      <th>102</th>\n",
       "      <td>0.138646</td>\n",
       "      <td>0.209170</td>\n",
       "      <td>0.801894</td>\n",
       "      <td>0.198106</td>\n",
       "    </tr>\n",
       "    <tr>\n",
       "      <th>106</th>\n",
       "      <td>0.138661</td>\n",
       "      <td>0.211195</td>\n",
       "      <td>0.836509</td>\n",
       "      <td>0.163491</td>\n",
       "    </tr>\n",
       "    <tr>\n",
       "      <th>129</th>\n",
       "      <td>0.138657</td>\n",
       "      <td>0.210592</td>\n",
       "      <td>0.826531</td>\n",
       "      <td>0.173469</td>\n",
       "    </tr>\n",
       "    <tr>\n",
       "      <th>137</th>\n",
       "      <td>0.138656</td>\n",
       "      <td>0.210436</td>\n",
       "      <td>0.823922</td>\n",
       "      <td>0.176078</td>\n",
       "    </tr>\n",
       "    <tr>\n",
       "      <th>141</th>\n",
       "      <td>0.138699</td>\n",
       "      <td>0.217443</td>\n",
       "      <td>0.928069</td>\n",
       "      <td>0.071931</td>\n",
       "    </tr>\n",
       "    <tr>\n",
       "      <th>148</th>\n",
       "      <td>0.138723</td>\n",
       "      <td>0.221870</td>\n",
       "      <td>0.984120</td>\n",
       "      <td>0.015880</td>\n",
       "    </tr>\n",
       "    <tr>\n",
       "      <th>151</th>\n",
       "      <td>0.138673</td>\n",
       "      <td>0.213038</td>\n",
       "      <td>0.865526</td>\n",
       "      <td>0.134474</td>\n",
       "    </tr>\n",
       "    <tr>\n",
       "      <th>153</th>\n",
       "      <td>0.138679</td>\n",
       "      <td>0.213991</td>\n",
       "      <td>0.879781</td>\n",
       "      <td>0.120219</td>\n",
       "    </tr>\n",
       "    <tr>\n",
       "      <th>166</th>\n",
       "      <td>0.138686</td>\n",
       "      <td>0.215187</td>\n",
       "      <td>0.897066</td>\n",
       "      <td>0.102934</td>\n",
       "    </tr>\n",
       "    <tr>\n",
       "      <th>181</th>\n",
       "      <td>0.138649</td>\n",
       "      <td>0.209461</td>\n",
       "      <td>0.807086</td>\n",
       "      <td>0.192914</td>\n",
       "    </tr>\n",
       "    <tr>\n",
       "      <th>204</th>\n",
       "      <td>0.138659</td>\n",
       "      <td>0.210875</td>\n",
       "      <td>0.831252</td>\n",
       "      <td>0.168748</td>\n",
       "    </tr>\n",
       "    <tr>\n",
       "      <th>206</th>\n",
       "      <td>0.138729</td>\n",
       "      <td>0.223078</td>\n",
       "      <td>0.998524</td>\n",
       "      <td>0.001476</td>\n",
       "    </tr>\n",
       "    <tr>\n",
       "      <th>221</th>\n",
       "      <td>0.138647</td>\n",
       "      <td>0.209218</td>\n",
       "      <td>0.802763</td>\n",
       "      <td>0.197237</td>\n",
       "    </tr>\n",
       "    <tr>\n",
       "      <th>235</th>\n",
       "      <td>0.138661</td>\n",
       "      <td>0.211280</td>\n",
       "      <td>0.837895</td>\n",
       "      <td>0.162105</td>\n",
       "    </tr>\n",
       "    <tr>\n",
       "      <th>237</th>\n",
       "      <td>0.138704</td>\n",
       "      <td>0.218299</td>\n",
       "      <td>0.939357</td>\n",
       "      <td>0.060643</td>\n",
       "    </tr>\n",
       "    <tr>\n",
       "      <th>252</th>\n",
       "      <td>0.138699</td>\n",
       "      <td>0.217421</td>\n",
       "      <td>0.927771</td>\n",
       "      <td>0.072229</td>\n",
       "    </tr>\n",
       "    <tr>\n",
       "      <th>257</th>\n",
       "      <td>0.138668</td>\n",
       "      <td>0.212286</td>\n",
       "      <td>0.853932</td>\n",
       "      <td>0.146068</td>\n",
       "    </tr>\n",
       "    <tr>\n",
       "      <th>278</th>\n",
       "      <td>0.138671</td>\n",
       "      <td>0.212669</td>\n",
       "      <td>0.859873</td>\n",
       "      <td>0.140127</td>\n",
       "    </tr>\n",
       "    <tr>\n",
       "      <th>283</th>\n",
       "      <td>0.138711</td>\n",
       "      <td>0.219624</td>\n",
       "      <td>0.956371</td>\n",
       "      <td>0.043629</td>\n",
       "    </tr>\n",
       "    <tr>\n",
       "      <th>...</th>\n",
       "      <td>...</td>\n",
       "      <td>...</td>\n",
       "      <td>...</td>\n",
       "      <td>...</td>\n",
       "    </tr>\n",
       "    <tr>\n",
       "      <th>9730</th>\n",
       "      <td>0.138657</td>\n",
       "      <td>0.210592</td>\n",
       "      <td>0.826539</td>\n",
       "      <td>0.173461</td>\n",
       "    </tr>\n",
       "    <tr>\n",
       "      <th>9740</th>\n",
       "      <td>0.138672</td>\n",
       "      <td>0.212804</td>\n",
       "      <td>0.861957</td>\n",
       "      <td>0.138043</td>\n",
       "    </tr>\n",
       "    <tr>\n",
       "      <th>9746</th>\n",
       "      <td>0.138687</td>\n",
       "      <td>0.215385</td>\n",
       "      <td>0.899872</td>\n",
       "      <td>0.100128</td>\n",
       "    </tr>\n",
       "    <tr>\n",
       "      <th>9750</th>\n",
       "      <td>0.138678</td>\n",
       "      <td>0.213830</td>\n",
       "      <td>0.877415</td>\n",
       "      <td>0.122585</td>\n",
       "    </tr>\n",
       "    <tr>\n",
       "      <th>9751</th>\n",
       "      <td>0.138724</td>\n",
       "      <td>0.222216</td>\n",
       "      <td>0.988278</td>\n",
       "      <td>0.011722</td>\n",
       "    </tr>\n",
       "    <tr>\n",
       "      <th>9760</th>\n",
       "      <td>0.138690</td>\n",
       "      <td>0.215804</td>\n",
       "      <td>0.905746</td>\n",
       "      <td>0.094254</td>\n",
       "    </tr>\n",
       "    <tr>\n",
       "      <th>9763</th>\n",
       "      <td>0.138701</td>\n",
       "      <td>0.217801</td>\n",
       "      <td>0.932818</td>\n",
       "      <td>0.067182</td>\n",
       "    </tr>\n",
       "    <tr>\n",
       "      <th>9764</th>\n",
       "      <td>0.138707</td>\n",
       "      <td>0.218801</td>\n",
       "      <td>0.945863</td>\n",
       "      <td>0.054137</td>\n",
       "    </tr>\n",
       "    <tr>\n",
       "      <th>9772</th>\n",
       "      <td>0.138650</td>\n",
       "      <td>0.209671</td>\n",
       "      <td>0.810773</td>\n",
       "      <td>0.189227</td>\n",
       "    </tr>\n",
       "    <tr>\n",
       "      <th>9782</th>\n",
       "      <td>0.138675</td>\n",
       "      <td>0.213297</td>\n",
       "      <td>0.869444</td>\n",
       "      <td>0.130556</td>\n",
       "    </tr>\n",
       "    <tr>\n",
       "      <th>9789</th>\n",
       "      <td>0.138661</td>\n",
       "      <td>0.211273</td>\n",
       "      <td>0.837789</td>\n",
       "      <td>0.162211</td>\n",
       "    </tr>\n",
       "    <tr>\n",
       "      <th>9817</th>\n",
       "      <td>0.138678</td>\n",
       "      <td>0.213854</td>\n",
       "      <td>0.877766</td>\n",
       "      <td>0.122234</td>\n",
       "    </tr>\n",
       "    <tr>\n",
       "      <th>9832</th>\n",
       "      <td>0.138648</td>\n",
       "      <td>0.209450</td>\n",
       "      <td>0.806897</td>\n",
       "      <td>0.193103</td>\n",
       "    </tr>\n",
       "    <tr>\n",
       "      <th>9848</th>\n",
       "      <td>0.138652</td>\n",
       "      <td>0.209891</td>\n",
       "      <td>0.814604</td>\n",
       "      <td>0.185396</td>\n",
       "    </tr>\n",
       "    <tr>\n",
       "      <th>9849</th>\n",
       "      <td>0.138662</td>\n",
       "      <td>0.211299</td>\n",
       "      <td>0.838212</td>\n",
       "      <td>0.161788</td>\n",
       "    </tr>\n",
       "    <tr>\n",
       "      <th>9871</th>\n",
       "      <td>0.138717</td>\n",
       "      <td>0.220814</td>\n",
       "      <td>0.971236</td>\n",
       "      <td>0.028764</td>\n",
       "    </tr>\n",
       "    <tr>\n",
       "      <th>9873</th>\n",
       "      <td>0.138679</td>\n",
       "      <td>0.213992</td>\n",
       "      <td>0.879809</td>\n",
       "      <td>0.120191</td>\n",
       "    </tr>\n",
       "    <tr>\n",
       "      <th>9877</th>\n",
       "      <td>0.138712</td>\n",
       "      <td>0.219718</td>\n",
       "      <td>0.957566</td>\n",
       "      <td>0.042434</td>\n",
       "    </tr>\n",
       "    <tr>\n",
       "      <th>9883</th>\n",
       "      <td>0.138698</td>\n",
       "      <td>0.217292</td>\n",
       "      <td>0.926049</td>\n",
       "      <td>0.073951</td>\n",
       "    </tr>\n",
       "    <tr>\n",
       "      <th>9885</th>\n",
       "      <td>0.138690</td>\n",
       "      <td>0.215781</td>\n",
       "      <td>0.905425</td>\n",
       "      <td>0.094575</td>\n",
       "    </tr>\n",
       "    <tr>\n",
       "      <th>9886</th>\n",
       "      <td>0.138724</td>\n",
       "      <td>0.222072</td>\n",
       "      <td>0.986553</td>\n",
       "      <td>0.013447</td>\n",
       "    </tr>\n",
       "    <tr>\n",
       "      <th>9903</th>\n",
       "      <td>0.138653</td>\n",
       "      <td>0.210032</td>\n",
       "      <td>0.817041</td>\n",
       "      <td>0.182959</td>\n",
       "    </tr>\n",
       "    <tr>\n",
       "      <th>9922</th>\n",
       "      <td>0.138652</td>\n",
       "      <td>0.209968</td>\n",
       "      <td>0.815938</td>\n",
       "      <td>0.184062</td>\n",
       "    </tr>\n",
       "    <tr>\n",
       "      <th>9930</th>\n",
       "      <td>0.138723</td>\n",
       "      <td>0.221976</td>\n",
       "      <td>0.985395</td>\n",
       "      <td>0.014605</td>\n",
       "    </tr>\n",
       "    <tr>\n",
       "      <th>9944</th>\n",
       "      <td>0.138693</td>\n",
       "      <td>0.216259</td>\n",
       "      <td>0.912044</td>\n",
       "      <td>0.087956</td>\n",
       "    </tr>\n",
       "    <tr>\n",
       "      <th>9970</th>\n",
       "      <td>0.138696</td>\n",
       "      <td>0.216798</td>\n",
       "      <td>0.919401</td>\n",
       "      <td>0.080599</td>\n",
       "    </tr>\n",
       "    <tr>\n",
       "      <th>9974</th>\n",
       "      <td>0.138657</td>\n",
       "      <td>0.210662</td>\n",
       "      <td>0.827714</td>\n",
       "      <td>0.172286</td>\n",
       "    </tr>\n",
       "    <tr>\n",
       "      <th>9984</th>\n",
       "      <td>0.138680</td>\n",
       "      <td>0.214190</td>\n",
       "      <td>0.882711</td>\n",
       "      <td>0.117289</td>\n",
       "    </tr>\n",
       "    <tr>\n",
       "      <th>9988</th>\n",
       "      <td>0.138721</td>\n",
       "      <td>0.221474</td>\n",
       "      <td>0.979321</td>\n",
       "      <td>0.020679</td>\n",
       "    </tr>\n",
       "    <tr>\n",
       "      <th>9997</th>\n",
       "      <td>0.138708</td>\n",
       "      <td>0.219065</td>\n",
       "      <td>0.949262</td>\n",
       "      <td>0.050738</td>\n",
       "    </tr>\n",
       "  </tbody>\n",
       "</table>\n",
       "<p>1264 rows × 4 columns</p>\n",
       "</div>"
      ],
      "text/plain": [
       "       Returns  Volatility  0050.TW weight  0051.TW weight\n",
       "4     0.138672    0.212932        0.863920        0.136080\n",
       "11    0.138662    0.211349        0.839011        0.160989\n",
       "18    0.138654    0.210233        0.820478        0.179522\n",
       "19    0.138680    0.214089        0.881227        0.118773\n",
       "30    0.138714    0.220100        0.962358        0.037642\n",
       "52    0.138688    0.215485        0.901280        0.098720\n",
       "70    0.138654    0.210148        0.819024        0.180976\n",
       "76    0.138668    0.212193        0.852478        0.147522\n",
       "79    0.138722    0.221730        0.982425        0.017575\n",
       "93    0.138658    0.210786        0.829767        0.170233\n",
       "100   0.138704    0.218370        0.940282        0.059718\n",
       "102   0.138646    0.209170        0.801894        0.198106\n",
       "106   0.138661    0.211195        0.836509        0.163491\n",
       "129   0.138657    0.210592        0.826531        0.173469\n",
       "137   0.138656    0.210436        0.823922        0.176078\n",
       "141   0.138699    0.217443        0.928069        0.071931\n",
       "148   0.138723    0.221870        0.984120        0.015880\n",
       "151   0.138673    0.213038        0.865526        0.134474\n",
       "153   0.138679    0.213991        0.879781        0.120219\n",
       "166   0.138686    0.215187        0.897066        0.102934\n",
       "181   0.138649    0.209461        0.807086        0.192914\n",
       "204   0.138659    0.210875        0.831252        0.168748\n",
       "206   0.138729    0.223078        0.998524        0.001476\n",
       "221   0.138647    0.209218        0.802763        0.197237\n",
       "235   0.138661    0.211280        0.837895        0.162105\n",
       "237   0.138704    0.218299        0.939357        0.060643\n",
       "252   0.138699    0.217421        0.927771        0.072229\n",
       "257   0.138668    0.212286        0.853932        0.146068\n",
       "278   0.138671    0.212669        0.859873        0.140127\n",
       "283   0.138711    0.219624        0.956371        0.043629\n",
       "...        ...         ...             ...             ...\n",
       "9730  0.138657    0.210592        0.826539        0.173461\n",
       "9740  0.138672    0.212804        0.861957        0.138043\n",
       "9746  0.138687    0.215385        0.899872        0.100128\n",
       "9750  0.138678    0.213830        0.877415        0.122585\n",
       "9751  0.138724    0.222216        0.988278        0.011722\n",
       "9760  0.138690    0.215804        0.905746        0.094254\n",
       "9763  0.138701    0.217801        0.932818        0.067182\n",
       "9764  0.138707    0.218801        0.945863        0.054137\n",
       "9772  0.138650    0.209671        0.810773        0.189227\n",
       "9782  0.138675    0.213297        0.869444        0.130556\n",
       "9789  0.138661    0.211273        0.837789        0.162211\n",
       "9817  0.138678    0.213854        0.877766        0.122234\n",
       "9832  0.138648    0.209450        0.806897        0.193103\n",
       "9848  0.138652    0.209891        0.814604        0.185396\n",
       "9849  0.138662    0.211299        0.838212        0.161788\n",
       "9871  0.138717    0.220814        0.971236        0.028764\n",
       "9873  0.138679    0.213992        0.879809        0.120191\n",
       "9877  0.138712    0.219718        0.957566        0.042434\n",
       "9883  0.138698    0.217292        0.926049        0.073951\n",
       "9885  0.138690    0.215781        0.905425        0.094575\n",
       "9886  0.138724    0.222072        0.986553        0.013447\n",
       "9903  0.138653    0.210032        0.817041        0.182959\n",
       "9922  0.138652    0.209968        0.815938        0.184062\n",
       "9930  0.138723    0.221976        0.985395        0.014605\n",
       "9944  0.138693    0.216259        0.912044        0.087956\n",
       "9970  0.138696    0.216798        0.919401        0.080599\n",
       "9974  0.138657    0.210662        0.827714        0.172286\n",
       "9984  0.138680    0.214190        0.882711        0.117289\n",
       "9988  0.138721    0.221474        0.979321        0.020679\n",
       "9997  0.138708    0.219065        0.949262        0.050738\n",
       "\n",
       "[1264 rows x 4 columns]"
      ]
     },
     "execution_count": 20,
     "metadata": {},
     "output_type": "execute_result"
    }
   ],
   "source": [
    "portfolios[portfolios['0050.TW weight']>0.8]"
   ]
  },
  {
   "cell_type": "code",
   "execution_count": 21,
   "metadata": {},
   "outputs": [
    {
     "data": {
      "text/html": [
       "<div>\n",
       "<style scoped>\n",
       "    .dataframe tbody tr th:only-of-type {\n",
       "        vertical-align: middle;\n",
       "    }\n",
       "\n",
       "    .dataframe tbody tr th {\n",
       "        vertical-align: top;\n",
       "    }\n",
       "\n",
       "    .dataframe thead th {\n",
       "        text-align: right;\n",
       "    }\n",
       "</style>\n",
       "<table border=\"1\" class=\"dataframe\">\n",
       "  <thead>\n",
       "    <tr style=\"text-align: right;\">\n",
       "      <th></th>\n",
       "      <th>Returns</th>\n",
       "      <th>Volatility</th>\n",
       "      <th>0050.TW weight</th>\n",
       "      <th>0051.TW weight</th>\n",
       "    </tr>\n",
       "  </thead>\n",
       "  <tbody>\n",
       "    <tr>\n",
       "      <th>1972</th>\n",
       "      <td>0.138394</td>\n",
       "      <td>0.207550</td>\n",
       "      <td>0.200442</td>\n",
       "      <td>0.799558</td>\n",
       "    </tr>\n",
       "    <tr>\n",
       "      <th>3013</th>\n",
       "      <td>0.138394</td>\n",
       "      <td>0.207560</td>\n",
       "      <td>0.200228</td>\n",
       "      <td>0.799772</td>\n",
       "    </tr>\n",
       "    <tr>\n",
       "      <th>4276</th>\n",
       "      <td>0.138394</td>\n",
       "      <td>0.207561</td>\n",
       "      <td>0.200213</td>\n",
       "      <td>0.799787</td>\n",
       "    </tr>\n",
       "    <tr>\n",
       "      <th>9411</th>\n",
       "      <td>0.138394</td>\n",
       "      <td>0.207537</td>\n",
       "      <td>0.200698</td>\n",
       "      <td>0.799302</td>\n",
       "    </tr>\n",
       "    <tr>\n",
       "      <th>9921</th>\n",
       "      <td>0.138395</td>\n",
       "      <td>0.207522</td>\n",
       "      <td>0.200989</td>\n",
       "      <td>0.799011</td>\n",
       "    </tr>\n",
       "  </tbody>\n",
       "</table>\n",
       "</div>"
      ],
      "text/plain": [
       "       Returns  Volatility  0050.TW weight  0051.TW weight\n",
       "1972  0.138394    0.207550        0.200442        0.799558\n",
       "3013  0.138394    0.207560        0.200228        0.799772\n",
       "4276  0.138394    0.207561        0.200213        0.799787\n",
       "9411  0.138394    0.207537        0.200698        0.799302\n",
       "9921  0.138395    0.207522        0.200989        0.799011"
      ]
     },
     "execution_count": 21,
     "metadata": {},
     "output_type": "execute_result"
    }
   ],
   "source": [
    "portfolios[(portfolios['0050.TW weight'] >0.2) & (portfolios['0050.TW weight'] <0.201)]"
   ]
  },
  {
   "cell_type": "code",
   "execution_count": 22,
   "metadata": {},
   "outputs": [
    {
     "data": {
      "text/plain": [
       "0        True\n",
       "1       False\n",
       "2        True\n",
       "3        True\n",
       "4       False\n",
       "5       False\n",
       "6        True\n",
       "7       False\n",
       "8       False\n",
       "9       False\n",
       "10       True\n",
       "11      False\n",
       "12       True\n",
       "13       True\n",
       "14       True\n",
       "15       True\n",
       "16       True\n",
       "17       True\n",
       "18      False\n",
       "19      False\n",
       "20       True\n",
       "21       True\n",
       "22       True\n",
       "23       True\n",
       "24       True\n",
       "25       True\n",
       "26       True\n",
       "27       True\n",
       "28       True\n",
       "29       True\n",
       "        ...  \n",
       "9970    False\n",
       "9971     True\n",
       "9972     True\n",
       "9973     True\n",
       "9974    False\n",
       "9975    False\n",
       "9976     True\n",
       "9977     True\n",
       "9978    False\n",
       "9979     True\n",
       "9980     True\n",
       "9981    False\n",
       "9982     True\n",
       "9983     True\n",
       "9984    False\n",
       "9985     True\n",
       "9986    False\n",
       "9987    False\n",
       "9988    False\n",
       "9989     True\n",
       "9990     True\n",
       "9991     True\n",
       "9992     True\n",
       "9993     True\n",
       "9994    False\n",
       "9995     True\n",
       "9996    False\n",
       "9997    False\n",
       "9998     True\n",
       "9999     True\n",
       "Name: 0050.TW weight, Length: 10000, dtype: bool"
      ]
     },
     "execution_count": 22,
     "metadata": {},
     "output_type": "execute_result"
    }
   ],
   "source": [
    "portfolios['0050.TW weight'] <0.55"
   ]
  },
  {
   "cell_type": "code",
   "execution_count": null,
   "metadata": {},
   "outputs": [],
   "source": []
  }
 ],
 "metadata": {
  "kernelspec": {
   "display_name": "Python 3",
   "language": "python",
   "name": "python3"
  },
  "language_info": {
   "codemirror_mode": {
    "name": "ipython",
    "version": 3
   },
   "file_extension": ".py",
   "mimetype": "text/x-python",
   "name": "python",
   "nbconvert_exporter": "python",
   "pygments_lexer": "ipython3",
   "version": "3.7.3"
  }
 },
 "nbformat": 4,
 "nbformat_minor": 2
}
