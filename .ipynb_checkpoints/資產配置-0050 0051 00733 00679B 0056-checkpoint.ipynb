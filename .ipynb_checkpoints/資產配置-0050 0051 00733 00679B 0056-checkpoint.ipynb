{
 "cells": [
  {
   "cell_type": "markdown",
   "metadata": {},
   "source": [
    "## 程式說明  Portfolio Optimization with Python using Efficient Frontier with Practical Examples\n",
    "  https://www.machinelearningplus.com/machine-learning/portfolio-optimization-python-example/ \n",
    "\n",
    "\n",
    "## 範例程式 https://ithelp.ithome.com.tw/articles/10249694\n"
   ]
  },
  {
   "cell_type": "code",
   "execution_count": 1,
   "metadata": {},
   "outputs": [],
   "source": [
    "# Load Packages\n",
    "import numpy as np\n",
    "import pandas as pd\n",
    "from pandas_datareader import data\n",
    "import matplotlib.pyplot as plt\n",
    "%matplotlib inline"
   ]
  },
  {
   "cell_type": "code",
   "execution_count": 2,
   "metadata": {},
   "outputs": [
    {
     "data": {
      "text/html": [
       "<div>\n",
       "<style scoped>\n",
       "    .dataframe tbody tr th:only-of-type {\n",
       "        vertical-align: middle;\n",
       "    }\n",
       "\n",
       "    .dataframe tbody tr th {\n",
       "        vertical-align: top;\n",
       "    }\n",
       "\n",
       "    .dataframe thead tr th {\n",
       "        text-align: left;\n",
       "    }\n",
       "\n",
       "    .dataframe thead tr:last-of-type th {\n",
       "        text-align: right;\n",
       "    }\n",
       "</style>\n",
       "<table border=\"1\" class=\"dataframe\">\n",
       "  <thead>\n",
       "    <tr>\n",
       "      <th>Attributes</th>\n",
       "      <th colspan=\"2\" halign=\"left\">Adj Close</th>\n",
       "      <th colspan=\"2\" halign=\"left\">Close</th>\n",
       "      <th colspan=\"2\" halign=\"left\">High</th>\n",
       "      <th colspan=\"2\" halign=\"left\">Low</th>\n",
       "      <th colspan=\"2\" halign=\"left\">Open</th>\n",
       "      <th colspan=\"2\" halign=\"left\">Volume</th>\n",
       "    </tr>\n",
       "    <tr>\n",
       "      <th>Symbols</th>\n",
       "      <th>0050.TW</th>\n",
       "      <th>00679B.TWO</th>\n",
       "      <th>0050.TW</th>\n",
       "      <th>00679B.TWO</th>\n",
       "      <th>0050.TW</th>\n",
       "      <th>00679B.TWO</th>\n",
       "      <th>0050.TW</th>\n",
       "      <th>00679B.TWO</th>\n",
       "      <th>0050.TW</th>\n",
       "      <th>00679B.TWO</th>\n",
       "      <th>0050.TW</th>\n",
       "      <th>00679B.TWO</th>\n",
       "    </tr>\n",
       "    <tr>\n",
       "      <th>Date</th>\n",
       "      <th></th>\n",
       "      <th></th>\n",
       "      <th></th>\n",
       "      <th></th>\n",
       "      <th></th>\n",
       "      <th></th>\n",
       "      <th></th>\n",
       "      <th></th>\n",
       "      <th></th>\n",
       "      <th></th>\n",
       "      <th></th>\n",
       "      <th></th>\n",
       "    </tr>\n",
       "  </thead>\n",
       "  <tbody>\n",
       "    <tr>\n",
       "      <th>2017-01-11</th>\n",
       "      <td>72.400002</td>\n",
       "      <td>39.998798</td>\n",
       "      <td>72.400002</td>\n",
       "      <td>39.998798</td>\n",
       "      <td>72.849998</td>\n",
       "      <td>39.998798</td>\n",
       "      <td>72.400002</td>\n",
       "      <td>39.998798</td>\n",
       "      <td>72.800003</td>\n",
       "      <td>39.998798</td>\n",
       "      <td>1898053.0</td>\n",
       "      <td>0.0</td>\n",
       "    </tr>\n",
       "    <tr>\n",
       "      <th>2017-01-12</th>\n",
       "      <td>73.150002</td>\n",
       "      <td>39.790501</td>\n",
       "      <td>73.150002</td>\n",
       "      <td>39.790501</td>\n",
       "      <td>73.300003</td>\n",
       "      <td>39.790501</td>\n",
       "      <td>72.599998</td>\n",
       "      <td>39.790501</td>\n",
       "      <td>72.599998</td>\n",
       "      <td>39.790501</td>\n",
       "      <td>4857459.0</td>\n",
       "      <td>0.0</td>\n",
       "    </tr>\n",
       "    <tr>\n",
       "      <th>2017-01-13</th>\n",
       "      <td>72.599998</td>\n",
       "      <td>39.560101</td>\n",
       "      <td>72.599998</td>\n",
       "      <td>39.560101</td>\n",
       "      <td>72.800003</td>\n",
       "      <td>39.560101</td>\n",
       "      <td>72.599998</td>\n",
       "      <td>39.560101</td>\n",
       "      <td>72.800003</td>\n",
       "      <td>39.560101</td>\n",
       "      <td>3909860.0</td>\n",
       "      <td>0.0</td>\n",
       "    </tr>\n",
       "    <tr>\n",
       "      <th>2017-01-16</th>\n",
       "      <td>72.000000</td>\n",
       "      <td>NaN</td>\n",
       "      <td>72.000000</td>\n",
       "      <td>NaN</td>\n",
       "      <td>72.400002</td>\n",
       "      <td>NaN</td>\n",
       "      <td>71.800003</td>\n",
       "      <td>NaN</td>\n",
       "      <td>72.400002</td>\n",
       "      <td>NaN</td>\n",
       "      <td>2418439.0</td>\n",
       "      <td>NaN</td>\n",
       "    </tr>\n",
       "    <tr>\n",
       "      <th>2017-01-17</th>\n",
       "      <td>72.300003</td>\n",
       "      <td>39.689999</td>\n",
       "      <td>72.300003</td>\n",
       "      <td>39.689999</td>\n",
       "      <td>72.400002</td>\n",
       "      <td>39.779999</td>\n",
       "      <td>72.000000</td>\n",
       "      <td>39.509998</td>\n",
       "      <td>72.000000</td>\n",
       "      <td>39.700001</td>\n",
       "      <td>1572741.0</td>\n",
       "      <td>928000.0</td>\n",
       "    </tr>\n",
       "  </tbody>\n",
       "</table>\n",
       "</div>"
      ],
      "text/plain": [
       "Attributes  Adj Close                 Close                  High             \\\n",
       "Symbols       0050.TW 00679B.TWO    0050.TW 00679B.TWO    0050.TW 00679B.TWO   \n",
       "Date                                                                           \n",
       "2017-01-11  72.400002  39.998798  72.400002  39.998798  72.849998  39.998798   \n",
       "2017-01-12  73.150002  39.790501  73.150002  39.790501  73.300003  39.790501   \n",
       "2017-01-13  72.599998  39.560101  72.599998  39.560101  72.800003  39.560101   \n",
       "2017-01-16  72.000000        NaN  72.000000        NaN  72.400002        NaN   \n",
       "2017-01-17  72.300003  39.689999  72.300003  39.689999  72.400002  39.779999   \n",
       "\n",
       "Attributes        Low                  Open                Volume             \n",
       "Symbols       0050.TW 00679B.TWO    0050.TW 00679B.TWO    0050.TW 00679B.TWO  \n",
       "Date                                                                          \n",
       "2017-01-11  72.400002  39.998798  72.800003  39.998798  1898053.0        0.0  \n",
       "2017-01-12  72.599998  39.790501  72.599998  39.790501  4857459.0        0.0  \n",
       "2017-01-13  72.599998  39.560101  72.800003  39.560101  3909860.0        0.0  \n",
       "2017-01-16  71.800003        NaN  72.400002        NaN  2418439.0        NaN  \n",
       "2017-01-17  72.000000  39.509998  72.000000  39.700001  1572741.0   928000.0  "
      ]
     },
     "execution_count": 2,
     "metadata": {},
     "output_type": "execute_result"
    }
   ],
   "source": [
    "# Read Data\n",
    "test = data.DataReader(['0050.TW','00679B.TWO'], 'yahoo', start='2017/01/11', end='2021/12/31')\n",
    "test.head()"
   ]
  },
  {
   "cell_type": "code",
   "execution_count": 3,
   "metadata": {},
   "outputs": [
    {
     "data": {
      "text/html": [
       "<div>\n",
       "<style scoped>\n",
       "    .dataframe tbody tr th:only-of-type {\n",
       "        vertical-align: middle;\n",
       "    }\n",
       "\n",
       "    .dataframe tbody tr th {\n",
       "        vertical-align: top;\n",
       "    }\n",
       "\n",
       "    .dataframe thead th {\n",
       "        text-align: right;\n",
       "    }\n",
       "</style>\n",
       "<table border=\"1\" class=\"dataframe\">\n",
       "  <thead>\n",
       "    <tr style=\"text-align: right;\">\n",
       "      <th>Symbols</th>\n",
       "      <th>0050.TW</th>\n",
       "      <th>00679B.TWO</th>\n",
       "    </tr>\n",
       "    <tr>\n",
       "      <th>Date</th>\n",
       "      <th></th>\n",
       "      <th></th>\n",
       "    </tr>\n",
       "  </thead>\n",
       "  <tbody>\n",
       "    <tr>\n",
       "      <th>2017-01-11</th>\n",
       "      <td>72.400002</td>\n",
       "      <td>39.998798</td>\n",
       "    </tr>\n",
       "    <tr>\n",
       "      <th>2017-01-12</th>\n",
       "      <td>73.150002</td>\n",
       "      <td>39.790501</td>\n",
       "    </tr>\n",
       "    <tr>\n",
       "      <th>2017-01-13</th>\n",
       "      <td>72.599998</td>\n",
       "      <td>39.560101</td>\n",
       "    </tr>\n",
       "    <tr>\n",
       "      <th>2017-01-16</th>\n",
       "      <td>72.000000</td>\n",
       "      <td>NaN</td>\n",
       "    </tr>\n",
       "    <tr>\n",
       "      <th>2017-01-17</th>\n",
       "      <td>72.300003</td>\n",
       "      <td>39.689999</td>\n",
       "    </tr>\n",
       "  </tbody>\n",
       "</table>\n",
       "</div>"
      ],
      "text/plain": [
       "Symbols       0050.TW  00679B.TWO\n",
       "Date                             \n",
       "2017-01-11  72.400002   39.998798\n",
       "2017-01-12  73.150002   39.790501\n",
       "2017-01-13  72.599998   39.560101\n",
       "2017-01-16  72.000000         NaN\n",
       "2017-01-17  72.300003   39.689999"
      ]
     },
     "execution_count": 3,
     "metadata": {},
     "output_type": "execute_result"
    }
   ],
   "source": [
    "# Closing price\n",
    "test = test['Adj Close']\n",
    "test.head()"
   ]
  },
  {
   "cell_type": "code",
   "execution_count": 4,
   "metadata": {},
   "outputs": [
    {
     "data": {
      "text/plain": [
       "Date\n",
       "2017-01-11         NaN\n",
       "2017-01-12    0.010306\n",
       "2017-01-13   -0.007547\n",
       "2017-01-16   -0.008299\n",
       "2017-01-17    0.004158\n",
       "Name: 0050.TW, dtype: float64"
      ]
     },
     "execution_count": 4,
     "metadata": {},
     "output_type": "execute_result"
    }
   ],
   "source": [
    "# Log of percentage change\n",
    "etf_0050 = test['0050.TW'].pct_change().apply(lambda x: np.log(1+x))\n",
    "etf_0050.head()"
   ]
  },
  {
   "cell_type": "code",
   "execution_count": 5,
   "metadata": {},
   "outputs": [
    {
     "data": {
      "text/plain": [
       "0.00011387110674204043"
      ]
     },
     "execution_count": 5,
     "metadata": {},
     "output_type": "execute_result"
    }
   ],
   "source": [
    "# Variance\n",
    "var_etf_0050 = etf_0050.var()\n",
    "var_etf_0050"
   ]
  },
  {
   "cell_type": "code",
   "execution_count": 7,
   "metadata": {},
   "outputs": [
    {
     "data": {
      "text/plain": [
       "Date\n",
       "2017-01-11         NaN\n",
       "2017-01-12   -0.005221\n",
       "2017-01-13   -0.005807\n",
       "2017-01-16    0.000000\n",
       "2017-01-17    0.003278\n",
       "Name: 00679B.TWO, dtype: float64"
      ]
     },
     "execution_count": 7,
     "metadata": {},
     "output_type": "execute_result"
    }
   ],
   "source": [
    "# Log of Percentage change for Facebook\n",
    "etf_00679B = test['00679B.TWO'].pct_change().apply(lambda x: np.log(1+x))\n",
    "etf_00679B.head()"
   ]
  },
  {
   "cell_type": "code",
   "execution_count": 8,
   "metadata": {},
   "outputs": [
    {
     "data": {
      "text/plain": [
       "7.289805817802401e-05"
      ]
     },
     "execution_count": 8,
     "metadata": {},
     "output_type": "execute_result"
    }
   ],
   "source": [
    "# Variance\n",
    "var_etf_00679B = etf_00679B.var()\n",
    "var_etf_00679B"
   ]
  },
  {
   "cell_type": "code",
   "execution_count": 9,
   "metadata": {},
   "outputs": [
    {
     "data": {
      "text/plain": [
       "(0.1687239659488542, 0.13499820200471563)"
      ]
     },
     "execution_count": 9,
     "metadata": {},
     "output_type": "execute_result"
    }
   ],
   "source": [
    "# Volatility\n",
    "etf_0050_vol = np.sqrt(var_etf_0050 * 250)\n",
    "etf_00679B_vol = np.sqrt(var_etf_00679B * 250)\n",
    "etf_0050_vol, etf_00679B_vol"
   ]
  },
  {
   "cell_type": "code",
   "execution_count": 10,
   "metadata": {},
   "outputs": [
    {
     "data": {
      "text/plain": [
       "<matplotlib.axes._subplots.AxesSubplot at 0x2d2d82a24e0>"
      ]
     },
     "execution_count": 10,
     "metadata": {},
     "output_type": "execute_result"
    },
    {
     "data": {
      "image/png": "[encoded data removed]",
      "text/plain": [
       "<Figure size 432x288 with 1 Axes>"
      ]
     },
     "metadata": {
      "needs_background": "light"
     },
     "output_type": "display_data"
    }
   ],
   "source": [
    "# Volatility of both stocks\n",
    "test.pct_change().apply(lambda x: np.log(1+x)).std().apply(lambda x: x*np.sqrt(250)).plot(kind='bar')"
   ]
  },
  {
   "cell_type": "code",
   "execution_count": 11,
   "metadata": {},
   "outputs": [
    {
     "data": {
      "text/html": [
       "<div>\n",
       "<style scoped>\n",
       "    .dataframe tbody tr th:only-of-type {\n",
       "        vertical-align: middle;\n",
       "    }\n",
       "\n",
       "    .dataframe tbody tr th {\n",
       "        vertical-align: top;\n",
       "    }\n",
       "\n",
       "    .dataframe thead th {\n",
       "        text-align: right;\n",
       "    }\n",
       "</style>\n",
       "<table border=\"1\" class=\"dataframe\">\n",
       "  <thead>\n",
       "    <tr style=\"text-align: right;\">\n",
       "      <th>Symbols</th>\n",
       "      <th>0050.TW</th>\n",
       "      <th>00679B.TWO</th>\n",
       "    </tr>\n",
       "    <tr>\n",
       "      <th>Date</th>\n",
       "      <th></th>\n",
       "      <th></th>\n",
       "    </tr>\n",
       "  </thead>\n",
       "  <tbody>\n",
       "    <tr>\n",
       "      <th>2017-01-11</th>\n",
       "      <td>NaN</td>\n",
       "      <td>NaN</td>\n",
       "    </tr>\n",
       "    <tr>\n",
       "      <th>2017-01-12</th>\n",
       "      <td>0.010306</td>\n",
       "      <td>-0.005221</td>\n",
       "    </tr>\n",
       "    <tr>\n",
       "      <th>2017-01-13</th>\n",
       "      <td>-0.007547</td>\n",
       "      <td>-0.005807</td>\n",
       "    </tr>\n",
       "    <tr>\n",
       "      <th>2017-01-16</th>\n",
       "      <td>-0.008299</td>\n",
       "      <td>0.000000</td>\n",
       "    </tr>\n",
       "    <tr>\n",
       "      <th>2017-01-17</th>\n",
       "      <td>0.004158</td>\n",
       "      <td>0.003278</td>\n",
       "    </tr>\n",
       "  </tbody>\n",
       "</table>\n",
       "</div>"
      ],
      "text/plain": [
       "Symbols      0050.TW  00679B.TWO\n",
       "Date                            \n",
       "2017-01-11       NaN         NaN\n",
       "2017-01-12  0.010306   -0.005221\n",
       "2017-01-13 -0.007547   -0.005807\n",
       "2017-01-16 -0.008299    0.000000\n",
       "2017-01-17  0.004158    0.003278"
      ]
     },
     "execution_count": 11,
     "metadata": {},
     "output_type": "execute_result"
    }
   ],
   "source": [
    "# Log of Percentage change\n",
    "test1 = test.pct_change().apply(lambda x: np.log(1+x))\n",
    "test1.head()"
   ]
  },
  {
   "cell_type": "code",
   "execution_count": 12,
   "metadata": {},
   "outputs": [
    {
     "data": {
      "text/plain": [
       "-1.906106401383426e-05"
      ]
     },
     "execution_count": 12,
     "metadata": {},
     "output_type": "execute_result"
    }
   ],
   "source": [
    "# Covariance\n",
    "test1['0050.TW'].cov(test1['00679B.TWO'])"
   ]
  },
  {
   "cell_type": "code",
   "execution_count": 13,
   "metadata": {},
   "outputs": [
    {
     "data": {
      "text/plain": [
       "-0.20920997571046213"
      ]
     },
     "execution_count": 13,
     "metadata": {},
     "output_type": "execute_result"
    }
   ],
   "source": [
    "# Correlation\n",
    "test1['0050.TW'].corr(test1['00679B.TWO'])"
   ]
  },
  {
   "cell_type": "code",
   "execution_count": 14,
   "metadata": {},
   "outputs": [
    {
     "data": {
      "text/html": [
       "<div>\n",
       "<style scoped>\n",
       "    .dataframe tbody tr th:only-of-type {\n",
       "        vertical-align: middle;\n",
       "    }\n",
       "\n",
       "    .dataframe tbody tr th {\n",
       "        vertical-align: top;\n",
       "    }\n",
       "\n",
       "    .dataframe thead th {\n",
       "        text-align: right;\n",
       "    }\n",
       "</style>\n",
       "<table border=\"1\" class=\"dataframe\">\n",
       "  <thead>\n",
       "    <tr style=\"text-align: right;\">\n",
       "      <th>Symbols</th>\n",
       "      <th>0050.TW</th>\n",
       "      <th>00679B.TWO</th>\n",
       "    </tr>\n",
       "    <tr>\n",
       "      <th>Date</th>\n",
       "      <th></th>\n",
       "      <th></th>\n",
       "    </tr>\n",
       "  </thead>\n",
       "  <tbody>\n",
       "    <tr>\n",
       "      <th>2017-01-11</th>\n",
       "      <td>NaN</td>\n",
       "      <td>NaN</td>\n",
       "    </tr>\n",
       "    <tr>\n",
       "      <th>2017-01-12</th>\n",
       "      <td>0.010306</td>\n",
       "      <td>-0.005221</td>\n",
       "    </tr>\n",
       "    <tr>\n",
       "      <th>2017-01-13</th>\n",
       "      <td>-0.007547</td>\n",
       "      <td>-0.005807</td>\n",
       "    </tr>\n",
       "    <tr>\n",
       "      <th>2017-01-16</th>\n",
       "      <td>-0.008299</td>\n",
       "      <td>0.000000</td>\n",
       "    </tr>\n",
       "    <tr>\n",
       "      <th>2017-01-17</th>\n",
       "      <td>0.004158</td>\n",
       "      <td>0.003278</td>\n",
       "    </tr>\n",
       "  </tbody>\n",
       "</table>\n",
       "</div>"
      ],
      "text/plain": [
       "Symbols      0050.TW  00679B.TWO\n",
       "Date                            \n",
       "2017-01-11       NaN         NaN\n",
       "2017-01-12  0.010306   -0.005221\n",
       "2017-01-13 -0.007547   -0.005807\n",
       "2017-01-16 -0.008299    0.000000\n",
       "2017-01-17  0.004158    0.003278"
      ]
     },
     "execution_count": 14,
     "metadata": {},
     "output_type": "execute_result"
    }
   ],
   "source": [
    "# Expected Returns\n",
    "test2 = test.pct_change().apply(lambda x: np.log(1+x))\n",
    "test2.head()"
   ]
  },
  {
   "cell_type": "code",
   "execution_count": 15,
   "metadata": {},
   "outputs": [
    {
     "data": {
      "text/plain": [
       "Symbols\n",
       "0050.TW       0.000576\n",
       "00679B.TWO    0.000025\n",
       "dtype: float64"
      ]
     },
     "execution_count": 15,
     "metadata": {},
     "output_type": "execute_result"
    }
   ],
   "source": [
    "# Define weights for allocation\n",
    "w = [0.2, 0.8]\n",
    "e_r_ind = test2.mean()\n",
    "e_r_ind"
   ]
  },
  {
   "cell_type": "code",
   "execution_count": 16,
   "metadata": {},
   "outputs": [
    {
     "data": {
      "text/plain": [
       "0.00013502748098413522"
      ]
     },
     "execution_count": 16,
     "metadata": {},
     "output_type": "execute_result"
    }
   ],
   "source": [
    "# Total expected return\n",
    "e_r = (e_r_ind*w).sum()\n",
    "e_r"
   ]
  },
  {
   "cell_type": "markdown",
   "metadata": {},
   "source": [
    "## 實戰"
   ]
  },
  {
   "cell_type": "code",
   "execution_count": 3,
   "metadata": {},
   "outputs": [
    {
     "data": {
      "text/html": [
       "<div>\n",
       "<style scoped>\n",
       "    .dataframe tbody tr th:only-of-type {\n",
       "        vertical-align: middle;\n",
       "    }\n",
       "\n",
       "    .dataframe tbody tr th {\n",
       "        vertical-align: top;\n",
       "    }\n",
       "\n",
       "    .dataframe thead tr th {\n",
       "        text-align: left;\n",
       "    }\n",
       "\n",
       "    .dataframe thead tr:last-of-type th {\n",
       "        text-align: right;\n",
       "    }\n",
       "</style>\n",
       "<table border=\"1\" class=\"dataframe\">\n",
       "  <thead>\n",
       "    <tr>\n",
       "      <th>Attributes</th>\n",
       "      <th colspan=\"5\" halign=\"left\">Adj Close</th>\n",
       "      <th colspan=\"5\" halign=\"left\">Close</th>\n",
       "      <th>...</th>\n",
       "      <th colspan=\"5\" halign=\"left\">Open</th>\n",
       "      <th colspan=\"5\" halign=\"left\">Volume</th>\n",
       "    </tr>\n",
       "    <tr>\n",
       "      <th>Symbols</th>\n",
       "      <th>0050.TW</th>\n",
       "      <th>0051.TW</th>\n",
       "      <th>0056.TW</th>\n",
       "      <th>00679B.TWO</th>\n",
       "      <th>00733.TW</th>\n",
       "      <th>0050.TW</th>\n",
       "      <th>0051.TW</th>\n",
       "      <th>0056.TW</th>\n",
       "      <th>00679B.TWO</th>\n",
       "      <th>00733.TW</th>\n",
       "      <th>...</th>\n",
       "      <th>0050.TW</th>\n",
       "      <th>0051.TW</th>\n",
       "      <th>0056.TW</th>\n",
       "      <th>00679B.TWO</th>\n",
       "      <th>00733.TW</th>\n",
       "      <th>0050.TW</th>\n",
       "      <th>0051.TW</th>\n",
       "      <th>0056.TW</th>\n",
       "      <th>00679B.TWO</th>\n",
       "      <th>00733.TW</th>\n",
       "    </tr>\n",
       "    <tr>\n",
       "      <th>Date</th>\n",
       "      <th></th>\n",
       "      <th></th>\n",
       "      <th></th>\n",
       "      <th></th>\n",
       "      <th></th>\n",
       "      <th></th>\n",
       "      <th></th>\n",
       "      <th></th>\n",
       "      <th></th>\n",
       "      <th></th>\n",
       "      <th></th>\n",
       "      <th></th>\n",
       "      <th></th>\n",
       "      <th></th>\n",
       "      <th></th>\n",
       "      <th></th>\n",
       "      <th></th>\n",
       "      <th></th>\n",
       "      <th></th>\n",
       "      <th></th>\n",
       "      <th></th>\n",
       "    </tr>\n",
       "  </thead>\n",
       "  <tbody>\n",
       "    <tr>\n",
       "      <th>2018-05-07</th>\n",
       "      <td>79.500000</td>\n",
       "      <td>32.000000</td>\n",
       "      <td>25.299999</td>\n",
       "      <td>36.540001</td>\n",
       "      <td>20.0</td>\n",
       "      <td>79.500000</td>\n",
       "      <td>32.000000</td>\n",
       "      <td>25.299999</td>\n",
       "      <td>36.540001</td>\n",
       "      <td>20.0</td>\n",
       "      <td>...</td>\n",
       "      <td>79.500000</td>\n",
       "      <td>31.959999</td>\n",
       "      <td>25.350000</td>\n",
       "      <td>36.490002</td>\n",
       "      <td>20.0</td>\n",
       "      <td>3858382</td>\n",
       "      <td>16110</td>\n",
       "      <td>952527</td>\n",
       "      <td>640062</td>\n",
       "      <td>0</td>\n",
       "    </tr>\n",
       "    <tr>\n",
       "      <th>2018-05-08</th>\n",
       "      <td>80.000000</td>\n",
       "      <td>32.240002</td>\n",
       "      <td>25.430000</td>\n",
       "      <td>36.590000</td>\n",
       "      <td>20.0</td>\n",
       "      <td>80.000000</td>\n",
       "      <td>32.240002</td>\n",
       "      <td>25.430000</td>\n",
       "      <td>36.590000</td>\n",
       "      <td>20.0</td>\n",
       "      <td>...</td>\n",
       "      <td>79.400002</td>\n",
       "      <td>32.000000</td>\n",
       "      <td>25.299999</td>\n",
       "      <td>36.540001</td>\n",
       "      <td>20.0</td>\n",
       "      <td>5352116</td>\n",
       "      <td>6150</td>\n",
       "      <td>702378</td>\n",
       "      <td>503084</td>\n",
       "      <td>0</td>\n",
       "    </tr>\n",
       "    <tr>\n",
       "      <th>2018-05-09</th>\n",
       "      <td>80.449997</td>\n",
       "      <td>32.349998</td>\n",
       "      <td>25.400000</td>\n",
       "      <td>36.599998</td>\n",
       "      <td>20.0</td>\n",
       "      <td>80.449997</td>\n",
       "      <td>32.349998</td>\n",
       "      <td>25.400000</td>\n",
       "      <td>36.599998</td>\n",
       "      <td>20.0</td>\n",
       "      <td>...</td>\n",
       "      <td>80.000000</td>\n",
       "      <td>32.150002</td>\n",
       "      <td>25.379999</td>\n",
       "      <td>36.480000</td>\n",
       "      <td>20.0</td>\n",
       "      <td>3359022</td>\n",
       "      <td>5000</td>\n",
       "      <td>462117</td>\n",
       "      <td>978126</td>\n",
       "      <td>0</td>\n",
       "    </tr>\n",
       "    <tr>\n",
       "      <th>2018-05-10</th>\n",
       "      <td>80.650002</td>\n",
       "      <td>32.520000</td>\n",
       "      <td>25.480000</td>\n",
       "      <td>36.540001</td>\n",
       "      <td>20.0</td>\n",
       "      <td>80.650002</td>\n",
       "      <td>32.520000</td>\n",
       "      <td>25.480000</td>\n",
       "      <td>36.540001</td>\n",
       "      <td>20.0</td>\n",
       "      <td>...</td>\n",
       "      <td>80.699997</td>\n",
       "      <td>32.509998</td>\n",
       "      <td>25.500000</td>\n",
       "      <td>36.549999</td>\n",
       "      <td>20.0</td>\n",
       "      <td>5977304</td>\n",
       "      <td>9606</td>\n",
       "      <td>540725</td>\n",
       "      <td>622000</td>\n",
       "      <td>0</td>\n",
       "    </tr>\n",
       "    <tr>\n",
       "      <th>2018-05-11</th>\n",
       "      <td>81.599998</td>\n",
       "      <td>32.790001</td>\n",
       "      <td>25.600000</td>\n",
       "      <td>36.549999</td>\n",
       "      <td>20.0</td>\n",
       "      <td>81.599998</td>\n",
       "      <td>32.790001</td>\n",
       "      <td>25.600000</td>\n",
       "      <td>36.549999</td>\n",
       "      <td>20.0</td>\n",
       "      <td>...</td>\n",
       "      <td>81.099998</td>\n",
       "      <td>32.750000</td>\n",
       "      <td>25.500000</td>\n",
       "      <td>36.650002</td>\n",
       "      <td>20.0</td>\n",
       "      <td>17654297</td>\n",
       "      <td>11705</td>\n",
       "      <td>2452825</td>\n",
       "      <td>492050</td>\n",
       "      <td>0</td>\n",
       "    </tr>\n",
       "  </tbody>\n",
       "</table>\n",
       "<p>5 rows × 30 columns</p>\n",
       "</div>"
      ],
      "text/plain": [
       "Attributes  Adj Close                                                Close  \\\n",
       "Symbols       0050.TW    0051.TW    0056.TW 00679B.TWO 00733.TW    0050.TW   \n",
       "Date                                                                         \n",
       "2018-05-07  79.500000  32.000000  25.299999  36.540001     20.0  79.500000   \n",
       "2018-05-08  80.000000  32.240002  25.430000  36.590000     20.0  80.000000   \n",
       "2018-05-09  80.449997  32.349998  25.400000  36.599998     20.0  80.449997   \n",
       "2018-05-10  80.650002  32.520000  25.480000  36.540001     20.0  80.650002   \n",
       "2018-05-11  81.599998  32.790001  25.600000  36.549999     20.0  81.599998   \n",
       "\n",
       "Attributes                                            ...       Open  \\\n",
       "Symbols       0051.TW    0056.TW 00679B.TWO 00733.TW  ...    0050.TW   \n",
       "Date                                                  ...              \n",
       "2018-05-07  32.000000  25.299999  36.540001     20.0  ...  79.500000   \n",
       "2018-05-08  32.240002  25.430000  36.590000     20.0  ...  79.400002   \n",
       "2018-05-09  32.349998  25.400000  36.599998     20.0  ...  80.000000   \n",
       "2018-05-10  32.520000  25.480000  36.540001     20.0  ...  80.699997   \n",
       "2018-05-11  32.790001  25.600000  36.549999     20.0  ...  81.099998   \n",
       "\n",
       "Attributes                                              Volume          \\\n",
       "Symbols       0051.TW    0056.TW 00679B.TWO 00733.TW   0050.TW 0051.TW   \n",
       "Date                                                                     \n",
       "2018-05-07  31.959999  25.350000  36.490002     20.0   3858382   16110   \n",
       "2018-05-08  32.000000  25.299999  36.540001     20.0   5352116    6150   \n",
       "2018-05-09  32.150002  25.379999  36.480000     20.0   3359022    5000   \n",
       "2018-05-10  32.509998  25.500000  36.549999     20.0   5977304    9606   \n",
       "2018-05-11  32.750000  25.500000  36.650002     20.0  17654297   11705   \n",
       "\n",
       "Attributes                               \n",
       "Symbols     0056.TW 00679B.TWO 00733.TW  \n",
       "Date                                     \n",
       "2018-05-07   952527     640062        0  \n",
       "2018-05-08   702378     503084        0  \n",
       "2018-05-09   462117     978126        0  \n",
       "2018-05-10   540725     622000        0  \n",
       "2018-05-11  2452825     492050        0  \n",
       "\n",
       "[5 rows x 30 columns]"
      ]
     },
     "execution_count": 3,
     "metadata": {},
     "output_type": "execute_result"
    }
   ],
   "source": [
    "# Import data\n",
    "df = data.DataReader(['0050.TW','0051.TW','0056.TW','00733.TW','00679B.TWO'], 'yahoo', start='2018/05/05', end='2021/12/31')\n",
    "df.head()"
   ]
  },
  {
   "cell_type": "code",
   "execution_count": 4,
   "metadata": {},
   "outputs": [
    {
     "data": {
      "text/html": [
       "<div>\n",
       "<style scoped>\n",
       "    .dataframe tbody tr th:only-of-type {\n",
       "        vertical-align: middle;\n",
       "    }\n",
       "\n",
       "    .dataframe tbody tr th {\n",
       "        vertical-align: top;\n",
       "    }\n",
       "\n",
       "    .dataframe thead th {\n",
       "        text-align: right;\n",
       "    }\n",
       "</style>\n",
       "<table border=\"1\" class=\"dataframe\">\n",
       "  <thead>\n",
       "    <tr style=\"text-align: right;\">\n",
       "      <th>Symbols</th>\n",
       "      <th>0050.TW</th>\n",
       "      <th>0051.TW</th>\n",
       "      <th>0056.TW</th>\n",
       "      <th>00679B.TWO</th>\n",
       "      <th>00733.TW</th>\n",
       "    </tr>\n",
       "    <tr>\n",
       "      <th>Date</th>\n",
       "      <th></th>\n",
       "      <th></th>\n",
       "      <th></th>\n",
       "      <th></th>\n",
       "      <th></th>\n",
       "    </tr>\n",
       "  </thead>\n",
       "  <tbody>\n",
       "    <tr>\n",
       "      <th>2018-05-07</th>\n",
       "      <td>79.500000</td>\n",
       "      <td>32.000000</td>\n",
       "      <td>25.299999</td>\n",
       "      <td>36.540001</td>\n",
       "      <td>20.0</td>\n",
       "    </tr>\n",
       "    <tr>\n",
       "      <th>2018-05-08</th>\n",
       "      <td>80.000000</td>\n",
       "      <td>32.240002</td>\n",
       "      <td>25.430000</td>\n",
       "      <td>36.590000</td>\n",
       "      <td>20.0</td>\n",
       "    </tr>\n",
       "    <tr>\n",
       "      <th>2018-05-09</th>\n",
       "      <td>80.449997</td>\n",
       "      <td>32.349998</td>\n",
       "      <td>25.400000</td>\n",
       "      <td>36.599998</td>\n",
       "      <td>20.0</td>\n",
       "    </tr>\n",
       "    <tr>\n",
       "      <th>2018-05-10</th>\n",
       "      <td>80.650002</td>\n",
       "      <td>32.520000</td>\n",
       "      <td>25.480000</td>\n",
       "      <td>36.540001</td>\n",
       "      <td>20.0</td>\n",
       "    </tr>\n",
       "    <tr>\n",
       "      <th>2018-05-11</th>\n",
       "      <td>81.599998</td>\n",
       "      <td>32.790001</td>\n",
       "      <td>25.600000</td>\n",
       "      <td>36.549999</td>\n",
       "      <td>20.0</td>\n",
       "    </tr>\n",
       "  </tbody>\n",
       "</table>\n",
       "</div>"
      ],
      "text/plain": [
       "Symbols       0050.TW    0051.TW    0056.TW  00679B.TWO  00733.TW\n",
       "Date                                                             \n",
       "2018-05-07  79.500000  32.000000  25.299999   36.540001      20.0\n",
       "2018-05-08  80.000000  32.240002  25.430000   36.590000      20.0\n",
       "2018-05-09  80.449997  32.349998  25.400000   36.599998      20.0\n",
       "2018-05-10  80.650002  32.520000  25.480000   36.540001      20.0\n",
       "2018-05-11  81.599998  32.790001  25.600000   36.549999      20.0"
      ]
     },
     "execution_count": 4,
     "metadata": {},
     "output_type": "execute_result"
    }
   ],
   "source": [
    "# Closing price\n",
    "df = df['Adj Close']\n",
    "df.head()"
   ]
  },
  {
   "cell_type": "code",
   "execution_count": 5,
   "metadata": {},
   "outputs": [
    {
     "data": {
      "text/html": [
       "<div>\n",
       "<style scoped>\n",
       "    .dataframe tbody tr th:only-of-type {\n",
       "        vertical-align: middle;\n",
       "    }\n",
       "\n",
       "    .dataframe tbody tr th {\n",
       "        vertical-align: top;\n",
       "    }\n",
       "\n",
       "    .dataframe thead th {\n",
       "        text-align: right;\n",
       "    }\n",
       "</style>\n",
       "<table border=\"1\" class=\"dataframe\">\n",
       "  <thead>\n",
       "    <tr style=\"text-align: right;\">\n",
       "      <th>Symbols</th>\n",
       "      <th>0050.TW</th>\n",
       "      <th>0051.TW</th>\n",
       "      <th>0056.TW</th>\n",
       "      <th>00679B.TWO</th>\n",
       "      <th>00733.TW</th>\n",
       "    </tr>\n",
       "    <tr>\n",
       "      <th>Symbols</th>\n",
       "      <th></th>\n",
       "      <th></th>\n",
       "      <th></th>\n",
       "      <th></th>\n",
       "      <th></th>\n",
       "    </tr>\n",
       "  </thead>\n",
       "  <tbody>\n",
       "    <tr>\n",
       "      <th>0050.TW</th>\n",
       "      <td>0.000134</td>\n",
       "      <td>0.000094</td>\n",
       "      <td>0.000077</td>\n",
       "      <td>-0.000023</td>\n",
       "      <td>0.000112</td>\n",
       "    </tr>\n",
       "    <tr>\n",
       "      <th>0051.TW</th>\n",
       "      <td>0.000094</td>\n",
       "      <td>0.000147</td>\n",
       "      <td>0.000081</td>\n",
       "      <td>-0.000015</td>\n",
       "      <td>0.000141</td>\n",
       "    </tr>\n",
       "    <tr>\n",
       "      <th>0056.TW</th>\n",
       "      <td>0.000077</td>\n",
       "      <td>0.000081</td>\n",
       "      <td>0.000087</td>\n",
       "      <td>-0.000012</td>\n",
       "      <td>0.000104</td>\n",
       "    </tr>\n",
       "    <tr>\n",
       "      <th>00679B.TWO</th>\n",
       "      <td>-0.000023</td>\n",
       "      <td>-0.000015</td>\n",
       "      <td>-0.000012</td>\n",
       "      <td>0.000087</td>\n",
       "      <td>-0.000014</td>\n",
       "    </tr>\n",
       "    <tr>\n",
       "      <th>00733.TW</th>\n",
       "      <td>0.000112</td>\n",
       "      <td>0.000141</td>\n",
       "      <td>0.000104</td>\n",
       "      <td>-0.000014</td>\n",
       "      <td>0.000243</td>\n",
       "    </tr>\n",
       "  </tbody>\n",
       "</table>\n",
       "</div>"
      ],
      "text/plain": [
       "Symbols      0050.TW   0051.TW   0056.TW  00679B.TWO  00733.TW\n",
       "Symbols                                                       \n",
       "0050.TW     0.000134  0.000094  0.000077   -0.000023  0.000112\n",
       "0051.TW     0.000094  0.000147  0.000081   -0.000015  0.000141\n",
       "0056.TW     0.000077  0.000081  0.000087   -0.000012  0.000104\n",
       "00679B.TWO -0.000023 -0.000015 -0.000012    0.000087 -0.000014\n",
       "00733.TW    0.000112  0.000141  0.000104   -0.000014  0.000243"
      ]
     },
     "execution_count": 5,
     "metadata": {},
     "output_type": "execute_result"
    }
   ],
   "source": [
    "# Log of percentage change\n",
    "cov_matrix = df.pct_change().apply(lambda x: np.log(1+x)).cov()\n",
    "cov_matrix"
   ]
  },
  {
   "cell_type": "code",
   "execution_count": 6,
   "metadata": {},
   "outputs": [
    {
     "data": {
      "text/html": [
       "<div>\n",
       "<style scoped>\n",
       "    .dataframe tbody tr th:only-of-type {\n",
       "        vertical-align: middle;\n",
       "    }\n",
       "\n",
       "    .dataframe tbody tr th {\n",
       "        vertical-align: top;\n",
       "    }\n",
       "\n",
       "    .dataframe thead th {\n",
       "        text-align: right;\n",
       "    }\n",
       "</style>\n",
       "<table border=\"1\" class=\"dataframe\">\n",
       "  <thead>\n",
       "    <tr style=\"text-align: right;\">\n",
       "      <th>Symbols</th>\n",
       "      <th>0050.TW</th>\n",
       "      <th>0051.TW</th>\n",
       "      <th>0056.TW</th>\n",
       "      <th>00679B.TWO</th>\n",
       "      <th>00733.TW</th>\n",
       "    </tr>\n",
       "    <tr>\n",
       "      <th>Symbols</th>\n",
       "      <th></th>\n",
       "      <th></th>\n",
       "      <th></th>\n",
       "      <th></th>\n",
       "      <th></th>\n",
       "    </tr>\n",
       "  </thead>\n",
       "  <tbody>\n",
       "    <tr>\n",
       "      <th>0050.TW</th>\n",
       "      <td>1.000000</td>\n",
       "      <td>0.667680</td>\n",
       "      <td>0.715723</td>\n",
       "      <td>-0.216317</td>\n",
       "      <td>0.618201</td>\n",
       "    </tr>\n",
       "    <tr>\n",
       "      <th>0051.TW</th>\n",
       "      <td>0.667680</td>\n",
       "      <td>1.000000</td>\n",
       "      <td>0.718699</td>\n",
       "      <td>-0.129821</td>\n",
       "      <td>0.743453</td>\n",
       "    </tr>\n",
       "    <tr>\n",
       "      <th>0056.TW</th>\n",
       "      <td>0.715723</td>\n",
       "      <td>0.718699</td>\n",
       "      <td>1.000000</td>\n",
       "      <td>-0.142777</td>\n",
       "      <td>0.716774</td>\n",
       "    </tr>\n",
       "    <tr>\n",
       "      <th>00679B.TWO</th>\n",
       "      <td>-0.216317</td>\n",
       "      <td>-0.129821</td>\n",
       "      <td>-0.142777</td>\n",
       "      <td>1.000000</td>\n",
       "      <td>-0.096418</td>\n",
       "    </tr>\n",
       "    <tr>\n",
       "      <th>00733.TW</th>\n",
       "      <td>0.618201</td>\n",
       "      <td>0.743453</td>\n",
       "      <td>0.716774</td>\n",
       "      <td>-0.096418</td>\n",
       "      <td>1.000000</td>\n",
       "    </tr>\n",
       "  </tbody>\n",
       "</table>\n",
       "</div>"
      ],
      "text/plain": [
       "Symbols      0050.TW   0051.TW   0056.TW  00679B.TWO  00733.TW\n",
       "Symbols                                                       \n",
       "0050.TW     1.000000  0.667680  0.715723   -0.216317  0.618201\n",
       "0051.TW     0.667680  1.000000  0.718699   -0.129821  0.743453\n",
       "0056.TW     0.715723  0.718699  1.000000   -0.142777  0.716774\n",
       "00679B.TWO -0.216317 -0.129821 -0.142777    1.000000 -0.096418\n",
       "00733.TW    0.618201  0.743453  0.716774   -0.096418  1.000000"
      ]
     },
     "execution_count": 6,
     "metadata": {},
     "output_type": "execute_result"
    }
   ],
   "source": [
    "corr_matrix = df.pct_change().apply(lambda x: np.log(1+x)).corr()\n",
    "corr_matrix"
   ]
  },
  {
   "cell_type": "code",
   "execution_count": 7,
   "metadata": {},
   "outputs": [
    {
     "ename": "ValueError",
     "evalue": "Unable to coerce to Series, length must be 5: given 3",
     "output_type": "error",
     "traceback": [
      "\u001b[1;31m---------------------------------------------------------------------------\u001b[0m",
      "\u001b[1;31mValueError\u001b[0m                                Traceback (most recent call last)",
      "\u001b[1;32m<ipython-input-7-71594ef7a185>\u001b[0m in \u001b[0;36m<module>\u001b[1;34m\u001b[0m\n\u001b[0;32m      1\u001b[0m \u001b[1;31m# Randomly weighted portfolio's variance\u001b[0m\u001b[1;33m\u001b[0m\u001b[1;33m\u001b[0m\u001b[1;33m\u001b[0m\u001b[0m\n\u001b[0;32m      2\u001b[0m \u001b[0mw\u001b[0m \u001b[1;33m=\u001b[0m \u001b[1;33m{\u001b[0m\u001b[1;34m'0050.TW'\u001b[0m\u001b[1;33m:\u001b[0m \u001b[1;36m0.1\u001b[0m\u001b[1;33m,\u001b[0m \u001b[1;34m'0051.TW'\u001b[0m\u001b[1;33m:\u001b[0m \u001b[1;36m0.1\u001b[0m\u001b[1;33m,\u001b[0m\u001b[1;34m'TLT'\u001b[0m\u001b[1;33m:\u001b[0m \u001b[1;36m0.8\u001b[0m\u001b[1;33m}\u001b[0m\u001b[1;33m\u001b[0m\u001b[1;33m\u001b[0m\u001b[0m\n\u001b[1;32m----> 3\u001b[1;33m \u001b[0mport_var\u001b[0m \u001b[1;33m=\u001b[0m \u001b[0mcov_matrix\u001b[0m\u001b[1;33m.\u001b[0m\u001b[0mmul\u001b[0m\u001b[1;33m(\u001b[0m\u001b[0mw\u001b[0m\u001b[1;33m,\u001b[0m \u001b[0maxis\u001b[0m\u001b[1;33m=\u001b[0m\u001b[1;36m0\u001b[0m\u001b[1;33m)\u001b[0m\u001b[1;33m.\u001b[0m\u001b[0mmul\u001b[0m\u001b[1;33m(\u001b[0m\u001b[0mw\u001b[0m\u001b[1;33m,\u001b[0m \u001b[0maxis\u001b[0m\u001b[1;33m=\u001b[0m\u001b[1;36m1\u001b[0m\u001b[1;33m)\u001b[0m\u001b[1;33m.\u001b[0m\u001b[0msum\u001b[0m\u001b[1;33m(\u001b[0m\u001b[1;33m)\u001b[0m\u001b[1;33m.\u001b[0m\u001b[0msum\u001b[0m\u001b[1;33m(\u001b[0m\u001b[1;33m)\u001b[0m\u001b[1;33m\u001b[0m\u001b[1;33m\u001b[0m\u001b[0m\n\u001b[0m\u001b[0;32m      4\u001b[0m \u001b[0mport_var\u001b[0m\u001b[1;33m\u001b[0m\u001b[1;33m\u001b[0m\u001b[0m\n",
      "\u001b[1;32m~\\Anaconda3\\lib\\site-packages\\pandas\\core\\ops.py\u001b[0m in \u001b[0;36mf\u001b[1;34m(self, other, axis, level, fill_value)\u001b[0m\n\u001b[0;32m   2016\u001b[0m     \u001b[1;32mdef\u001b[0m \u001b[0mf\u001b[0m\u001b[1;33m(\u001b[0m\u001b[0mself\u001b[0m\u001b[1;33m,\u001b[0m \u001b[0mother\u001b[0m\u001b[1;33m,\u001b[0m \u001b[0maxis\u001b[0m\u001b[1;33m=\u001b[0m\u001b[0mdefault_axis\u001b[0m\u001b[1;33m,\u001b[0m \u001b[0mlevel\u001b[0m\u001b[1;33m=\u001b[0m\u001b[1;32mNone\u001b[0m\u001b[1;33m,\u001b[0m \u001b[0mfill_value\u001b[0m\u001b[1;33m=\u001b[0m\u001b[1;32mNone\u001b[0m\u001b[1;33m)\u001b[0m\u001b[1;33m:\u001b[0m\u001b[1;33m\u001b[0m\u001b[1;33m\u001b[0m\u001b[0m\n\u001b[0;32m   2017\u001b[0m \u001b[1;33m\u001b[0m\u001b[0m\n\u001b[1;32m-> 2018\u001b[1;33m         \u001b[0mother\u001b[0m \u001b[1;33m=\u001b[0m \u001b[0m_align_method_FRAME\u001b[0m\u001b[1;33m(\u001b[0m\u001b[0mself\u001b[0m\u001b[1;33m,\u001b[0m \u001b[0mother\u001b[0m\u001b[1;33m,\u001b[0m \u001b[0maxis\u001b[0m\u001b[1;33m)\u001b[0m\u001b[1;33m\u001b[0m\u001b[1;33m\u001b[0m\u001b[0m\n\u001b[0m\u001b[0;32m   2019\u001b[0m \u001b[1;33m\u001b[0m\u001b[0m\n\u001b[0;32m   2020\u001b[0m         \u001b[1;32mif\u001b[0m \u001b[0misinstance\u001b[0m\u001b[1;33m(\u001b[0m\u001b[0mother\u001b[0m\u001b[1;33m,\u001b[0m \u001b[0mABCDataFrame\u001b[0m\u001b[1;33m)\u001b[0m\u001b[1;33m:\u001b[0m\u001b[1;33m\u001b[0m\u001b[1;33m\u001b[0m\u001b[0m\n",
      "\u001b[1;32m~\\Anaconda3\\lib\\site-packages\\pandas\\core\\ops.py\u001b[0m in \u001b[0;36m_align_method_FRAME\u001b[1;34m(left, right, axis)\u001b[0m\n\u001b[0;32m   1983\u001b[0m           not isinstance(right, (ABCSeries, ABCDataFrame))):\n\u001b[0;32m   1984\u001b[0m         \u001b[1;31m# GH17901\u001b[0m\u001b[1;33m\u001b[0m\u001b[1;33m\u001b[0m\u001b[1;33m\u001b[0m\u001b[0m\n\u001b[1;32m-> 1985\u001b[1;33m         \u001b[0mright\u001b[0m \u001b[1;33m=\u001b[0m \u001b[0mto_series\u001b[0m\u001b[1;33m(\u001b[0m\u001b[0mright\u001b[0m\u001b[1;33m)\u001b[0m\u001b[1;33m\u001b[0m\u001b[1;33m\u001b[0m\u001b[0m\n\u001b[0m\u001b[0;32m   1986\u001b[0m \u001b[1;33m\u001b[0m\u001b[0m\n\u001b[0;32m   1987\u001b[0m     \u001b[1;32mreturn\u001b[0m \u001b[0mright\u001b[0m\u001b[1;33m\u001b[0m\u001b[1;33m\u001b[0m\u001b[0m\n",
      "\u001b[1;32m~\\Anaconda3\\lib\\site-packages\\pandas\\core\\ops.py\u001b[0m in \u001b[0;36mto_series\u001b[1;34m(right)\u001b[0m\n\u001b[0;32m   1940\u001b[0m             \u001b[1;32mif\u001b[0m \u001b[0mlen\u001b[0m\u001b[1;33m(\u001b[0m\u001b[0mleft\u001b[0m\u001b[1;33m.\u001b[0m\u001b[0mindex\u001b[0m\u001b[1;33m)\u001b[0m \u001b[1;33m!=\u001b[0m \u001b[0mlen\u001b[0m\u001b[1;33m(\u001b[0m\u001b[0mright\u001b[0m\u001b[1;33m)\u001b[0m\u001b[1;33m:\u001b[0m\u001b[1;33m\u001b[0m\u001b[1;33m\u001b[0m\u001b[0m\n\u001b[0;32m   1941\u001b[0m                 raise ValueError(msg.format(req_len=len(left.index),\n\u001b[1;32m-> 1942\u001b[1;33m                                             given_len=len(right)))\n\u001b[0m\u001b[0;32m   1943\u001b[0m             \u001b[0mright\u001b[0m \u001b[1;33m=\u001b[0m \u001b[0mleft\u001b[0m\u001b[1;33m.\u001b[0m\u001b[0m_constructor_sliced\u001b[0m\u001b[1;33m(\u001b[0m\u001b[0mright\u001b[0m\u001b[1;33m,\u001b[0m \u001b[0mindex\u001b[0m\u001b[1;33m=\u001b[0m\u001b[0mleft\u001b[0m\u001b[1;33m.\u001b[0m\u001b[0mindex\u001b[0m\u001b[1;33m)\u001b[0m\u001b[1;33m\u001b[0m\u001b[1;33m\u001b[0m\u001b[0m\n\u001b[0;32m   1944\u001b[0m         \u001b[1;32melse\u001b[0m\u001b[1;33m:\u001b[0m\u001b[1;33m\u001b[0m\u001b[1;33m\u001b[0m\u001b[0m\n",
      "\u001b[1;31mValueError\u001b[0m: Unable to coerce to Series, length must be 5: given 3"
     ]
    }
   ],
   "source": [
    "# Randomly weighted portfolio's variance\n",
    "w = {'0050.TW': 0.1, '0051.TW': 0.1,'TLT': 0.8}\n",
    "port_var = cov_matrix.mul(w, axis=0).mul(w, axis=1).sum().sum()\n",
    "port_var"
   ]
  },
  {
   "cell_type": "code",
   "execution_count": 8,
   "metadata": {},
   "outputs": [
    {
     "data": {
      "text/plain": [
       "Symbols\n",
       "0050.TW       0.245083\n",
       "0051.TW       0.291881\n",
       "0056.TW       0.121713\n",
       "00679B.TWO    0.029824\n",
       "00733.TW      0.410946\n",
       "dtype: float64"
      ]
     },
     "execution_count": 8,
     "metadata": {},
     "output_type": "execute_result"
    }
   ],
   "source": [
    "# Yearly returns for individual companies\n",
    "ind_er = df.resample('Y').last().pct_change().mean()\n",
    "ind_er"
   ]
  },
  {
   "cell_type": "code",
   "execution_count": 9,
   "metadata": {},
   "outputs": [
    {
     "data": {
      "text/plain": [
       "0.31541779075608595"
      ]
     },
     "execution_count": 9,
     "metadata": {},
     "output_type": "execute_result"
    }
   ],
   "source": [
    "# Portfolio returns\n",
    "w = [0.1, 0.1, 0.1, 0.1, 0.6]\n",
    "port_er = (w*ind_er).sum()\n",
    "port_er"
   ]
  },
  {
   "cell_type": "code",
   "execution_count": 10,
   "metadata": {},
   "outputs": [
    {
     "data": {
      "text/plain": [
       "Symbols\n",
       "0050.TW       0.183036\n",
       "0051.TW       0.192013\n",
       "0056.TW       0.147480\n",
       "00679B.TWO    0.147549\n",
       "00733.TW      0.246703\n",
       "dtype: float64"
      ]
     },
     "execution_count": 10,
     "metadata": {},
     "output_type": "execute_result"
    }
   ],
   "source": [
    "# Volatility is given by the annual standard deviation. We multiply by 250 because there are 250 trading days/year.\n",
    "ann_sd = df.pct_change().apply(lambda x: np.log(1+x)).std().apply(lambda x: x*np.sqrt(250))\n",
    "ann_sd"
   ]
  },
  {
   "cell_type": "code",
   "execution_count": 11,
   "metadata": {},
   "outputs": [
    {
     "data": {
      "text/html": [
       "<div>\n",
       "<style scoped>\n",
       "    .dataframe tbody tr th:only-of-type {\n",
       "        vertical-align: middle;\n",
       "    }\n",
       "\n",
       "    .dataframe tbody tr th {\n",
       "        vertical-align: top;\n",
       "    }\n",
       "\n",
       "    .dataframe thead th {\n",
       "        text-align: right;\n",
       "    }\n",
       "</style>\n",
       "<table border=\"1\" class=\"dataframe\">\n",
       "  <thead>\n",
       "    <tr style=\"text-align: right;\">\n",
       "      <th></th>\n",
       "      <th>Returns</th>\n",
       "      <th>Volatility</th>\n",
       "    </tr>\n",
       "    <tr>\n",
       "      <th>Symbols</th>\n",
       "      <th></th>\n",
       "      <th></th>\n",
       "    </tr>\n",
       "  </thead>\n",
       "  <tbody>\n",
       "    <tr>\n",
       "      <th>0050.TW</th>\n",
       "      <td>0.245083</td>\n",
       "      <td>0.183036</td>\n",
       "    </tr>\n",
       "    <tr>\n",
       "      <th>0051.TW</th>\n",
       "      <td>0.291881</td>\n",
       "      <td>0.192013</td>\n",
       "    </tr>\n",
       "    <tr>\n",
       "      <th>0056.TW</th>\n",
       "      <td>0.121713</td>\n",
       "      <td>0.147480</td>\n",
       "    </tr>\n",
       "    <tr>\n",
       "      <th>00679B.TWO</th>\n",
       "      <td>0.029824</td>\n",
       "      <td>0.147549</td>\n",
       "    </tr>\n",
       "    <tr>\n",
       "      <th>00733.TW</th>\n",
       "      <td>0.410946</td>\n",
       "      <td>0.246703</td>\n",
       "    </tr>\n",
       "  </tbody>\n",
       "</table>\n",
       "</div>"
      ],
      "text/plain": [
       "             Returns  Volatility\n",
       "Symbols                         \n",
       "0050.TW     0.245083    0.183036\n",
       "0051.TW     0.291881    0.192013\n",
       "0056.TW     0.121713    0.147480\n",
       "00679B.TWO  0.029824    0.147549\n",
       "00733.TW    0.410946    0.246703"
      ]
     },
     "execution_count": 11,
     "metadata": {},
     "output_type": "execute_result"
    }
   ],
   "source": [
    "assets = pd.concat([ind_er, ann_sd], axis=1) # Creating a table for visualising returns and volatility of assets\n",
    "assets.columns = ['Returns', 'Volatility']\n",
    "assets"
   ]
  },
  {
   "cell_type": "code",
   "execution_count": 12,
   "metadata": {},
   "outputs": [],
   "source": [
    "p_ret = [] # Define an empty array for portfolio returns\n",
    "p_vol = [] # Define an empty array for portfolio volatility\n",
    "p_weights = [] # Define an empty array for asset weights\n",
    "\n",
    "num_assets = len(df.columns)\n",
    "num_portfolios = 10000"
   ]
  },
  {
   "cell_type": "code",
   "execution_count": 13,
   "metadata": {},
   "outputs": [],
   "source": [
    "for portfolio in range(num_portfolios):\n",
    "    weights = np.random.random(num_assets)\n",
    "    weights = weights/np.sum(weights)\n",
    "    p_weights.append(weights)\n",
    "    returns = np.dot(weights, ind_er) # Returns are the product of individual expected returns of asset and its \n",
    "                                      # weights \n",
    "    p_ret.append(returns)\n",
    "    var = cov_matrix.mul(weights, axis=0).mul(weights, axis=1).sum().sum()# Portfolio Variance\n",
    "    sd = np.sqrt(var) # Daily standard deviation\n",
    "    ann_sd = sd*np.sqrt(250) # Annual standard deviation = volatility\n",
    "    p_vol.append(ann_sd)"
   ]
  },
  {
   "cell_type": "code",
   "execution_count": 14,
   "metadata": {},
   "outputs": [],
   "source": [
    "data = {'Returns':p_ret, 'Volatility':p_vol}\n",
    "\n",
    "for counter, symbol in enumerate(df.columns.tolist()):\n",
    "    #print(counter, symbol)\n",
    "    data[symbol+' weight'] = [w[counter] for w in p_weights]"
   ]
  },
  {
   "cell_type": "code",
   "execution_count": 15,
   "metadata": {},
   "outputs": [
    {
     "data": {
      "text/html": [
       "<div>\n",
       "<style scoped>\n",
       "    .dataframe tbody tr th:only-of-type {\n",
       "        vertical-align: middle;\n",
       "    }\n",
       "\n",
       "    .dataframe tbody tr th {\n",
       "        vertical-align: top;\n",
       "    }\n",
       "\n",
       "    .dataframe thead th {\n",
       "        text-align: right;\n",
       "    }\n",
       "</style>\n",
       "<table border=\"1\" class=\"dataframe\">\n",
       "  <thead>\n",
       "    <tr style=\"text-align: right;\">\n",
       "      <th></th>\n",
       "      <th>Returns</th>\n",
       "      <th>Volatility</th>\n",
       "      <th>0050.TW weight</th>\n",
       "      <th>0051.TW weight</th>\n",
       "      <th>0056.TW weight</th>\n",
       "      <th>00679B.TWO weight</th>\n",
       "      <th>00733.TW weight</th>\n",
       "    </tr>\n",
       "  </thead>\n",
       "  <tbody>\n",
       "    <tr>\n",
       "      <th>0</th>\n",
       "      <td>0.179384</td>\n",
       "      <td>0.114994</td>\n",
       "      <td>0.101274</td>\n",
       "      <td>0.182768</td>\n",
       "      <td>0.245407</td>\n",
       "      <td>0.320168</td>\n",
       "      <td>0.150383</td>\n",
       "    </tr>\n",
       "    <tr>\n",
       "      <th>1</th>\n",
       "      <td>0.205802</td>\n",
       "      <td>0.124515</td>\n",
       "      <td>0.242180</td>\n",
       "      <td>0.245921</td>\n",
       "      <td>0.142946</td>\n",
       "      <td>0.247557</td>\n",
       "      <td>0.121395</td>\n",
       "    </tr>\n",
       "    <tr>\n",
       "      <th>2</th>\n",
       "      <td>0.130419</td>\n",
       "      <td>0.100254</td>\n",
       "      <td>0.281359</td>\n",
       "      <td>0.001113</td>\n",
       "      <td>0.288149</td>\n",
       "      <td>0.394587</td>\n",
       "      <td>0.034792</td>\n",
       "    </tr>\n",
       "    <tr>\n",
       "      <th>3</th>\n",
       "      <td>0.133423</td>\n",
       "      <td>0.101406</td>\n",
       "      <td>0.111738</td>\n",
       "      <td>0.126023</td>\n",
       "      <td>0.349903</td>\n",
       "      <td>0.374634</td>\n",
       "      <td>0.037703</td>\n",
       "    </tr>\n",
       "    <tr>\n",
       "      <th>4</th>\n",
       "      <td>0.238492</td>\n",
       "      <td>0.140819</td>\n",
       "      <td>0.007838</td>\n",
       "      <td>0.334582</td>\n",
       "      <td>0.122091</td>\n",
       "      <td>0.251900</td>\n",
       "      <td>0.283590</td>\n",
       "    </tr>\n",
       "  </tbody>\n",
       "</table>\n",
       "</div>"
      ],
      "text/plain": [
       "    Returns  Volatility  0050.TW weight  0051.TW weight  0056.TW weight  \\\n",
       "0  0.179384    0.114994        0.101274        0.182768        0.245407   \n",
       "1  0.205802    0.124515        0.242180        0.245921        0.142946   \n",
       "2  0.130419    0.100254        0.281359        0.001113        0.288149   \n",
       "3  0.133423    0.101406        0.111738        0.126023        0.349903   \n",
       "4  0.238492    0.140819        0.007838        0.334582        0.122091   \n",
       "\n",
       "   00679B.TWO weight  00733.TW weight  \n",
       "0           0.320168         0.150383  \n",
       "1           0.247557         0.121395  \n",
       "2           0.394587         0.034792  \n",
       "3           0.374634         0.037703  \n",
       "4           0.251900         0.283590  "
      ]
     },
     "execution_count": 15,
     "metadata": {},
     "output_type": "execute_result"
    }
   ],
   "source": [
    "portfolios  = pd.DataFrame(data)\n",
    "portfolios.head() # Dataframe of the 10000 portfolios created"
   ]
  },
  {
   "cell_type": "code",
   "execution_count": 16,
   "metadata": {},
   "outputs": [
    {
     "data": {
      "text/plain": [
       "<matplotlib.axes._subplots.AxesSubplot at 0x1f06769a400>"
      ]
     },
     "execution_count": 16,
     "metadata": {},
     "output_type": "execute_result"
    },
    {
     "data": {
      "image/png": "[encoded data removed]",
      "text/plain": [
       "<Figure size 720x720 with 1 Axes>"
      ]
     },
     "metadata": {
      "needs_background": "light"
     },
     "output_type": "display_data"
    }
   ],
   "source": [
    "# Plot efficient frontier\n",
    "portfolios.plot.scatter(x='Volatility', y='Returns', marker='o', s=10, alpha=0.3, grid=True, figsize=[10,10])"
   ]
  },
  {
   "cell_type": "code",
   "execution_count": 17,
   "metadata": {},
   "outputs": [
    {
     "data": {
      "text/plain": [
       "Returns              0.103110\n",
       "Volatility           0.095417\n",
       "0050.TW weight       0.129010\n",
       "0051.TW weight       0.032443\n",
       "0056.TW weight       0.300104\n",
       "00679B.TWO weight    0.513682\n",
       "00733.TW weight      0.024762\n",
       "Name: 8884, dtype: float64"
      ]
     },
     "execution_count": 17,
     "metadata": {},
     "output_type": "execute_result"
    }
   ],
   "source": [
    "min_vol_port = portfolios.iloc[portfolios['Volatility'].idxmin()]\n",
    "# idxmin() gives us the minimum value in the column specified.                               \n",
    "min_vol_port"
   ]
  },
  {
   "cell_type": "code",
   "execution_count": 18,
   "metadata": {},
   "outputs": [
    {
     "data": {
      "text/plain": [
       "<matplotlib.collections.PathCollection at 0x1f068043e48>"
      ]
     },
     "execution_count": 18,
     "metadata": {},
     "output_type": "execute_result"
    },
    {
     "data": {
      "image/png": "[encoded data removed]",
      "text/plain": [
       "<Figure size 720x720 with 1 Axes>"
      ]
     },
     "metadata": {
      "needs_background": "light"
     },
     "output_type": "display_data"
    }
   ],
   "source": [
    "# plotting the minimum volatility portfolio\n",
    "plt.subplots(figsize=[10,10])\n",
    "plt.scatter(portfolios['Volatility'], portfolios['Returns'],marker='o', s=10, alpha=0.3)\n",
    "plt.scatter(min_vol_port[1], min_vol_port[0], color='r', marker='*', s=500)"
   ]
  },
  {
   "cell_type": "code",
   "execution_count": 19,
   "metadata": {},
   "outputs": [
    {
     "data": {
      "text/plain": [
       "Returns              0.263785\n",
       "Volatility           0.147379\n",
       "0050.TW weight       0.252320\n",
       "0051.TW weight       0.189001\n",
       "0056.TW weight       0.001260\n",
       "00679B.TWO weight    0.216315\n",
       "00733.TW weight      0.341104\n",
       "Name: 9268, dtype: float64"
      ]
     },
     "execution_count": 19,
     "metadata": {},
     "output_type": "execute_result"
    }
   ],
   "source": [
    "# Finding the optimal portfolio\n",
    "rf = 0.01 # risk factor\n",
    "optimal_risky_port = portfolios.iloc[((portfolios['Returns']-rf)/portfolios['Volatility']).idxmax()]\n",
    "optimal_risky_port"
   ]
  },
  {
   "cell_type": "code",
   "execution_count": 20,
   "metadata": {},
   "outputs": [
    {
     "data": {
      "text/plain": [
       "<matplotlib.collections.PathCollection at 0x1f0680a6fd0>"
      ]
     },
     "execution_count": 20,
     "metadata": {},
     "output_type": "execute_result"
    },
    {
     "data": {
      "image/png": "[encoded data removed]",
      "text/plain": [
       "<Figure size 720x720 with 1 Axes>"
      ]
     },
     "metadata": {
      "needs_background": "light"
     },
     "output_type": "display_data"
    }
   ],
   "source": [
    "# Plotting optimal portfolio\n",
    "plt.subplots(figsize=(10, 10))\n",
    "plt.scatter(portfolios['Volatility'], portfolios['Returns'],marker='o', s=10, alpha=0.3)\n",
    "plt.scatter(min_vol_port[1], min_vol_port[0], color='r', marker='*', s=500)\n",
    "plt.scatter(optimal_risky_port[1], optimal_risky_port[0], color='g', marker='*', s=500)"
   ]
  },
  {
   "cell_type": "markdown",
   "metadata": {},
   "source": [
    "## 資產配置組合\n",
    "### Returns              0.127017\n",
    "### Volatility           0.123903\n",
    "### 0050.TW weight       0.749655\n",
    "### 00679B.TWO weight    0.250345"
   ]
  },
  {
   "cell_type": "code",
   "execution_count": 21,
   "metadata": {},
   "outputs": [
    {
     "data": {
      "text/html": [
       "<div>\n",
       "<style scoped>\n",
       "    .dataframe tbody tr th:only-of-type {\n",
       "        vertical-align: middle;\n",
       "    }\n",
       "\n",
       "    .dataframe tbody tr th {\n",
       "        vertical-align: top;\n",
       "    }\n",
       "\n",
       "    .dataframe thead th {\n",
       "        text-align: right;\n",
       "    }\n",
       "</style>\n",
       "<table border=\"1\" class=\"dataframe\">\n",
       "  <thead>\n",
       "    <tr style=\"text-align: right;\">\n",
       "      <th></th>\n",
       "      <th>Returns</th>\n",
       "      <th>Volatility</th>\n",
       "      <th>0050.TW weight</th>\n",
       "      <th>0051.TW weight</th>\n",
       "      <th>0056.TW weight</th>\n",
       "      <th>00679B.TWO weight</th>\n",
       "      <th>00733.TW weight</th>\n",
       "    </tr>\n",
       "  </thead>\n",
       "  <tbody>\n",
       "  </tbody>\n",
       "</table>\n",
       "</div>"
      ],
      "text/plain": [
       "Empty DataFrame\n",
       "Columns: [Returns, Volatility, 0050.TW weight, 0051.TW weight, 0056.TW weight, 00679B.TWO weight, 00733.TW weight]\n",
       "Index: []"
      ]
     },
     "execution_count": 21,
     "metadata": {},
     "output_type": "execute_result"
    }
   ],
   "source": [
    "portfolios[portfolios['0050.TW weight']>0.8]"
   ]
  },
  {
   "cell_type": "code",
   "execution_count": 22,
   "metadata": {},
   "outputs": [
    {
     "data": {
      "text/html": [
       "<div>\n",
       "<style scoped>\n",
       "    .dataframe tbody tr th:only-of-type {\n",
       "        vertical-align: middle;\n",
       "    }\n",
       "\n",
       "    .dataframe tbody tr th {\n",
       "        vertical-align: top;\n",
       "    }\n",
       "\n",
       "    .dataframe thead th {\n",
       "        text-align: right;\n",
       "    }\n",
       "</style>\n",
       "<table border=\"1\" class=\"dataframe\">\n",
       "  <thead>\n",
       "    <tr style=\"text-align: right;\">\n",
       "      <th></th>\n",
       "      <th>Returns</th>\n",
       "      <th>Volatility</th>\n",
       "      <th>0050.TW weight</th>\n",
       "      <th>0051.TW weight</th>\n",
       "      <th>0056.TW weight</th>\n",
       "      <th>00679B.TWO weight</th>\n",
       "      <th>00733.TW weight</th>\n",
       "    </tr>\n",
       "  </thead>\n",
       "  <tbody>\n",
       "    <tr>\n",
       "      <th>273</th>\n",
       "      <td>0.245396</td>\n",
       "      <td>0.160017</td>\n",
       "      <td>0.200905</td>\n",
       "      <td>0.283390</td>\n",
       "      <td>0.311353</td>\n",
       "      <td>0.022124</td>\n",
       "      <td>0.182228</td>\n",
       "    </tr>\n",
       "    <tr>\n",
       "      <th>1997</th>\n",
       "      <td>0.173388</td>\n",
       "      <td>0.115777</td>\n",
       "      <td>0.200720</td>\n",
       "      <td>0.096651</td>\n",
       "      <td>0.309294</td>\n",
       "      <td>0.271043</td>\n",
       "      <td>0.122292</td>\n",
       "    </tr>\n",
       "    <tr>\n",
       "      <th>2122</th>\n",
       "      <td>0.237787</td>\n",
       "      <td>0.147494</td>\n",
       "      <td>0.200171</td>\n",
       "      <td>0.079201</td>\n",
       "      <td>0.260864</td>\n",
       "      <td>0.144516</td>\n",
       "      <td>0.315248</td>\n",
       "    </tr>\n",
       "    <tr>\n",
       "      <th>2219</th>\n",
       "      <td>0.196097</td>\n",
       "      <td>0.122135</td>\n",
       "      <td>0.200282</td>\n",
       "      <td>0.191210</td>\n",
       "      <td>0.216182</td>\n",
       "      <td>0.252769</td>\n",
       "      <td>0.139556</td>\n",
       "    </tr>\n",
       "    <tr>\n",
       "      <th>2294</th>\n",
       "      <td>0.247812</td>\n",
       "      <td>0.148992</td>\n",
       "      <td>0.200744</td>\n",
       "      <td>0.303774</td>\n",
       "      <td>0.159562</td>\n",
       "      <td>0.124682</td>\n",
       "      <td>0.211239</td>\n",
       "    </tr>\n",
       "    <tr>\n",
       "      <th>2361</th>\n",
       "      <td>0.203414</td>\n",
       "      <td>0.131245</td>\n",
       "      <td>0.200308</td>\n",
       "      <td>0.352103</td>\n",
       "      <td>0.230278</td>\n",
       "      <td>0.172600</td>\n",
       "      <td>0.044711</td>\n",
       "    </tr>\n",
       "    <tr>\n",
       "      <th>2450</th>\n",
       "      <td>0.164751</td>\n",
       "      <td>0.114144</td>\n",
       "      <td>0.200401</td>\n",
       "      <td>0.047056</td>\n",
       "      <td>0.351464</td>\n",
       "      <td>0.277334</td>\n",
       "      <td>0.123745</td>\n",
       "    </tr>\n",
       "    <tr>\n",
       "      <th>2622</th>\n",
       "      <td>0.166774</td>\n",
       "      <td>0.113228</td>\n",
       "      <td>0.200120</td>\n",
       "      <td>0.236281</td>\n",
       "      <td>0.277079</td>\n",
       "      <td>0.269485</td>\n",
       "      <td>0.017035</td>\n",
       "    </tr>\n",
       "    <tr>\n",
       "      <th>2947</th>\n",
       "      <td>0.119906</td>\n",
       "      <td>0.097506</td>\n",
       "      <td>0.200943</td>\n",
       "      <td>0.012572</td>\n",
       "      <td>0.320704</td>\n",
       "      <td>0.428880</td>\n",
       "      <td>0.036900</td>\n",
       "    </tr>\n",
       "    <tr>\n",
       "      <th>2965</th>\n",
       "      <td>0.238905</td>\n",
       "      <td>0.141131</td>\n",
       "      <td>0.200370</td>\n",
       "      <td>0.250676</td>\n",
       "      <td>0.138200</td>\n",
       "      <td>0.181013</td>\n",
       "      <td>0.229741</td>\n",
       "    </tr>\n",
       "    <tr>\n",
       "      <th>3391</th>\n",
       "      <td>0.208802</td>\n",
       "      <td>0.123944</td>\n",
       "      <td>0.200894</td>\n",
       "      <td>0.119189</td>\n",
       "      <td>0.136265</td>\n",
       "      <td>0.302318</td>\n",
       "      <td>0.241333</td>\n",
       "    </tr>\n",
       "    <tr>\n",
       "      <th>3521</th>\n",
       "      <td>0.216000</td>\n",
       "      <td>0.134577</td>\n",
       "      <td>0.200211</td>\n",
       "      <td>0.208261</td>\n",
       "      <td>0.240634</td>\n",
       "      <td>0.176694</td>\n",
       "      <td>0.174199</td>\n",
       "    </tr>\n",
       "    <tr>\n",
       "      <th>3809</th>\n",
       "      <td>0.247683</td>\n",
       "      <td>0.146468</td>\n",
       "      <td>0.200191</td>\n",
       "      <td>0.164274</td>\n",
       "      <td>0.156636</td>\n",
       "      <td>0.171062</td>\n",
       "      <td>0.307837</td>\n",
       "    </tr>\n",
       "    <tr>\n",
       "      <th>3892</th>\n",
       "      <td>0.194092</td>\n",
       "      <td>0.120168</td>\n",
       "      <td>0.200977</td>\n",
       "      <td>0.148214</td>\n",
       "      <td>0.206701</td>\n",
       "      <td>0.278356</td>\n",
       "      <td>0.165752</td>\n",
       "    </tr>\n",
       "    <tr>\n",
       "      <th>4087</th>\n",
       "      <td>0.277603</td>\n",
       "      <td>0.163880</td>\n",
       "      <td>0.200546</td>\n",
       "      <td>0.225893</td>\n",
       "      <td>0.133633</td>\n",
       "      <td>0.090608</td>\n",
       "      <td>0.349320</td>\n",
       "    </tr>\n",
       "    <tr>\n",
       "      <th>4426</th>\n",
       "      <td>0.181291</td>\n",
       "      <td>0.123090</td>\n",
       "      <td>0.200811</td>\n",
       "      <td>0.305864</td>\n",
       "      <td>0.290632</td>\n",
       "      <td>0.199069</td>\n",
       "      <td>0.003624</td>\n",
       "    </tr>\n",
       "    <tr>\n",
       "      <th>4860</th>\n",
       "      <td>0.148661</td>\n",
       "      <td>0.105173</td>\n",
       "      <td>0.200790</td>\n",
       "      <td>0.164620</td>\n",
       "      <td>0.288277</td>\n",
       "      <td>0.330607</td>\n",
       "      <td>0.015705</td>\n",
       "    </tr>\n",
       "    <tr>\n",
       "      <th>5422</th>\n",
       "      <td>0.275950</td>\n",
       "      <td>0.164919</td>\n",
       "      <td>0.200148</td>\n",
       "      <td>0.152456</td>\n",
       "      <td>0.170938</td>\n",
       "      <td>0.089751</td>\n",
       "      <td>0.386708</td>\n",
       "    </tr>\n",
       "    <tr>\n",
       "      <th>5599</th>\n",
       "      <td>0.253631</td>\n",
       "      <td>0.148895</td>\n",
       "      <td>0.200181</td>\n",
       "      <td>0.031651</td>\n",
       "      <td>0.130722</td>\n",
       "      <td>0.216559</td>\n",
       "      <td>0.420888</td>\n",
       "    </tr>\n",
       "    <tr>\n",
       "      <th>5619</th>\n",
       "      <td>0.242060</td>\n",
       "      <td>0.148400</td>\n",
       "      <td>0.200943</td>\n",
       "      <td>0.203309</td>\n",
       "      <td>0.223652</td>\n",
       "      <td>0.122433</td>\n",
       "      <td>0.249662</td>\n",
       "    </tr>\n",
       "    <tr>\n",
       "      <th>6172</th>\n",
       "      <td>0.212727</td>\n",
       "      <td>0.129133</td>\n",
       "      <td>0.200600</td>\n",
       "      <td>0.180719</td>\n",
       "      <td>0.192433</td>\n",
       "      <td>0.230298</td>\n",
       "      <td>0.195950</td>\n",
       "    </tr>\n",
       "    <tr>\n",
       "      <th>6763</th>\n",
       "      <td>0.210595</td>\n",
       "      <td>0.127560</td>\n",
       "      <td>0.200125</td>\n",
       "      <td>0.071759</td>\n",
       "      <td>0.189080</td>\n",
       "      <td>0.272682</td>\n",
       "      <td>0.266353</td>\n",
       "    </tr>\n",
       "    <tr>\n",
       "      <th>7175</th>\n",
       "      <td>0.177657</td>\n",
       "      <td>0.117468</td>\n",
       "      <td>0.200214</td>\n",
       "      <td>0.195857</td>\n",
       "      <td>0.282784</td>\n",
       "      <td>0.249188</td>\n",
       "      <td>0.071957</td>\n",
       "    </tr>\n",
       "    <tr>\n",
       "      <th>7626</th>\n",
       "      <td>0.242468</td>\n",
       "      <td>0.143159</td>\n",
       "      <td>0.200410</td>\n",
       "      <td>0.267717</td>\n",
       "      <td>0.133318</td>\n",
       "      <td>0.170028</td>\n",
       "      <td>0.228527</td>\n",
       "    </tr>\n",
       "    <tr>\n",
       "      <th>7923</th>\n",
       "      <td>0.214796</td>\n",
       "      <td>0.134027</td>\n",
       "      <td>0.200658</td>\n",
       "      <td>0.157613</td>\n",
       "      <td>0.252999</td>\n",
       "      <td>0.186099</td>\n",
       "      <td>0.202630</td>\n",
       "    </tr>\n",
       "    <tr>\n",
       "      <th>7987</th>\n",
       "      <td>0.209209</td>\n",
       "      <td>0.127960</td>\n",
       "      <td>0.200801</td>\n",
       "      <td>0.138432</td>\n",
       "      <td>0.209768</td>\n",
       "      <td>0.239497</td>\n",
       "      <td>0.211502</td>\n",
       "    </tr>\n",
       "    <tr>\n",
       "      <th>8585</th>\n",
       "      <td>0.165152</td>\n",
       "      <td>0.113115</td>\n",
       "      <td>0.200232</td>\n",
       "      <td>0.007264</td>\n",
       "      <td>0.327451</td>\n",
       "      <td>0.307011</td>\n",
       "      <td>0.158041</td>\n",
       "    </tr>\n",
       "    <tr>\n",
       "      <th>8663</th>\n",
       "      <td>0.235534</td>\n",
       "      <td>0.148009</td>\n",
       "      <td>0.200298</td>\n",
       "      <td>0.173793</td>\n",
       "      <td>0.274214</td>\n",
       "      <td>0.110689</td>\n",
       "      <td>0.241006</td>\n",
       "    </tr>\n",
       "    <tr>\n",
       "      <th>9722</th>\n",
       "      <td>0.145677</td>\n",
       "      <td>0.111295</td>\n",
       "      <td>0.200315</td>\n",
       "      <td>0.001213</td>\n",
       "      <td>0.440579</td>\n",
       "      <td>0.274111</td>\n",
       "      <td>0.083782</td>\n",
       "    </tr>\n",
       "    <tr>\n",
       "      <th>9912</th>\n",
       "      <td>0.181785</td>\n",
       "      <td>0.129613</td>\n",
       "      <td>0.200906</td>\n",
       "      <td>0.250560</td>\n",
       "      <td>0.390885</td>\n",
       "      <td>0.138927</td>\n",
       "      <td>0.018723</td>\n",
       "    </tr>\n",
       "  </tbody>\n",
       "</table>\n",
       "</div>"
      ],
      "text/plain": [
       "       Returns  Volatility  0050.TW weight  0051.TW weight  0056.TW weight  \\\n",
       "273   0.245396    0.160017        0.200905        0.283390        0.311353   \n",
       "1997  0.173388    0.115777        0.200720        0.096651        0.309294   \n",
       "2122  0.237787    0.147494        0.200171        0.079201        0.260864   \n",
       "2219  0.196097    0.122135        0.200282        0.191210        0.216182   \n",
       "2294  0.247812    0.148992        0.200744        0.303774        0.159562   \n",
       "2361  0.203414    0.131245        0.200308        0.352103        0.230278   \n",
       "2450  0.164751    0.114144        0.200401        0.047056        0.351464   \n",
       "2622  0.166774    0.113228        0.200120        0.236281        0.277079   \n",
       "2947  0.119906    0.097506        0.200943        0.012572        0.320704   \n",
       "2965  0.238905    0.141131        0.200370        0.250676        0.138200   \n",
       "3391  0.208802    0.123944        0.200894        0.119189        0.136265   \n",
       "3521  0.216000    0.134577        0.200211        0.208261        0.240634   \n",
       "3809  0.247683    0.146468        0.200191        0.164274        0.156636   \n",
       "3892  0.194092    0.120168        0.200977        0.148214        0.206701   \n",
       "4087  0.277603    0.163880        0.200546        0.225893        0.133633   \n",
       "4426  0.181291    0.123090        0.200811        0.305864        0.290632   \n",
       "4860  0.148661    0.105173        0.200790        0.164620        0.288277   \n",
       "5422  0.275950    0.164919        0.200148        0.152456        0.170938   \n",
       "5599  0.253631    0.148895        0.200181        0.031651        0.130722   \n",
       "5619  0.242060    0.148400        0.200943        0.203309        0.223652   \n",
       "6172  0.212727    0.129133        0.200600        0.180719        0.192433   \n",
       "6763  0.210595    0.127560        0.200125        0.071759        0.189080   \n",
       "7175  0.177657    0.117468        0.200214        0.195857        0.282784   \n",
       "7626  0.242468    0.143159        0.200410        0.267717        0.133318   \n",
       "7923  0.214796    0.134027        0.200658        0.157613        0.252999   \n",
       "7987  0.209209    0.127960        0.200801        0.138432        0.209768   \n",
       "8585  0.165152    0.113115        0.200232        0.007264        0.327451   \n",
       "8663  0.235534    0.148009        0.200298        0.173793        0.274214   \n",
       "9722  0.145677    0.111295        0.200315        0.001213        0.440579   \n",
       "9912  0.181785    0.129613        0.200906        0.250560        0.390885   \n",
       "\n",
       "      00679B.TWO weight  00733.TW weight  \n",
       "273            0.022124         0.182228  \n",
       "1997           0.271043         0.122292  \n",
       "2122           0.144516         0.315248  \n",
       "2219           0.252769         0.139556  \n",
       "2294           0.124682         0.211239  \n",
       "2361           0.172600         0.044711  \n",
       "2450           0.277334         0.123745  \n",
       "2622           0.269485         0.017035  \n",
       "2947           0.428880         0.036900  \n",
       "2965           0.181013         0.229741  \n",
       "3391           0.302318         0.241333  \n",
       "3521           0.176694         0.174199  \n",
       "3809           0.171062         0.307837  \n",
       "3892           0.278356         0.165752  \n",
       "4087           0.090608         0.349320  \n",
       "4426           0.199069         0.003624  \n",
       "4860           0.330607         0.015705  \n",
       "5422           0.089751         0.386708  \n",
       "5599           0.216559         0.420888  \n",
       "5619           0.122433         0.249662  \n",
       "6172           0.230298         0.195950  \n",
       "6763           0.272682         0.266353  \n",
       "7175           0.249188         0.071957  \n",
       "7626           0.170028         0.228527  \n",
       "7923           0.186099         0.202630  \n",
       "7987           0.239497         0.211502  \n",
       "8585           0.307011         0.158041  \n",
       "8663           0.110689         0.241006  \n",
       "9722           0.274111         0.083782  \n",
       "9912           0.138927         0.018723  "
      ]
     },
     "execution_count": 22,
     "metadata": {},
     "output_type": "execute_result"
    }
   ],
   "source": [
    "portfolios[(portfolios['0050.TW weight'] >0.2) & (portfolios['0050.TW weight'] <0.201)]"
   ]
  },
  {
   "cell_type": "code",
   "execution_count": 23,
   "metadata": {},
   "outputs": [
    {
     "data": {
      "text/plain": [
       "0       True\n",
       "1       True\n",
       "2       True\n",
       "3       True\n",
       "4       True\n",
       "5       True\n",
       "6       True\n",
       "7       True\n",
       "8       True\n",
       "9       True\n",
       "10      True\n",
       "11      True\n",
       "12      True\n",
       "13      True\n",
       "14      True\n",
       "15      True\n",
       "16      True\n",
       "17      True\n",
       "18      True\n",
       "19      True\n",
       "20      True\n",
       "21      True\n",
       "22      True\n",
       "23      True\n",
       "24      True\n",
       "25      True\n",
       "26      True\n",
       "27      True\n",
       "28      True\n",
       "29      True\n",
       "        ... \n",
       "9970    True\n",
       "9971    True\n",
       "9972    True\n",
       "9973    True\n",
       "9974    True\n",
       "9975    True\n",
       "9976    True\n",
       "9977    True\n",
       "9978    True\n",
       "9979    True\n",
       "9980    True\n",
       "9981    True\n",
       "9982    True\n",
       "9983    True\n",
       "9984    True\n",
       "9985    True\n",
       "9986    True\n",
       "9987    True\n",
       "9988    True\n",
       "9989    True\n",
       "9990    True\n",
       "9991    True\n",
       "9992    True\n",
       "9993    True\n",
       "9994    True\n",
       "9995    True\n",
       "9996    True\n",
       "9997    True\n",
       "9998    True\n",
       "9999    True\n",
       "Name: 0050.TW weight, Length: 10000, dtype: bool"
      ]
     },
     "execution_count": 23,
     "metadata": {},
     "output_type": "execute_result"
    }
   ],
   "source": [
    "portfolios['0050.TW weight'] <0.55"
   ]
  },
  {
   "cell_type": "code",
   "execution_count": null,
   "metadata": {},
   "outputs": [],
   "source": []
  }
 ],
 "metadata": {
  "kernelspec": {
   "display_name": "Python 3",
   "language": "python",
   "name": "python3"
  },
  "language_info": {
   "codemirror_mode": {
    "name": "ipython",
    "version": 3
   },
   "file_extension": ".py",
   "mimetype": "text/x-python",
   "name": "python",
   "nbconvert_exporter": "python",
   "pygments_lexer": "ipython3",
   "version": "3.7.3"
  }
 },
 "nbformat": 4,
 "nbformat_minor": 2
}
