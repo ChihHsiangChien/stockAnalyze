{
 "cells": [
  {
   "cell_type": "markdown",
   "metadata": {},
   "source": [
    "## 程式說明  Portfolio Optimization with Python using Efficient Frontier with Practical Examples\n",
    "  https://www.machinelearningplus.com/machine-learning/portfolio-optimization-python-example/ \n",
    "\n",
    "\n",
    "## 範例程式 https://ithelp.ithome.com.tw/articles/10249694\n"
   ]
  },
  {
   "cell_type": "code",
   "execution_count": 1,
   "metadata": {},
   "outputs": [],
   "source": [
    "# Load Packages\n",
    "import numpy as np\n",
    "import pandas as pd\n",
    "from pandas_datareader import data\n",
    "import matplotlib.pyplot as plt\n",
    "%matplotlib inline"
   ]
  },
  {
   "cell_type": "code",
   "execution_count": 2,
   "metadata": {},
   "outputs": [
    {
     "data": {
      "text/html": [
       "<div>\n",
       "<style scoped>\n",
       "    .dataframe tbody tr th:only-of-type {\n",
       "        vertical-align: middle;\n",
       "    }\n",
       "\n",
       "    .dataframe tbody tr th {\n",
       "        vertical-align: top;\n",
       "    }\n",
       "\n",
       "    .dataframe thead tr th {\n",
       "        text-align: left;\n",
       "    }\n",
       "\n",
       "    .dataframe thead tr:last-of-type th {\n",
       "        text-align: right;\n",
       "    }\n",
       "</style>\n",
       "<table border=\"1\" class=\"dataframe\">\n",
       "  <thead>\n",
       "    <tr>\n",
       "      <th>Attributes</th>\n",
       "      <th colspan=\"2\" halign=\"left\">Adj Close</th>\n",
       "      <th colspan=\"2\" halign=\"left\">Close</th>\n",
       "      <th colspan=\"2\" halign=\"left\">High</th>\n",
       "      <th colspan=\"2\" halign=\"left\">Low</th>\n",
       "      <th colspan=\"2\" halign=\"left\">Open</th>\n",
       "      <th colspan=\"2\" halign=\"left\">Volume</th>\n",
       "    </tr>\n",
       "    <tr>\n",
       "      <th>Symbols</th>\n",
       "      <th>0050.TW</th>\n",
       "      <th>00679B.TWO</th>\n",
       "      <th>0050.TW</th>\n",
       "      <th>00679B.TWO</th>\n",
       "      <th>0050.TW</th>\n",
       "      <th>00679B.TWO</th>\n",
       "      <th>0050.TW</th>\n",
       "      <th>00679B.TWO</th>\n",
       "      <th>0050.TW</th>\n",
       "      <th>00679B.TWO</th>\n",
       "      <th>0050.TW</th>\n",
       "      <th>00679B.TWO</th>\n",
       "    </tr>\n",
       "    <tr>\n",
       "      <th>Date</th>\n",
       "      <th></th>\n",
       "      <th></th>\n",
       "      <th></th>\n",
       "      <th></th>\n",
       "      <th></th>\n",
       "      <th></th>\n",
       "      <th></th>\n",
       "      <th></th>\n",
       "      <th></th>\n",
       "      <th></th>\n",
       "      <th></th>\n",
       "      <th></th>\n",
       "    </tr>\n",
       "  </thead>\n",
       "  <tbody>\n",
       "    <tr>\n",
       "      <th>2017-01-11</th>\n",
       "      <td>72.400002</td>\n",
       "      <td>39.998798</td>\n",
       "      <td>72.400002</td>\n",
       "      <td>39.998798</td>\n",
       "      <td>72.849998</td>\n",
       "      <td>39.998798</td>\n",
       "      <td>72.400002</td>\n",
       "      <td>39.998798</td>\n",
       "      <td>72.800003</td>\n",
       "      <td>39.998798</td>\n",
       "      <td>1898053.0</td>\n",
       "      <td>0.0</td>\n",
       "    </tr>\n",
       "    <tr>\n",
       "      <th>2017-01-12</th>\n",
       "      <td>73.150002</td>\n",
       "      <td>39.790501</td>\n",
       "      <td>73.150002</td>\n",
       "      <td>39.790501</td>\n",
       "      <td>73.300003</td>\n",
       "      <td>39.790501</td>\n",
       "      <td>72.599998</td>\n",
       "      <td>39.790501</td>\n",
       "      <td>72.599998</td>\n",
       "      <td>39.790501</td>\n",
       "      <td>4857459.0</td>\n",
       "      <td>0.0</td>\n",
       "    </tr>\n",
       "    <tr>\n",
       "      <th>2017-01-13</th>\n",
       "      <td>72.599998</td>\n",
       "      <td>39.560101</td>\n",
       "      <td>72.599998</td>\n",
       "      <td>39.560101</td>\n",
       "      <td>72.800003</td>\n",
       "      <td>39.560101</td>\n",
       "      <td>72.599998</td>\n",
       "      <td>39.560101</td>\n",
       "      <td>72.800003</td>\n",
       "      <td>39.560101</td>\n",
       "      <td>3909860.0</td>\n",
       "      <td>0.0</td>\n",
       "    </tr>\n",
       "    <tr>\n",
       "      <th>2017-01-16</th>\n",
       "      <td>72.000000</td>\n",
       "      <td>NaN</td>\n",
       "      <td>72.000000</td>\n",
       "      <td>NaN</td>\n",
       "      <td>72.400002</td>\n",
       "      <td>NaN</td>\n",
       "      <td>71.800003</td>\n",
       "      <td>NaN</td>\n",
       "      <td>72.400002</td>\n",
       "      <td>NaN</td>\n",
       "      <td>2418439.0</td>\n",
       "      <td>NaN</td>\n",
       "    </tr>\n",
       "    <tr>\n",
       "      <th>2017-01-17</th>\n",
       "      <td>72.300003</td>\n",
       "      <td>39.689999</td>\n",
       "      <td>72.300003</td>\n",
       "      <td>39.689999</td>\n",
       "      <td>72.400002</td>\n",
       "      <td>39.779999</td>\n",
       "      <td>72.000000</td>\n",
       "      <td>39.509998</td>\n",
       "      <td>72.000000</td>\n",
       "      <td>39.700001</td>\n",
       "      <td>1572741.0</td>\n",
       "      <td>928000.0</td>\n",
       "    </tr>\n",
       "  </tbody>\n",
       "</table>\n",
       "</div>"
      ],
      "text/plain": [
       "Attributes  Adj Close                 Close                  High             \\\n",
       "Symbols       0050.TW 00679B.TWO    0050.TW 00679B.TWO    0050.TW 00679B.TWO   \n",
       "Date                                                                           \n",
       "2017-01-11  72.400002  39.998798  72.400002  39.998798  72.849998  39.998798   \n",
       "2017-01-12  73.150002  39.790501  73.150002  39.790501  73.300003  39.790501   \n",
       "2017-01-13  72.599998  39.560101  72.599998  39.560101  72.800003  39.560101   \n",
       "2017-01-16  72.000000        NaN  72.000000        NaN  72.400002        NaN   \n",
       "2017-01-17  72.300003  39.689999  72.300003  39.689999  72.400002  39.779999   \n",
       "\n",
       "Attributes        Low                  Open                Volume             \n",
       "Symbols       0050.TW 00679B.TWO    0050.TW 00679B.TWO    0050.TW 00679B.TWO  \n",
       "Date                                                                          \n",
       "2017-01-11  72.400002  39.998798  72.800003  39.998798  1898053.0        0.0  \n",
       "2017-01-12  72.599998  39.790501  72.599998  39.790501  4857459.0        0.0  \n",
       "2017-01-13  72.599998  39.560101  72.800003  39.560101  3909860.0        0.0  \n",
       "2017-01-16  71.800003        NaN  72.400002        NaN  2418439.0        NaN  \n",
       "2017-01-17  72.000000  39.509998  72.000000  39.700001  1572741.0   928000.0  "
      ]
     },
     "execution_count": 2,
     "metadata": {},
     "output_type": "execute_result"
    }
   ],
   "source": [
    "# Read Data\n",
    "test = data.DataReader(['0050.TW','00679B.TWO'], 'yahoo', start='2017/01/11', end='2021/12/31')\n",
    "test.head()"
   ]
  },
  {
   "cell_type": "code",
   "execution_count": 3,
   "metadata": {},
   "outputs": [
    {
     "data": {
      "text/html": [
       "<div>\n",
       "<style scoped>\n",
       "    .dataframe tbody tr th:only-of-type {\n",
       "        vertical-align: middle;\n",
       "    }\n",
       "\n",
       "    .dataframe tbody tr th {\n",
       "        vertical-align: top;\n",
       "    }\n",
       "\n",
       "    .dataframe thead th {\n",
       "        text-align: right;\n",
       "    }\n",
       "</style>\n",
       "<table border=\"1\" class=\"dataframe\">\n",
       "  <thead>\n",
       "    <tr style=\"text-align: right;\">\n",
       "      <th>Symbols</th>\n",
       "      <th>0050.TW</th>\n",
       "      <th>00679B.TWO</th>\n",
       "    </tr>\n",
       "    <tr>\n",
       "      <th>Date</th>\n",
       "      <th></th>\n",
       "      <th></th>\n",
       "    </tr>\n",
       "  </thead>\n",
       "  <tbody>\n",
       "    <tr>\n",
       "      <th>2017-01-11</th>\n",
       "      <td>72.400002</td>\n",
       "      <td>39.998798</td>\n",
       "    </tr>\n",
       "    <tr>\n",
       "      <th>2017-01-12</th>\n",
       "      <td>73.150002</td>\n",
       "      <td>39.790501</td>\n",
       "    </tr>\n",
       "    <tr>\n",
       "      <th>2017-01-13</th>\n",
       "      <td>72.599998</td>\n",
       "      <td>39.560101</td>\n",
       "    </tr>\n",
       "    <tr>\n",
       "      <th>2017-01-16</th>\n",
       "      <td>72.000000</td>\n",
       "      <td>NaN</td>\n",
       "    </tr>\n",
       "    <tr>\n",
       "      <th>2017-01-17</th>\n",
       "      <td>72.300003</td>\n",
       "      <td>39.689999</td>\n",
       "    </tr>\n",
       "  </tbody>\n",
       "</table>\n",
       "</div>"
      ],
      "text/plain": [
       "Symbols       0050.TW  00679B.TWO\n",
       "Date                             \n",
       "2017-01-11  72.400002   39.998798\n",
       "2017-01-12  73.150002   39.790501\n",
       "2017-01-13  72.599998   39.560101\n",
       "2017-01-16  72.000000         NaN\n",
       "2017-01-17  72.300003   39.689999"
      ]
     },
     "execution_count": 3,
     "metadata": {},
     "output_type": "execute_result"
    }
   ],
   "source": [
    "# Closing price\n",
    "test = test['Adj Close']\n",
    "test.head()"
   ]
  },
  {
   "cell_type": "code",
   "execution_count": 4,
   "metadata": {},
   "outputs": [
    {
     "data": {
      "text/plain": [
       "Date\n",
       "2017-01-11         NaN\n",
       "2017-01-12    0.010306\n",
       "2017-01-13   -0.007547\n",
       "2017-01-16   -0.008299\n",
       "2017-01-17    0.004158\n",
       "Name: 0050.TW, dtype: float64"
      ]
     },
     "execution_count": 4,
     "metadata": {},
     "output_type": "execute_result"
    }
   ],
   "source": [
    "# Log of percentage change\n",
    "etf_0050 = test['0050.TW'].pct_change().apply(lambda x: np.log(1+x))\n",
    "etf_0050.head()"
   ]
  },
  {
   "cell_type": "code",
   "execution_count": 5,
   "metadata": {},
   "outputs": [
    {
     "data": {
      "text/plain": [
       "0.00011387110674204043"
      ]
     },
     "execution_count": 5,
     "metadata": {},
     "output_type": "execute_result"
    }
   ],
   "source": [
    "# Variance\n",
    "var_etf_0050 = etf_0050.var()\n",
    "var_etf_0050"
   ]
  },
  {
   "cell_type": "code",
   "execution_count": 7,
   "metadata": {},
   "outputs": [
    {
     "data": {
      "text/plain": [
       "Date\n",
       "2017-01-11         NaN\n",
       "2017-01-12   -0.005221\n",
       "2017-01-13   -0.005807\n",
       "2017-01-16    0.000000\n",
       "2017-01-17    0.003278\n",
       "Name: 00679B.TWO, dtype: float64"
      ]
     },
     "execution_count": 7,
     "metadata": {},
     "output_type": "execute_result"
    }
   ],
   "source": [
    "# Log of Percentage change for Facebook\n",
    "etf_00679B = test['00679B.TWO'].pct_change().apply(lambda x: np.log(1+x))\n",
    "etf_00679B.head()"
   ]
  },
  {
   "cell_type": "code",
   "execution_count": 8,
   "metadata": {},
   "outputs": [
    {
     "data": {
      "text/plain": [
       "7.289805817802401e-05"
      ]
     },
     "execution_count": 8,
     "metadata": {},
     "output_type": "execute_result"
    }
   ],
   "source": [
    "# Variance\n",
    "var_etf_00679B = etf_00679B.var()\n",
    "var_etf_00679B"
   ]
  },
  {
   "cell_type": "code",
   "execution_count": 9,
   "metadata": {},
   "outputs": [
    {
     "data": {
      "text/plain": [
       "(0.1687239659488542, 0.13499820200471563)"
      ]
     },
     "execution_count": 9,
     "metadata": {},
     "output_type": "execute_result"
    }
   ],
   "source": [
    "# Volatility\n",
    "etf_0050_vol = np.sqrt(var_etf_0050 * 250)\n",
    "etf_00679B_vol = np.sqrt(var_etf_00679B * 250)\n",
    "etf_0050_vol, etf_00679B_vol"
   ]
  },
  {
   "cell_type": "code",
   "execution_count": 10,
   "metadata": {},
   "outputs": [
    {
     "data": {
      "text/plain": [
       "<matplotlib.axes._subplots.AxesSubplot at 0x2d2d82a24e0>"
      ]
     },
     "execution_count": 10,
     "metadata": {},
     "output_type": "execute_result"
    },
    {
     "data": {
      "image/png": "[encoded data removed]",
      "text/plain": [
       "<Figure size 432x288 with 1 Axes>"
      ]
     },
     "metadata": {
      "needs_background": "light"
     },
     "output_type": "display_data"
    }
   ],
   "source": [
    "# Volatility of both stocks\n",
    "test.pct_change().apply(lambda x: np.log(1+x)).std().apply(lambda x: x*np.sqrt(250)).plot(kind='bar')"
   ]
  },
  {
   "cell_type": "code",
   "execution_count": 11,
   "metadata": {},
   "outputs": [
    {
     "data": {
      "text/html": [
       "<div>\n",
       "<style scoped>\n",
       "    .dataframe tbody tr th:only-of-type {\n",
       "        vertical-align: middle;\n",
       "    }\n",
       "\n",
       "    .dataframe tbody tr th {\n",
       "        vertical-align: top;\n",
       "    }\n",
       "\n",
       "    .dataframe thead th {\n",
       "        text-align: right;\n",
       "    }\n",
       "</style>\n",
       "<table border=\"1\" class=\"dataframe\">\n",
       "  <thead>\n",
       "    <tr style=\"text-align: right;\">\n",
       "      <th>Symbols</th>\n",
       "      <th>0050.TW</th>\n",
       "      <th>00679B.TWO</th>\n",
       "    </tr>\n",
       "    <tr>\n",
       "      <th>Date</th>\n",
       "      <th></th>\n",
       "      <th></th>\n",
       "    </tr>\n",
       "  </thead>\n",
       "  <tbody>\n",
       "    <tr>\n",
       "      <th>2017-01-11</th>\n",
       "      <td>NaN</td>\n",
       "      <td>NaN</td>\n",
       "    </tr>\n",
       "    <tr>\n",
       "      <th>2017-01-12</th>\n",
       "      <td>0.010306</td>\n",
       "      <td>-0.005221</td>\n",
       "    </tr>\n",
       "    <tr>\n",
       "      <th>2017-01-13</th>\n",
       "      <td>-0.007547</td>\n",
       "      <td>-0.005807</td>\n",
       "    </tr>\n",
       "    <tr>\n",
       "      <th>2017-01-16</th>\n",
       "      <td>-0.008299</td>\n",
       "      <td>0.000000</td>\n",
       "    </tr>\n",
       "    <tr>\n",
       "      <th>2017-01-17</th>\n",
       "      <td>0.004158</td>\n",
       "      <td>0.003278</td>\n",
       "    </tr>\n",
       "  </tbody>\n",
       "</table>\n",
       "</div>"
      ],
      "text/plain": [
       "Symbols      0050.TW  00679B.TWO\n",
       "Date                            \n",
       "2017-01-11       NaN         NaN\n",
       "2017-01-12  0.010306   -0.005221\n",
       "2017-01-13 -0.007547   -0.005807\n",
       "2017-01-16 -0.008299    0.000000\n",
       "2017-01-17  0.004158    0.003278"
      ]
     },
     "execution_count": 11,
     "metadata": {},
     "output_type": "execute_result"
    }
   ],
   "source": [
    "# Log of Percentage change\n",
    "test1 = test.pct_change().apply(lambda x: np.log(1+x))\n",
    "test1.head()"
   ]
  },
  {
   "cell_type": "code",
   "execution_count": 12,
   "metadata": {},
   "outputs": [
    {
     "data": {
      "text/plain": [
       "-1.906106401383426e-05"
      ]
     },
     "execution_count": 12,
     "metadata": {},
     "output_type": "execute_result"
    }
   ],
   "source": [
    "# Covariance\n",
    "test1['0050.TW'].cov(test1['00679B.TWO'])"
   ]
  },
  {
   "cell_type": "code",
   "execution_count": 13,
   "metadata": {},
   "outputs": [
    {
     "data": {
      "text/plain": [
       "-0.20920997571046213"
      ]
     },
     "execution_count": 13,
     "metadata": {},
     "output_type": "execute_result"
    }
   ],
   "source": [
    "# Correlation\n",
    "test1['0050.TW'].corr(test1['00679B.TWO'])"
   ]
  },
  {
   "cell_type": "code",
   "execution_count": 14,
   "metadata": {},
   "outputs": [
    {
     "data": {
      "text/html": [
       "<div>\n",
       "<style scoped>\n",
       "    .dataframe tbody tr th:only-of-type {\n",
       "        vertical-align: middle;\n",
       "    }\n",
       "\n",
       "    .dataframe tbody tr th {\n",
       "        vertical-align: top;\n",
       "    }\n",
       "\n",
       "    .dataframe thead th {\n",
       "        text-align: right;\n",
       "    }\n",
       "</style>\n",
       "<table border=\"1\" class=\"dataframe\">\n",
       "  <thead>\n",
       "    <tr style=\"text-align: right;\">\n",
       "      <th>Symbols</th>\n",
       "      <th>0050.TW</th>\n",
       "      <th>00679B.TWO</th>\n",
       "    </tr>\n",
       "    <tr>\n",
       "      <th>Date</th>\n",
       "      <th></th>\n",
       "      <th></th>\n",
       "    </tr>\n",
       "  </thead>\n",
       "  <tbody>\n",
       "    <tr>\n",
       "      <th>2017-01-11</th>\n",
       "      <td>NaN</td>\n",
       "      <td>NaN</td>\n",
       "    </tr>\n",
       "    <tr>\n",
       "      <th>2017-01-12</th>\n",
       "      <td>0.010306</td>\n",
       "      <td>-0.005221</td>\n",
       "    </tr>\n",
       "    <tr>\n",
       "      <th>2017-01-13</th>\n",
       "      <td>-0.007547</td>\n",
       "      <td>-0.005807</td>\n",
       "    </tr>\n",
       "    <tr>\n",
       "      <th>2017-01-16</th>\n",
       "      <td>-0.008299</td>\n",
       "      <td>0.000000</td>\n",
       "    </tr>\n",
       "    <tr>\n",
       "      <th>2017-01-17</th>\n",
       "      <td>0.004158</td>\n",
       "      <td>0.003278</td>\n",
       "    </tr>\n",
       "  </tbody>\n",
       "</table>\n",
       "</div>"
      ],
      "text/plain": [
       "Symbols      0050.TW  00679B.TWO\n",
       "Date                            \n",
       "2017-01-11       NaN         NaN\n",
       "2017-01-12  0.010306   -0.005221\n",
       "2017-01-13 -0.007547   -0.005807\n",
       "2017-01-16 -0.008299    0.000000\n",
       "2017-01-17  0.004158    0.003278"
      ]
     },
     "execution_count": 14,
     "metadata": {},
     "output_type": "execute_result"
    }
   ],
   "source": [
    "# Expected Returns\n",
    "test2 = test.pct_change().apply(lambda x: np.log(1+x))\n",
    "test2.head()"
   ]
  },
  {
   "cell_type": "code",
   "execution_count": 15,
   "metadata": {},
   "outputs": [
    {
     "data": {
      "text/plain": [
       "Symbols\n",
       "0050.TW       0.000576\n",
       "00679B.TWO    0.000025\n",
       "dtype: float64"
      ]
     },
     "execution_count": 15,
     "metadata": {},
     "output_type": "execute_result"
    }
   ],
   "source": [
    "# Define weights for allocation\n",
    "w = [0.2, 0.8]\n",
    "e_r_ind = test2.mean()\n",
    "e_r_ind"
   ]
  },
  {
   "cell_type": "code",
   "execution_count": 16,
   "metadata": {},
   "outputs": [
    {
     "data": {
      "text/plain": [
       "0.00013502748098413522"
      ]
     },
     "execution_count": 16,
     "metadata": {},
     "output_type": "execute_result"
    }
   ],
   "source": [
    "# Total expected return\n",
    "e_r = (e_r_ind*w).sum()\n",
    "e_r"
   ]
  },
  {
   "cell_type": "markdown",
   "metadata": {},
   "source": [
    "## 實戰"
   ]
  },
  {
   "cell_type": "code",
   "execution_count": 2,
   "metadata": {},
   "outputs": [
    {
     "data": {
      "text/html": [
       "<div>\n",
       "<style scoped>\n",
       "    .dataframe tbody tr th:only-of-type {\n",
       "        vertical-align: middle;\n",
       "    }\n",
       "\n",
       "    .dataframe tbody tr th {\n",
       "        vertical-align: top;\n",
       "    }\n",
       "\n",
       "    .dataframe thead tr th {\n",
       "        text-align: left;\n",
       "    }\n",
       "\n",
       "    .dataframe thead tr:last-of-type th {\n",
       "        text-align: right;\n",
       "    }\n",
       "</style>\n",
       "<table border=\"1\" class=\"dataframe\">\n",
       "  <thead>\n",
       "    <tr>\n",
       "      <th>Attributes</th>\n",
       "      <th colspan=\"2\" halign=\"left\">Adj Close</th>\n",
       "      <th colspan=\"2\" halign=\"left\">Close</th>\n",
       "      <th colspan=\"2\" halign=\"left\">High</th>\n",
       "      <th colspan=\"2\" halign=\"left\">Low</th>\n",
       "      <th colspan=\"2\" halign=\"left\">Open</th>\n",
       "      <th colspan=\"2\" halign=\"left\">Volume</th>\n",
       "    </tr>\n",
       "    <tr>\n",
       "      <th>Symbols</th>\n",
       "      <th>0050.TW</th>\n",
       "      <th>00679B.TWO</th>\n",
       "      <th>0050.TW</th>\n",
       "      <th>00679B.TWO</th>\n",
       "      <th>0050.TW</th>\n",
       "      <th>00679B.TWO</th>\n",
       "      <th>0050.TW</th>\n",
       "      <th>00679B.TWO</th>\n",
       "      <th>0050.TW</th>\n",
       "      <th>00679B.TWO</th>\n",
       "      <th>0050.TW</th>\n",
       "      <th>00679B.TWO</th>\n",
       "    </tr>\n",
       "    <tr>\n",
       "      <th>Date</th>\n",
       "      <th></th>\n",
       "      <th></th>\n",
       "      <th></th>\n",
       "      <th></th>\n",
       "      <th></th>\n",
       "      <th></th>\n",
       "      <th></th>\n",
       "      <th></th>\n",
       "      <th></th>\n",
       "      <th></th>\n",
       "      <th></th>\n",
       "      <th></th>\n",
       "    </tr>\n",
       "  </thead>\n",
       "  <tbody>\n",
       "    <tr>\n",
       "      <th>2017-01-11</th>\n",
       "      <td>72.400002</td>\n",
       "      <td>39.998798</td>\n",
       "      <td>72.400002</td>\n",
       "      <td>39.998798</td>\n",
       "      <td>72.849998</td>\n",
       "      <td>39.998798</td>\n",
       "      <td>72.400002</td>\n",
       "      <td>39.998798</td>\n",
       "      <td>72.800003</td>\n",
       "      <td>39.998798</td>\n",
       "      <td>1898053.0</td>\n",
       "      <td>0.0</td>\n",
       "    </tr>\n",
       "    <tr>\n",
       "      <th>2017-01-12</th>\n",
       "      <td>73.150002</td>\n",
       "      <td>39.790501</td>\n",
       "      <td>73.150002</td>\n",
       "      <td>39.790501</td>\n",
       "      <td>73.300003</td>\n",
       "      <td>39.790501</td>\n",
       "      <td>72.599998</td>\n",
       "      <td>39.790501</td>\n",
       "      <td>72.599998</td>\n",
       "      <td>39.790501</td>\n",
       "      <td>4857459.0</td>\n",
       "      <td>0.0</td>\n",
       "    </tr>\n",
       "    <tr>\n",
       "      <th>2017-01-13</th>\n",
       "      <td>72.599998</td>\n",
       "      <td>39.560101</td>\n",
       "      <td>72.599998</td>\n",
       "      <td>39.560101</td>\n",
       "      <td>72.800003</td>\n",
       "      <td>39.560101</td>\n",
       "      <td>72.599998</td>\n",
       "      <td>39.560101</td>\n",
       "      <td>72.800003</td>\n",
       "      <td>39.560101</td>\n",
       "      <td>3909860.0</td>\n",
       "      <td>0.0</td>\n",
       "    </tr>\n",
       "    <tr>\n",
       "      <th>2017-01-16</th>\n",
       "      <td>72.000000</td>\n",
       "      <td>NaN</td>\n",
       "      <td>72.000000</td>\n",
       "      <td>NaN</td>\n",
       "      <td>72.400002</td>\n",
       "      <td>NaN</td>\n",
       "      <td>71.800003</td>\n",
       "      <td>NaN</td>\n",
       "      <td>72.400002</td>\n",
       "      <td>NaN</td>\n",
       "      <td>2418439.0</td>\n",
       "      <td>NaN</td>\n",
       "    </tr>\n",
       "    <tr>\n",
       "      <th>2017-01-17</th>\n",
       "      <td>72.300003</td>\n",
       "      <td>39.689999</td>\n",
       "      <td>72.300003</td>\n",
       "      <td>39.689999</td>\n",
       "      <td>72.400002</td>\n",
       "      <td>39.779999</td>\n",
       "      <td>72.000000</td>\n",
       "      <td>39.509998</td>\n",
       "      <td>72.000000</td>\n",
       "      <td>39.700001</td>\n",
       "      <td>1572741.0</td>\n",
       "      <td>928000.0</td>\n",
       "    </tr>\n",
       "  </tbody>\n",
       "</table>\n",
       "</div>"
      ],
      "text/plain": [
       "Attributes  Adj Close                 Close                  High             \\\n",
       "Symbols       0050.TW 00679B.TWO    0050.TW 00679B.TWO    0050.TW 00679B.TWO   \n",
       "Date                                                                           \n",
       "2017-01-11  72.400002  39.998798  72.400002  39.998798  72.849998  39.998798   \n",
       "2017-01-12  73.150002  39.790501  73.150002  39.790501  73.300003  39.790501   \n",
       "2017-01-13  72.599998  39.560101  72.599998  39.560101  72.800003  39.560101   \n",
       "2017-01-16  72.000000        NaN  72.000000        NaN  72.400002        NaN   \n",
       "2017-01-17  72.300003  39.689999  72.300003  39.689999  72.400002  39.779999   \n",
       "\n",
       "Attributes        Low                  Open                Volume             \n",
       "Symbols       0050.TW 00679B.TWO    0050.TW 00679B.TWO    0050.TW 00679B.TWO  \n",
       "Date                                                                          \n",
       "2017-01-11  72.400002  39.998798  72.800003  39.998798  1898053.0        0.0  \n",
       "2017-01-12  72.599998  39.790501  72.599998  39.790501  4857459.0        0.0  \n",
       "2017-01-13  72.599998  39.560101  72.800003  39.560101  3909860.0        0.0  \n",
       "2017-01-16  71.800003        NaN  72.400002        NaN  2418439.0        NaN  \n",
       "2017-01-17  72.000000  39.509998  72.000000  39.700001  1572741.0   928000.0  "
      ]
     },
     "execution_count": 2,
     "metadata": {},
     "output_type": "execute_result"
    }
   ],
   "source": [
    "# Import data\n",
    "df = data.DataReader(['0050.TW','00679B.TWO'], 'yahoo', start='2017/01/11', end='2021/12/31')\n",
    "df.head()"
   ]
  },
  {
   "cell_type": "code",
   "execution_count": 3,
   "metadata": {},
   "outputs": [
    {
     "data": {
      "text/html": [
       "<div>\n",
       "<style scoped>\n",
       "    .dataframe tbody tr th:only-of-type {\n",
       "        vertical-align: middle;\n",
       "    }\n",
       "\n",
       "    .dataframe tbody tr th {\n",
       "        vertical-align: top;\n",
       "    }\n",
       "\n",
       "    .dataframe thead th {\n",
       "        text-align: right;\n",
       "    }\n",
       "</style>\n",
       "<table border=\"1\" class=\"dataframe\">\n",
       "  <thead>\n",
       "    <tr style=\"text-align: right;\">\n",
       "      <th>Symbols</th>\n",
       "      <th>0050.TW</th>\n",
       "      <th>00679B.TWO</th>\n",
       "    </tr>\n",
       "    <tr>\n",
       "      <th>Date</th>\n",
       "      <th></th>\n",
       "      <th></th>\n",
       "    </tr>\n",
       "  </thead>\n",
       "  <tbody>\n",
       "    <tr>\n",
       "      <th>2017-01-11</th>\n",
       "      <td>72.400002</td>\n",
       "      <td>39.998798</td>\n",
       "    </tr>\n",
       "    <tr>\n",
       "      <th>2017-01-12</th>\n",
       "      <td>73.150002</td>\n",
       "      <td>39.790501</td>\n",
       "    </tr>\n",
       "    <tr>\n",
       "      <th>2017-01-13</th>\n",
       "      <td>72.599998</td>\n",
       "      <td>39.560101</td>\n",
       "    </tr>\n",
       "    <tr>\n",
       "      <th>2017-01-16</th>\n",
       "      <td>72.000000</td>\n",
       "      <td>NaN</td>\n",
       "    </tr>\n",
       "    <tr>\n",
       "      <th>2017-01-17</th>\n",
       "      <td>72.300003</td>\n",
       "      <td>39.689999</td>\n",
       "    </tr>\n",
       "  </tbody>\n",
       "</table>\n",
       "</div>"
      ],
      "text/plain": [
       "Symbols       0050.TW  00679B.TWO\n",
       "Date                             \n",
       "2017-01-11  72.400002   39.998798\n",
       "2017-01-12  73.150002   39.790501\n",
       "2017-01-13  72.599998   39.560101\n",
       "2017-01-16  72.000000         NaN\n",
       "2017-01-17  72.300003   39.689999"
      ]
     },
     "execution_count": 3,
     "metadata": {},
     "output_type": "execute_result"
    }
   ],
   "source": [
    "# Closing price\n",
    "df = df['Adj Close']\n",
    "df.head()"
   ]
  },
  {
   "cell_type": "code",
   "execution_count": 4,
   "metadata": {},
   "outputs": [
    {
     "data": {
      "text/html": [
       "<div>\n",
       "<style scoped>\n",
       "    .dataframe tbody tr th:only-of-type {\n",
       "        vertical-align: middle;\n",
       "    }\n",
       "\n",
       "    .dataframe tbody tr th {\n",
       "        vertical-align: top;\n",
       "    }\n",
       "\n",
       "    .dataframe thead th {\n",
       "        text-align: right;\n",
       "    }\n",
       "</style>\n",
       "<table border=\"1\" class=\"dataframe\">\n",
       "  <thead>\n",
       "    <tr style=\"text-align: right;\">\n",
       "      <th>Symbols</th>\n",
       "      <th>0050.TW</th>\n",
       "      <th>00679B.TWO</th>\n",
       "    </tr>\n",
       "    <tr>\n",
       "      <th>Symbols</th>\n",
       "      <th></th>\n",
       "      <th></th>\n",
       "    </tr>\n",
       "  </thead>\n",
       "  <tbody>\n",
       "    <tr>\n",
       "      <th>0050.TW</th>\n",
       "      <td>0.000114</td>\n",
       "      <td>-0.000019</td>\n",
       "    </tr>\n",
       "    <tr>\n",
       "      <th>00679B.TWO</th>\n",
       "      <td>-0.000019</td>\n",
       "      <td>0.000073</td>\n",
       "    </tr>\n",
       "  </tbody>\n",
       "</table>\n",
       "</div>"
      ],
      "text/plain": [
       "Symbols      0050.TW  00679B.TWO\n",
       "Symbols                         \n",
       "0050.TW     0.000114   -0.000019\n",
       "00679B.TWO -0.000019    0.000073"
      ]
     },
     "execution_count": 4,
     "metadata": {},
     "output_type": "execute_result"
    }
   ],
   "source": [
    "# Log of percentage change\n",
    "cov_matrix = df.pct_change().apply(lambda x: np.log(1+x)).cov()\n",
    "cov_matrix"
   ]
  },
  {
   "cell_type": "code",
   "execution_count": 5,
   "metadata": {},
   "outputs": [
    {
     "data": {
      "text/html": [
       "<div>\n",
       "<style scoped>\n",
       "    .dataframe tbody tr th:only-of-type {\n",
       "        vertical-align: middle;\n",
       "    }\n",
       "\n",
       "    .dataframe tbody tr th {\n",
       "        vertical-align: top;\n",
       "    }\n",
       "\n",
       "    .dataframe thead th {\n",
       "        text-align: right;\n",
       "    }\n",
       "</style>\n",
       "<table border=\"1\" class=\"dataframe\">\n",
       "  <thead>\n",
       "    <tr style=\"text-align: right;\">\n",
       "      <th>Symbols</th>\n",
       "      <th>0050.TW</th>\n",
       "      <th>00679B.TWO</th>\n",
       "    </tr>\n",
       "    <tr>\n",
       "      <th>Symbols</th>\n",
       "      <th></th>\n",
       "      <th></th>\n",
       "    </tr>\n",
       "  </thead>\n",
       "  <tbody>\n",
       "    <tr>\n",
       "      <th>0050.TW</th>\n",
       "      <td>1.00000</td>\n",
       "      <td>-0.20921</td>\n",
       "    </tr>\n",
       "    <tr>\n",
       "      <th>00679B.TWO</th>\n",
       "      <td>-0.20921</td>\n",
       "      <td>1.00000</td>\n",
       "    </tr>\n",
       "  </tbody>\n",
       "</table>\n",
       "</div>"
      ],
      "text/plain": [
       "Symbols     0050.TW  00679B.TWO\n",
       "Symbols                        \n",
       "0050.TW     1.00000    -0.20921\n",
       "00679B.TWO -0.20921     1.00000"
      ]
     },
     "execution_count": 5,
     "metadata": {},
     "output_type": "execute_result"
    }
   ],
   "source": [
    "corr_matrix = df.pct_change().apply(lambda x: np.log(1+x)).corr()\n",
    "corr_matrix"
   ]
  },
  {
   "cell_type": "code",
   "execution_count": 6,
   "metadata": {},
   "outputs": [
    {
     "data": {
      "text/plain": [
       "5.6755146669129696e-05"
      ]
     },
     "execution_count": 6,
     "metadata": {},
     "output_type": "execute_result"
    }
   ],
   "source": [
    "# Randomly weighted portfolio's variance\n",
    "w = {'0050.TW': 0.1, '00679B.TWO': 0.9}\n",
    "port_var = cov_matrix.mul(w, axis=0).mul(w, axis=1).sum().sum()\n",
    "port_var"
   ]
  },
  {
   "cell_type": "code",
   "execution_count": 7,
   "metadata": {},
   "outputs": [
    {
     "data": {
      "text/plain": [
       "Symbols\n",
       "0050.TW       0.163575\n",
       "00679B.TWO    0.017544\n",
       "dtype: float64"
      ]
     },
     "execution_count": 7,
     "metadata": {},
     "output_type": "execute_result"
    }
   ],
   "source": [
    "# Yearly returns for individual companies\n",
    "ind_er = df.resample('Y').last().pct_change().mean()\n",
    "ind_er"
   ]
  },
  {
   "cell_type": "code",
   "execution_count": 8,
   "metadata": {},
   "outputs": [
    {
     "data": {
      "text/plain": [
       "0.04675053054756696"
      ]
     },
     "execution_count": 8,
     "metadata": {},
     "output_type": "execute_result"
    }
   ],
   "source": [
    "# Portfolio returns\n",
    "w = [0.2, 0.8]\n",
    "port_er = (w*ind_er).sum()\n",
    "port_er"
   ]
  },
  {
   "cell_type": "code",
   "execution_count": 9,
   "metadata": {},
   "outputs": [
    {
     "data": {
      "text/plain": [
       "Symbols\n",
       "0050.TW       0.168724\n",
       "00679B.TWO    0.134998\n",
       "dtype: float64"
      ]
     },
     "execution_count": 9,
     "metadata": {},
     "output_type": "execute_result"
    }
   ],
   "source": [
    "# Volatility is given by the annual standard deviation. We multiply by 250 because there are 250 trading days/year.\n",
    "ann_sd = df.pct_change().apply(lambda x: np.log(1+x)).std().apply(lambda x: x*np.sqrt(250))\n",
    "ann_sd"
   ]
  },
  {
   "cell_type": "code",
   "execution_count": 10,
   "metadata": {},
   "outputs": [
    {
     "data": {
      "text/html": [
       "<div>\n",
       "<style scoped>\n",
       "    .dataframe tbody tr th:only-of-type {\n",
       "        vertical-align: middle;\n",
       "    }\n",
       "\n",
       "    .dataframe tbody tr th {\n",
       "        vertical-align: top;\n",
       "    }\n",
       "\n",
       "    .dataframe thead th {\n",
       "        text-align: right;\n",
       "    }\n",
       "</style>\n",
       "<table border=\"1\" class=\"dataframe\">\n",
       "  <thead>\n",
       "    <tr style=\"text-align: right;\">\n",
       "      <th></th>\n",
       "      <th>Returns</th>\n",
       "      <th>Volatility</th>\n",
       "    </tr>\n",
       "    <tr>\n",
       "      <th>Symbols</th>\n",
       "      <th></th>\n",
       "      <th></th>\n",
       "    </tr>\n",
       "  </thead>\n",
       "  <tbody>\n",
       "    <tr>\n",
       "      <th>0050.TW</th>\n",
       "      <td>0.163575</td>\n",
       "      <td>0.168724</td>\n",
       "    </tr>\n",
       "    <tr>\n",
       "      <th>00679B.TWO</th>\n",
       "      <td>0.017544</td>\n",
       "      <td>0.134998</td>\n",
       "    </tr>\n",
       "  </tbody>\n",
       "</table>\n",
       "</div>"
      ],
      "text/plain": [
       "             Returns  Volatility\n",
       "Symbols                         \n",
       "0050.TW     0.163575    0.168724\n",
       "00679B.TWO  0.017544    0.134998"
      ]
     },
     "execution_count": 10,
     "metadata": {},
     "output_type": "execute_result"
    }
   ],
   "source": [
    "assets = pd.concat([ind_er, ann_sd], axis=1) # Creating a table for visualising returns and volatility of assets\n",
    "assets.columns = ['Returns', 'Volatility']\n",
    "assets"
   ]
  },
  {
   "cell_type": "code",
   "execution_count": 11,
   "metadata": {},
   "outputs": [],
   "source": [
    "p_ret = [] # Define an empty array for portfolio returns\n",
    "p_vol = [] # Define an empty array for portfolio volatility\n",
    "p_weights = [] # Define an empty array for asset weights\n",
    "\n",
    "num_assets = len(df.columns)\n",
    "num_portfolios = 10000"
   ]
  },
  {
   "cell_type": "code",
   "execution_count": 12,
   "metadata": {},
   "outputs": [],
   "source": [
    "for portfolio in range(num_portfolios):\n",
    "    weights = np.random.random(num_assets)\n",
    "    weights = weights/np.sum(weights)\n",
    "    p_weights.append(weights)\n",
    "    returns = np.dot(weights, ind_er) # Returns are the product of individual expected returns of asset and its \n",
    "                                      # weights \n",
    "    p_ret.append(returns)\n",
    "    var = cov_matrix.mul(weights, axis=0).mul(weights, axis=1).sum().sum()# Portfolio Variance\n",
    "    sd = np.sqrt(var) # Daily standard deviation\n",
    "    ann_sd = sd*np.sqrt(250) # Annual standard deviation = volatility\n",
    "    p_vol.append(ann_sd)"
   ]
  },
  {
   "cell_type": "code",
   "execution_count": 13,
   "metadata": {},
   "outputs": [],
   "source": [
    "data = {'Returns':p_ret, 'Volatility':p_vol}\n",
    "\n",
    "for counter, symbol in enumerate(df.columns.tolist()):\n",
    "    #print(counter, symbol)\n",
    "    data[symbol+' weight'] = [w[counter] for w in p_weights]"
   ]
  },
  {
   "cell_type": "code",
   "execution_count": 14,
   "metadata": {},
   "outputs": [
    {
     "data": {
      "text/html": [
       "<div>\n",
       "<style scoped>\n",
       "    .dataframe tbody tr th:only-of-type {\n",
       "        vertical-align: middle;\n",
       "    }\n",
       "\n",
       "    .dataframe tbody tr th {\n",
       "        vertical-align: top;\n",
       "    }\n",
       "\n",
       "    .dataframe thead th {\n",
       "        text-align: right;\n",
       "    }\n",
       "</style>\n",
       "<table border=\"1\" class=\"dataframe\">\n",
       "  <thead>\n",
       "    <tr style=\"text-align: right;\">\n",
       "      <th></th>\n",
       "      <th>Returns</th>\n",
       "      <th>Volatility</th>\n",
       "      <th>0050.TW weight</th>\n",
       "      <th>00679B.TWO weight</th>\n",
       "    </tr>\n",
       "  </thead>\n",
       "  <tbody>\n",
       "    <tr>\n",
       "      <th>0</th>\n",
       "      <td>0.125714</td>\n",
       "      <td>0.122534</td>\n",
       "      <td>0.740732</td>\n",
       "      <td>0.259268</td>\n",
       "    </tr>\n",
       "    <tr>\n",
       "      <th>1</th>\n",
       "      <td>0.136987</td>\n",
       "      <td>0.135018</td>\n",
       "      <td>0.817927</td>\n",
       "      <td>0.182073</td>\n",
       "    </tr>\n",
       "    <tr>\n",
       "      <th>2</th>\n",
       "      <td>0.088996</td>\n",
       "      <td>0.095850</td>\n",
       "      <td>0.489290</td>\n",
       "      <td>0.510710</td>\n",
       "    </tr>\n",
       "    <tr>\n",
       "      <th>3</th>\n",
       "      <td>0.075596</td>\n",
       "      <td>0.093974</td>\n",
       "      <td>0.397532</td>\n",
       "      <td>0.602468</td>\n",
       "    </tr>\n",
       "    <tr>\n",
       "      <th>4</th>\n",
       "      <td>0.106017</td>\n",
       "      <td>0.104903</td>\n",
       "      <td>0.605853</td>\n",
       "      <td>0.394147</td>\n",
       "    </tr>\n",
       "  </tbody>\n",
       "</table>\n",
       "</div>"
      ],
      "text/plain": [
       "    Returns  Volatility  0050.TW weight  00679B.TWO weight\n",
       "0  0.125714    0.122534        0.740732           0.259268\n",
       "1  0.136987    0.135018        0.817927           0.182073\n",
       "2  0.088996    0.095850        0.489290           0.510710\n",
       "3  0.075596    0.093974        0.397532           0.602468\n",
       "4  0.106017    0.104903        0.605853           0.394147"
      ]
     },
     "execution_count": 14,
     "metadata": {},
     "output_type": "execute_result"
    }
   ],
   "source": [
    "portfolios  = pd.DataFrame(data)\n",
    "portfolios.head() # Dataframe of the 10000 portfolios created"
   ]
  },
  {
   "cell_type": "code",
   "execution_count": 15,
   "metadata": {},
   "outputs": [
    {
     "data": {
      "text/plain": [
       "<matplotlib.axes._subplots.AxesSubplot at 0x2261178ed68>"
      ]
     },
     "execution_count": 15,
     "metadata": {},
     "output_type": "execute_result"
    },
    {
     "data": {
      "image/png": "[encoded data removed]",
      "text/plain": [
       "<Figure size 720x720 with 1 Axes>"
      ]
     },
     "metadata": {
      "needs_background": "light"
     },
     "output_type": "display_data"
    }
   ],
   "source": [
    "# Plot efficient frontier\n",
    "portfolios.plot.scatter(x='Volatility', y='Returns', marker='o', s=10, alpha=0.3, grid=True, figsize=[10,10])"
   ]
  },
  {
   "cell_type": "code",
   "execution_count": 16,
   "metadata": {},
   "outputs": [
    {
     "data": {
      "text/plain": [
       "Returns              0.077255\n",
       "Volatility           0.093936\n",
       "0050.TW weight       0.408892\n",
       "00679B.TWO weight    0.591108\n",
       "Name: 909, dtype: float64"
      ]
     },
     "execution_count": 16,
     "metadata": {},
     "output_type": "execute_result"
    }
   ],
   "source": [
    "min_vol_port = portfolios.iloc[portfolios['Volatility'].idxmin()]\n",
    "# idxmin() gives us the minimum value in the column specified.                               \n",
    "min_vol_port"
   ]
  },
  {
   "cell_type": "code",
   "execution_count": 17,
   "metadata": {},
   "outputs": [
    {
     "data": {
      "text/plain": [
       "<matplotlib.collections.PathCollection at 0x226123d3860>"
      ]
     },
     "execution_count": 17,
     "metadata": {},
     "output_type": "execute_result"
    },
    {
     "data": {
      "image/png": "[encoded data removed]",
      "text/plain": [
       "<Figure size 720x720 with 1 Axes>"
      ]
     },
     "metadata": {
      "needs_background": "light"
     },
     "output_type": "display_data"
    }
   ],
   "source": [
    "# plotting the minimum volatility portfolio\n",
    "plt.subplots(figsize=[10,10])\n",
    "plt.scatter(portfolios['Volatility'], portfolios['Returns'],marker='o', s=10, alpha=0.3)\n",
    "plt.scatter(min_vol_port[1], min_vol_port[0], color='r', marker='*', s=500)"
   ]
  },
  {
   "cell_type": "code",
   "execution_count": 22,
   "metadata": {},
   "outputs": [
    {
     "data": {
      "text/plain": [
       "Returns              0.127011\n",
       "Volatility           0.123897\n",
       "0050.TW weight       0.749616\n",
       "00679B.TWO weight    0.250384\n",
       "Name: 4504, dtype: float64"
      ]
     },
     "execution_count": 22,
     "metadata": {},
     "output_type": "execute_result"
    }
   ],
   "source": [
    "# Finding the optimal portfolio\n",
    "rf = 0.01 # risk factor\n",
    "optimal_risky_port = portfolios.iloc[((portfolios['Returns']-rf)/portfolios['Volatility']).idxmax()]\n",
    "optimal_risky_port"
   ]
  },
  {
   "cell_type": "code",
   "execution_count": 19,
   "metadata": {},
   "outputs": [
    {
     "data": {
      "text/plain": [
       "<matplotlib.collections.PathCollection at 0x226121d00f0>"
      ]
     },
     "execution_count": 19,
     "metadata": {},
     "output_type": "execute_result"
    },
    {
     "data": {
      "image/png": "[encoded data removed]",
      "text/plain": [
       "<Figure size 720x720 with 1 Axes>"
      ]
     },
     "metadata": {
      "needs_background": "light"
     },
     "output_type": "display_data"
    }
   ],
   "source": [
    "# Plotting optimal portfolio\n",
    "plt.subplots(figsize=(10, 10))\n",
    "plt.scatter(portfolios['Volatility'], portfolios['Returns'],marker='o', s=10, alpha=0.3)\n",
    "plt.scatter(min_vol_port[1], min_vol_port[0], color='r', marker='*', s=500)\n",
    "plt.scatter(optimal_risky_port[1], optimal_risky_port[0], color='g', marker='*', s=500)"
   ]
  },
  {
   "cell_type": "markdown",
   "metadata": {},
   "source": [
    "## 資產配置組合\n",
    "### Returns              0.127017\n",
    "### Volatility           0.123903\n",
    "### 0050.TW weight       0.749655\n",
    "### 00679B.TWO weight    0.250345"
   ]
  },
  {
   "cell_type": "code",
   "execution_count": 40,
   "metadata": {},
   "outputs": [
    {
     "data": {
      "text/html": [
       "<div>\n",
       "<style scoped>\n",
       "    .dataframe tbody tr th:only-of-type {\n",
       "        vertical-align: middle;\n",
       "    }\n",
       "\n",
       "    .dataframe tbody tr th {\n",
       "        vertical-align: top;\n",
       "    }\n",
       "\n",
       "    .dataframe thead th {\n",
       "        text-align: right;\n",
       "    }\n",
       "</style>\n",
       "<table border=\"1\" class=\"dataframe\">\n",
       "  <thead>\n",
       "    <tr style=\"text-align: right;\">\n",
       "      <th></th>\n",
       "      <th>Returns</th>\n",
       "      <th>Volatility</th>\n",
       "      <th>0050.TW weight</th>\n",
       "      <th>00679B.TWO weight</th>\n",
       "    </tr>\n",
       "  </thead>\n",
       "  <tbody>\n",
       "    <tr>\n",
       "      <th>1</th>\n",
       "      <td>0.136987</td>\n",
       "      <td>0.135018</td>\n",
       "      <td>0.817927</td>\n",
       "      <td>0.182073</td>\n",
       "    </tr>\n",
       "    <tr>\n",
       "      <th>14</th>\n",
       "      <td>0.143859</td>\n",
       "      <td>0.143245</td>\n",
       "      <td>0.864990</td>\n",
       "      <td>0.135010</td>\n",
       "    </tr>\n",
       "    <tr>\n",
       "      <th>16</th>\n",
       "      <td>0.158486</td>\n",
       "      <td>0.161925</td>\n",
       "      <td>0.965148</td>\n",
       "      <td>0.034852</td>\n",
       "    </tr>\n",
       "    <tr>\n",
       "      <th>45</th>\n",
       "      <td>0.155609</td>\n",
       "      <td>0.158144</td>\n",
       "      <td>0.945453</td>\n",
       "      <td>0.054547</td>\n",
       "    </tr>\n",
       "    <tr>\n",
       "      <th>47</th>\n",
       "      <td>0.161666</td>\n",
       "      <td>0.166159</td>\n",
       "      <td>0.986930</td>\n",
       "      <td>0.013070</td>\n",
       "    </tr>\n",
       "    <tr>\n",
       "      <th>65</th>\n",
       "      <td>0.136701</td>\n",
       "      <td>0.134686</td>\n",
       "      <td>0.815973</td>\n",
       "      <td>0.184027</td>\n",
       "    </tr>\n",
       "    <tr>\n",
       "      <th>68</th>\n",
       "      <td>0.152726</td>\n",
       "      <td>0.154403</td>\n",
       "      <td>0.925708</td>\n",
       "      <td>0.074292</td>\n",
       "    </tr>\n",
       "    <tr>\n",
       "      <th>78</th>\n",
       "      <td>0.161441</td>\n",
       "      <td>0.165857</td>\n",
       "      <td>0.985389</td>\n",
       "      <td>0.014611</td>\n",
       "    </tr>\n",
       "    <tr>\n",
       "      <th>86</th>\n",
       "      <td>0.143628</td>\n",
       "      <td>0.142961</td>\n",
       "      <td>0.863405</td>\n",
       "      <td>0.136595</td>\n",
       "    </tr>\n",
       "    <tr>\n",
       "      <th>108</th>\n",
       "      <td>0.146636</td>\n",
       "      <td>0.146679</td>\n",
       "      <td>0.884007</td>\n",
       "      <td>0.115993</td>\n",
       "    </tr>\n",
       "    <tr>\n",
       "      <th>110</th>\n",
       "      <td>0.157083</td>\n",
       "      <td>0.160076</td>\n",
       "      <td>0.955547</td>\n",
       "      <td>0.044453</td>\n",
       "    </tr>\n",
       "    <tr>\n",
       "      <th>111</th>\n",
       "      <td>0.160229</td>\n",
       "      <td>0.164239</td>\n",
       "      <td>0.977089</td>\n",
       "      <td>0.022911</td>\n",
       "    </tr>\n",
       "    <tr>\n",
       "      <th>114</th>\n",
       "      <td>0.155329</td>\n",
       "      <td>0.157778</td>\n",
       "      <td>0.943532</td>\n",
       "      <td>0.056468</td>\n",
       "    </tr>\n",
       "    <tr>\n",
       "      <th>118</th>\n",
       "      <td>0.153922</td>\n",
       "      <td>0.155949</td>\n",
       "      <td>0.933901</td>\n",
       "      <td>0.066099</td>\n",
       "    </tr>\n",
       "    <tr>\n",
       "      <th>129</th>\n",
       "      <td>0.151459</td>\n",
       "      <td>0.152775</td>\n",
       "      <td>0.917034</td>\n",
       "      <td>0.082966</td>\n",
       "    </tr>\n",
       "    <tr>\n",
       "      <th>131</th>\n",
       "      <td>0.161496</td>\n",
       "      <td>0.165931</td>\n",
       "      <td>0.985764</td>\n",
       "      <td>0.014236</td>\n",
       "    </tr>\n",
       "    <tr>\n",
       "      <th>137</th>\n",
       "      <td>0.150341</td>\n",
       "      <td>0.151347</td>\n",
       "      <td>0.909374</td>\n",
       "      <td>0.090626</td>\n",
       "    </tr>\n",
       "    <tr>\n",
       "      <th>140</th>\n",
       "      <td>0.135548</td>\n",
       "      <td>0.133350</td>\n",
       "      <td>0.808075</td>\n",
       "      <td>0.191925</td>\n",
       "    </tr>\n",
       "    <tr>\n",
       "      <th>147</th>\n",
       "      <td>0.143980</td>\n",
       "      <td>0.143393</td>\n",
       "      <td>0.865819</td>\n",
       "      <td>0.134181</td>\n",
       "    </tr>\n",
       "    <tr>\n",
       "      <th>162</th>\n",
       "      <td>0.135156</td>\n",
       "      <td>0.132899</td>\n",
       "      <td>0.805387</td>\n",
       "      <td>0.194613</td>\n",
       "    </tr>\n",
       "    <tr>\n",
       "      <th>163</th>\n",
       "      <td>0.145878</td>\n",
       "      <td>0.145735</td>\n",
       "      <td>0.878813</td>\n",
       "      <td>0.121187</td>\n",
       "    </tr>\n",
       "    <tr>\n",
       "      <th>165</th>\n",
       "      <td>0.148638</td>\n",
       "      <td>0.149189</td>\n",
       "      <td>0.897713</td>\n",
       "      <td>0.102287</td>\n",
       "    </tr>\n",
       "    <tr>\n",
       "      <th>167</th>\n",
       "      <td>0.148699</td>\n",
       "      <td>0.149267</td>\n",
       "      <td>0.898134</td>\n",
       "      <td>0.101866</td>\n",
       "    </tr>\n",
       "    <tr>\n",
       "      <th>178</th>\n",
       "      <td>0.160099</td>\n",
       "      <td>0.164065</td>\n",
       "      <td>0.976194</td>\n",
       "      <td>0.023806</td>\n",
       "    </tr>\n",
       "    <tr>\n",
       "      <th>198</th>\n",
       "      <td>0.163035</td>\n",
       "      <td>0.167997</td>\n",
       "      <td>0.996303</td>\n",
       "      <td>0.003697</td>\n",
       "    </tr>\n",
       "    <tr>\n",
       "      <th>218</th>\n",
       "      <td>0.156175</td>\n",
       "      <td>0.158883</td>\n",
       "      <td>0.949324</td>\n",
       "      <td>0.050676</td>\n",
       "    </tr>\n",
       "    <tr>\n",
       "      <th>220</th>\n",
       "      <td>0.148818</td>\n",
       "      <td>0.149416</td>\n",
       "      <td>0.898944</td>\n",
       "      <td>0.101056</td>\n",
       "    </tr>\n",
       "    <tr>\n",
       "      <th>234</th>\n",
       "      <td>0.152303</td>\n",
       "      <td>0.153858</td>\n",
       "      <td>0.922811</td>\n",
       "      <td>0.077189</td>\n",
       "    </tr>\n",
       "    <tr>\n",
       "      <th>241</th>\n",
       "      <td>0.142509</td>\n",
       "      <td>0.141596</td>\n",
       "      <td>0.855741</td>\n",
       "      <td>0.144259</td>\n",
       "    </tr>\n",
       "    <tr>\n",
       "      <th>257</th>\n",
       "      <td>0.151346</td>\n",
       "      <td>0.152630</td>\n",
       "      <td>0.916256</td>\n",
       "      <td>0.083744</td>\n",
       "    </tr>\n",
       "    <tr>\n",
       "      <th>...</th>\n",
       "      <td>...</td>\n",
       "      <td>...</td>\n",
       "      <td>...</td>\n",
       "      <td>...</td>\n",
       "    </tr>\n",
       "    <tr>\n",
       "      <th>9837</th>\n",
       "      <td>0.141343</td>\n",
       "      <td>0.140186</td>\n",
       "      <td>0.847761</td>\n",
       "      <td>0.152239</td>\n",
       "    </tr>\n",
       "    <tr>\n",
       "      <th>9838</th>\n",
       "      <td>0.139717</td>\n",
       "      <td>0.138237</td>\n",
       "      <td>0.836622</td>\n",
       "      <td>0.163378</td>\n",
       "    </tr>\n",
       "    <tr>\n",
       "      <th>9851</th>\n",
       "      <td>0.136575</td>\n",
       "      <td>0.134539</td>\n",
       "      <td>0.815108</td>\n",
       "      <td>0.184892</td>\n",
       "    </tr>\n",
       "    <tr>\n",
       "      <th>9866</th>\n",
       "      <td>0.135600</td>\n",
       "      <td>0.133410</td>\n",
       "      <td>0.808434</td>\n",
       "      <td>0.191566</td>\n",
       "    </tr>\n",
       "    <tr>\n",
       "      <th>9871</th>\n",
       "      <td>0.162627</td>\n",
       "      <td>0.167447</td>\n",
       "      <td>0.993505</td>\n",
       "      <td>0.006495</td>\n",
       "    </tr>\n",
       "    <tr>\n",
       "      <th>9872</th>\n",
       "      <td>0.154814</td>\n",
       "      <td>0.157107</td>\n",
       "      <td>0.940007</td>\n",
       "      <td>0.059993</td>\n",
       "    </tr>\n",
       "    <tr>\n",
       "      <th>9873</th>\n",
       "      <td>0.152381</td>\n",
       "      <td>0.153959</td>\n",
       "      <td>0.923347</td>\n",
       "      <td>0.076653</td>\n",
       "    </tr>\n",
       "    <tr>\n",
       "      <th>9878</th>\n",
       "      <td>0.136693</td>\n",
       "      <td>0.134676</td>\n",
       "      <td>0.815916</td>\n",
       "      <td>0.184084</td>\n",
       "    </tr>\n",
       "    <tr>\n",
       "      <th>9880</th>\n",
       "      <td>0.154581</td>\n",
       "      <td>0.156803</td>\n",
       "      <td>0.938408</td>\n",
       "      <td>0.061592</td>\n",
       "    </tr>\n",
       "    <tr>\n",
       "      <th>9886</th>\n",
       "      <td>0.140159</td>\n",
       "      <td>0.138765</td>\n",
       "      <td>0.839652</td>\n",
       "      <td>0.160348</td>\n",
       "    </tr>\n",
       "    <tr>\n",
       "      <th>9889</th>\n",
       "      <td>0.152715</td>\n",
       "      <td>0.154388</td>\n",
       "      <td>0.925629</td>\n",
       "      <td>0.074371</td>\n",
       "    </tr>\n",
       "    <tr>\n",
       "      <th>9899</th>\n",
       "      <td>0.151104</td>\n",
       "      <td>0.152321</td>\n",
       "      <td>0.914603</td>\n",
       "      <td>0.085397</td>\n",
       "    </tr>\n",
       "    <tr>\n",
       "      <th>9900</th>\n",
       "      <td>0.135514</td>\n",
       "      <td>0.133311</td>\n",
       "      <td>0.807840</td>\n",
       "      <td>0.192160</td>\n",
       "    </tr>\n",
       "    <tr>\n",
       "      <th>9904</th>\n",
       "      <td>0.140694</td>\n",
       "      <td>0.139405</td>\n",
       "      <td>0.843316</td>\n",
       "      <td>0.156684</td>\n",
       "    </tr>\n",
       "    <tr>\n",
       "      <th>9905</th>\n",
       "      <td>0.144119</td>\n",
       "      <td>0.143563</td>\n",
       "      <td>0.866770</td>\n",
       "      <td>0.133230</td>\n",
       "    </tr>\n",
       "    <tr>\n",
       "      <th>9909</th>\n",
       "      <td>0.149379</td>\n",
       "      <td>0.150125</td>\n",
       "      <td>0.902785</td>\n",
       "      <td>0.097215</td>\n",
       "    </tr>\n",
       "    <tr>\n",
       "      <th>9913</th>\n",
       "      <td>0.153386</td>\n",
       "      <td>0.155255</td>\n",
       "      <td>0.930229</td>\n",
       "      <td>0.069771</td>\n",
       "    </tr>\n",
       "    <tr>\n",
       "      <th>9931</th>\n",
       "      <td>0.156136</td>\n",
       "      <td>0.158833</td>\n",
       "      <td>0.949060</td>\n",
       "      <td>0.050940</td>\n",
       "    </tr>\n",
       "    <tr>\n",
       "      <th>9933</th>\n",
       "      <td>0.159025</td>\n",
       "      <td>0.162639</td>\n",
       "      <td>0.968845</td>\n",
       "      <td>0.031155</td>\n",
       "    </tr>\n",
       "    <tr>\n",
       "      <th>9938</th>\n",
       "      <td>0.134933</td>\n",
       "      <td>0.132643</td>\n",
       "      <td>0.803863</td>\n",
       "      <td>0.196137</td>\n",
       "    </tr>\n",
       "    <tr>\n",
       "      <th>9944</th>\n",
       "      <td>0.145184</td>\n",
       "      <td>0.144875</td>\n",
       "      <td>0.874059</td>\n",
       "      <td>0.125941</td>\n",
       "    </tr>\n",
       "    <tr>\n",
       "      <th>9952</th>\n",
       "      <td>0.150515</td>\n",
       "      <td>0.151569</td>\n",
       "      <td>0.910568</td>\n",
       "      <td>0.089432</td>\n",
       "    </tr>\n",
       "    <tr>\n",
       "      <th>9954</th>\n",
       "      <td>0.150849</td>\n",
       "      <td>0.151995</td>\n",
       "      <td>0.912855</td>\n",
       "      <td>0.087145</td>\n",
       "    </tr>\n",
       "    <tr>\n",
       "      <th>9955</th>\n",
       "      <td>0.145119</td>\n",
       "      <td>0.144795</td>\n",
       "      <td>0.873616</td>\n",
       "      <td>0.126384</td>\n",
       "    </tr>\n",
       "    <tr>\n",
       "      <th>9966</th>\n",
       "      <td>0.161293</td>\n",
       "      <td>0.165659</td>\n",
       "      <td>0.984374</td>\n",
       "      <td>0.015626</td>\n",
       "    </tr>\n",
       "    <tr>\n",
       "      <th>9982</th>\n",
       "      <td>0.137910</td>\n",
       "      <td>0.136100</td>\n",
       "      <td>0.824252</td>\n",
       "      <td>0.175748</td>\n",
       "    </tr>\n",
       "    <tr>\n",
       "      <th>9983</th>\n",
       "      <td>0.162204</td>\n",
       "      <td>0.166879</td>\n",
       "      <td>0.990611</td>\n",
       "      <td>0.009389</td>\n",
       "    </tr>\n",
       "    <tr>\n",
       "      <th>9986</th>\n",
       "      <td>0.153327</td>\n",
       "      <td>0.155178</td>\n",
       "      <td>0.929822</td>\n",
       "      <td>0.070178</td>\n",
       "    </tr>\n",
       "    <tr>\n",
       "      <th>9990</th>\n",
       "      <td>0.158676</td>\n",
       "      <td>0.162177</td>\n",
       "      <td>0.966453</td>\n",
       "      <td>0.033547</td>\n",
       "    </tr>\n",
       "    <tr>\n",
       "      <th>9994</th>\n",
       "      <td>0.153330</td>\n",
       "      <td>0.155182</td>\n",
       "      <td>0.929844</td>\n",
       "      <td>0.070156</td>\n",
       "    </tr>\n",
       "  </tbody>\n",
       "</table>\n",
       "<p>1248 rows × 4 columns</p>\n",
       "</div>"
      ],
      "text/plain": [
       "       Returns  Volatility  0050.TW weight  00679B.TWO weight\n",
       "1     0.136987    0.135018        0.817927           0.182073\n",
       "14    0.143859    0.143245        0.864990           0.135010\n",
       "16    0.158486    0.161925        0.965148           0.034852\n",
       "45    0.155609    0.158144        0.945453           0.054547\n",
       "47    0.161666    0.166159        0.986930           0.013070\n",
       "65    0.136701    0.134686        0.815973           0.184027\n",
       "68    0.152726    0.154403        0.925708           0.074292\n",
       "78    0.161441    0.165857        0.985389           0.014611\n",
       "86    0.143628    0.142961        0.863405           0.136595\n",
       "108   0.146636    0.146679        0.884007           0.115993\n",
       "110   0.157083    0.160076        0.955547           0.044453\n",
       "111   0.160229    0.164239        0.977089           0.022911\n",
       "114   0.155329    0.157778        0.943532           0.056468\n",
       "118   0.153922    0.155949        0.933901           0.066099\n",
       "129   0.151459    0.152775        0.917034           0.082966\n",
       "131   0.161496    0.165931        0.985764           0.014236\n",
       "137   0.150341    0.151347        0.909374           0.090626\n",
       "140   0.135548    0.133350        0.808075           0.191925\n",
       "147   0.143980    0.143393        0.865819           0.134181\n",
       "162   0.135156    0.132899        0.805387           0.194613\n",
       "163   0.145878    0.145735        0.878813           0.121187\n",
       "165   0.148638    0.149189        0.897713           0.102287\n",
       "167   0.148699    0.149267        0.898134           0.101866\n",
       "178   0.160099    0.164065        0.976194           0.023806\n",
       "198   0.163035    0.167997        0.996303           0.003697\n",
       "218   0.156175    0.158883        0.949324           0.050676\n",
       "220   0.148818    0.149416        0.898944           0.101056\n",
       "234   0.152303    0.153858        0.922811           0.077189\n",
       "241   0.142509    0.141596        0.855741           0.144259\n",
       "257   0.151346    0.152630        0.916256           0.083744\n",
       "...        ...         ...             ...                ...\n",
       "9837  0.141343    0.140186        0.847761           0.152239\n",
       "9838  0.139717    0.138237        0.836622           0.163378\n",
       "9851  0.136575    0.134539        0.815108           0.184892\n",
       "9866  0.135600    0.133410        0.808434           0.191566\n",
       "9871  0.162627    0.167447        0.993505           0.006495\n",
       "9872  0.154814    0.157107        0.940007           0.059993\n",
       "9873  0.152381    0.153959        0.923347           0.076653\n",
       "9878  0.136693    0.134676        0.815916           0.184084\n",
       "9880  0.154581    0.156803        0.938408           0.061592\n",
       "9886  0.140159    0.138765        0.839652           0.160348\n",
       "9889  0.152715    0.154388        0.925629           0.074371\n",
       "9899  0.151104    0.152321        0.914603           0.085397\n",
       "9900  0.135514    0.133311        0.807840           0.192160\n",
       "9904  0.140694    0.139405        0.843316           0.156684\n",
       "9905  0.144119    0.143563        0.866770           0.133230\n",
       "9909  0.149379    0.150125        0.902785           0.097215\n",
       "9913  0.153386    0.155255        0.930229           0.069771\n",
       "9931  0.156136    0.158833        0.949060           0.050940\n",
       "9933  0.159025    0.162639        0.968845           0.031155\n",
       "9938  0.134933    0.132643        0.803863           0.196137\n",
       "9944  0.145184    0.144875        0.874059           0.125941\n",
       "9952  0.150515    0.151569        0.910568           0.089432\n",
       "9954  0.150849    0.151995        0.912855           0.087145\n",
       "9955  0.145119    0.144795        0.873616           0.126384\n",
       "9966  0.161293    0.165659        0.984374           0.015626\n",
       "9982  0.137910    0.136100        0.824252           0.175748\n",
       "9983  0.162204    0.166879        0.990611           0.009389\n",
       "9986  0.153327    0.155178        0.929822           0.070178\n",
       "9990  0.158676    0.162177        0.966453           0.033547\n",
       "9994  0.153330    0.155182        0.929844           0.070156\n",
       "\n",
       "[1248 rows x 4 columns]"
      ]
     },
     "execution_count": 40,
     "metadata": {},
     "output_type": "execute_result"
    }
   ],
   "source": [
    "portfolios[portfolios['0050.TW weight']>0.8]"
   ]
  },
  {
   "cell_type": "code",
   "execution_count": 51,
   "metadata": {},
   "outputs": [
    {
     "data": {
      "text/html": [
       "<div>\n",
       "<style scoped>\n",
       "    .dataframe tbody tr th:only-of-type {\n",
       "        vertical-align: middle;\n",
       "    }\n",
       "\n",
       "    .dataframe tbody tr th {\n",
       "        vertical-align: top;\n",
       "    }\n",
       "\n",
       "    .dataframe thead th {\n",
       "        text-align: right;\n",
       "    }\n",
       "</style>\n",
       "<table border=\"1\" class=\"dataframe\">\n",
       "  <thead>\n",
       "    <tr style=\"text-align: right;\">\n",
       "      <th></th>\n",
       "      <th>Returns</th>\n",
       "      <th>Volatility</th>\n",
       "      <th>0050.TW weight</th>\n",
       "      <th>00679B.TWO weight</th>\n",
       "    </tr>\n",
       "  </thead>\n",
       "  <tbody>\n",
       "    <tr>\n",
       "      <th>2644</th>\n",
       "      <td>0.046796</td>\n",
       "      <td>0.106161</td>\n",
       "      <td>0.200312</td>\n",
       "      <td>0.799688</td>\n",
       "    </tr>\n",
       "    <tr>\n",
       "      <th>2769</th>\n",
       "      <td>0.046768</td>\n",
       "      <td>0.106182</td>\n",
       "      <td>0.200122</td>\n",
       "      <td>0.799878</td>\n",
       "    </tr>\n",
       "    <tr>\n",
       "      <th>3435</th>\n",
       "      <td>0.046824</td>\n",
       "      <td>0.106140</td>\n",
       "      <td>0.200505</td>\n",
       "      <td>0.799495</td>\n",
       "    </tr>\n",
       "  </tbody>\n",
       "</table>\n",
       "</div>"
      ],
      "text/plain": [
       "       Returns  Volatility  0050.TW weight  00679B.TWO weight\n",
       "2644  0.046796    0.106161        0.200312           0.799688\n",
       "2769  0.046768    0.106182        0.200122           0.799878\n",
       "3435  0.046824    0.106140        0.200505           0.799495"
      ]
     },
     "execution_count": 51,
     "metadata": {},
     "output_type": "execute_result"
    }
   ],
   "source": [
    "portfolios[(portfolios['0050.TW weight'] >0.2) & (portfolios['0050.TW weight'] <0.201)]"
   ]
  },
  {
   "cell_type": "code",
   "execution_count": 33,
   "metadata": {},
   "outputs": [
    {
     "data": {
      "text/plain": [
       "0       False\n",
       "1       False\n",
       "2        True\n",
       "3        True\n",
       "4       False\n",
       "5       False\n",
       "6        True\n",
       "7        True\n",
       "8       False\n",
       "9        True\n",
       "10       True\n",
       "11       True\n",
       "12      False\n",
       "13       True\n",
       "14      False\n",
       "15       True\n",
       "16      False\n",
       "17       True\n",
       "18       True\n",
       "19      False\n",
       "20       True\n",
       "21      False\n",
       "22      False\n",
       "23       True\n",
       "24       True\n",
       "25       True\n",
       "26       True\n",
       "27      False\n",
       "28      False\n",
       "29       True\n",
       "        ...  \n",
       "9970     True\n",
       "9971     True\n",
       "9972     True\n",
       "9973    False\n",
       "9974     True\n",
       "9975     True\n",
       "9976     True\n",
       "9977     True\n",
       "9978    False\n",
       "9979     True\n",
       "9980    False\n",
       "9981    False\n",
       "9982    False\n",
       "9983    False\n",
       "9984     True\n",
       "9985     True\n",
       "9986    False\n",
       "9987     True\n",
       "9988     True\n",
       "9989    False\n",
       "9990    False\n",
       "9991    False\n",
       "9992     True\n",
       "9993    False\n",
       "9994    False\n",
       "9995     True\n",
       "9996     True\n",
       "9997    False\n",
       "9998     True\n",
       "9999    False\n",
       "Name: 0050.TW weight, Length: 10000, dtype: bool"
      ]
     },
     "execution_count": 33,
     "metadata": {},
     "output_type": "execute_result"
    }
   ],
   "source": [
    "portfolios['0050.TW weight'] <0.55"
   ]
  },
  {
   "cell_type": "code",
   "execution_count": null,
   "metadata": {},
   "outputs": [],
   "source": []
  }
 ],
 "metadata": {
  "kernelspec": {
   "display_name": "Python 3",
   "language": "python",
   "name": "python3"
  },
  "language_info": {
   "codemirror_mode": {
    "name": "ipython",
    "version": 3
   },
   "file_extension": ".py",
   "mimetype": "text/x-python",
   "name": "python",
   "nbconvert_exporter": "python",
   "pygments_lexer": "ipython3",
   "version": "3.7.3"
  }
 },
 "nbformat": 4,
 "nbformat_minor": 2
}
